{
 "cells": [
  {
   "cell_type": "code",
   "execution_count": 1,
   "id": "c981ce7b-e755-47d0-a8e8-ac9fd6c36bfa",
   "metadata": {},
   "outputs": [
    {
     "name": "stdout",
     "output_type": "stream",
     "text": [
      "?\n"
     ]
    }
   ],
   "source": [
    "import sys\n",
    "sys.stdin=open(\"./Input.txt\")\n",
    "\n",
    "a=sys.stdin.readline().upper()\n",
    "wordlist=list(set(a))\n",
    "wordcount=list()\n",
    "for i in wordlist:\n",
    "    wordcount.append(a.count(i))\n",
    "\n",
    "max_index= list(filter(lambda x: wordcount[x] == max(wordcount), range(len(wordcount))))\\\n",
    "\n",
    "if len(max_index)==1:\n",
    "    print(wordlist[max_index[0]])\n",
    "else:\n",
    "    print(\"?\")"
   ]
  },
  {
   "cell_type": "code",
   "execution_count": 2,
   "id": "de165637-d78b-445f-8a6c-53f31e0d3e9b",
   "metadata": {},
   "outputs": [
    {
     "name": "stdout",
     "output_type": "stream",
     "text": [
      "?\n"
     ]
    }
   ],
   "source": [
    "word = sys.stdin.readline().upper()\n",
    "cnt = [word.count(chr(i)) for i in range(65,91)] # chr(65) ~ chr(91) == A ~ Z\n",
    "print('?' if cnt.count(max(cnt))>1 else chr(cnt.index(max(cnt))+65))"
   ]
  },
  {
   "cell_type": "markdown",
   "id": "b637bb3b-7090-4d34-b7bd-715095edb69b",
   "metadata": {},
   "source": [
    "<h6> chr()는 아스키코드를 문자열로 변환하는 함수  chr(65) ==> A\n",
    "<h6> ord()는 문자열을 아스키코드로 변환하는 함수  ord(A) ==> 65\n",
    "<h6> 아스키코드는 7비트 인코딩으로 0~127까지의 수자를 문자로 대응시킨 것이다"
   ]
  }
 ],
 "metadata": {
  "kernelspec": {
   "display_name": "Python 3",
   "language": "python",
   "name": "python3"
  },
  "language_info": {
   "codemirror_mode": {
    "name": "ipython",
    "version": 3
   },
   "file_extension": ".py",
   "mimetype": "text/x-python",
   "name": "python",
   "nbconvert_exporter": "python",
   "pygments_lexer": "ipython3",
   "version": "3.8.8"
  }
 },
 "nbformat": 4,
 "nbformat_minor": 5
}
