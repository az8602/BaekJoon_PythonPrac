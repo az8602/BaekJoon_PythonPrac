{
 "cells": [
  {
   "cell_type": "code",
   "execution_count": 1,
   "id": "8474b38a-5455-4e68-aebf-f556970aea1c",
   "metadata": {},
   "outputs": [
    {
     "name": "stdout",
     "output_type": "stream",
     "text": [
      "10\n"
     ]
    }
   ],
   "source": [
    "import sys\n",
    "sys.stdin=open(\"./Input.txt\")\n",
    "\n",
    "L=list()\n",
    "for x in range(10):\n",
    "    A=int(sys.stdin.readline())\n",
    "    L.append(A%42)\n",
    "    \n",
    "print(len(set(L)))"
   ]
  }
 ],
 "metadata": {
  "kernelspec": {
   "display_name": "Python 3",
   "language": "python",
   "name": "python3"
  },
  "language_info": {
   "codemirror_mode": {
    "name": "ipython",
    "version": 3
   },
   "file_extension": ".py",
   "mimetype": "text/x-python",
   "name": "python",
   "nbconvert_exporter": "python",
   "pygments_lexer": "ipython3",
   "version": "3.8.8"
  }
 },
 "nbformat": 4,
 "nbformat_minor": 5
}
