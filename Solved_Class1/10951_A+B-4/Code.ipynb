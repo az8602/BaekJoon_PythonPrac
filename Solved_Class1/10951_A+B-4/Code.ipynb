{
 "cells": [
  {
   "cell_type": "code",
   "execution_count": 1,
   "id": "fcdf3af3-d2a3-4386-bc16-c7cd01dccf11",
   "metadata": {},
   "outputs": [
    {
     "name": "stdout",
     "output_type": "stream",
     "text": [
      "5\n",
      "6\n",
      "5\n"
     ]
    }
   ],
   "source": [
    "import sys\n",
    "sys.stdin=open(\"./Input.txt\")\n",
    "\n",
    "while True:\n",
    "    try:\n",
    "        A, B= map(int,sys.stdin.readline().split())\n",
    "        print(A+B)\n",
    "    except:\n",
    "        break"
   ]
  },
  {
   "cell_type": "markdown",
   "id": "618040b1-2cad-4c09-ba54-2b06d39a96a7",
   "metadata": {},
   "source": [
    "EOF : End of File로 이 문제에선 input개수가 주어져 있지 않으므로 위와 같은 식으로 구현하게 된다.\n",
    "\n",
    "이는 input이 A,B로 들어와야 하는데 엔터(파일이 끝남)을 하면 에러가 발생헤 except구문으로 빠지게 된다.\n",
    "\n",
    "https://www.acmicpc.net/board/view/28332 를 참고하자"
   ]
  }
 ],
 "metadata": {
  "kernelspec": {
   "display_name": "Python 3",
   "language": "python",
   "name": "python3"
  },
  "language_info": {
   "codemirror_mode": {
    "name": "ipython",
    "version": 3
   },
   "file_extension": ".py",
   "mimetype": "text/x-python",
   "name": "python",
   "nbconvert_exporter": "python",
   "pygments_lexer": "ipython3",
   "version": "3.8.8"
  }
 },
 "nbformat": 4,
 "nbformat_minor": 5
}
