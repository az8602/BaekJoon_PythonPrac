{
 "cells": [
  {
   "cell_type": "code",
   "execution_count": 1,
   "id": "4bc9ee1c-810c-4c26-98d6-08df0d14ff36",
   "metadata": {},
   "outputs": [
    {
     "name": "stdout",
     "output_type": "stream",
     "text": [
      "10\n",
      "9\n",
      "7\n",
      "55\n",
      "30\n"
     ]
    }
   ],
   "source": [
    "import sys\n",
    "sys.stdin=open(\"./Input.txt\")\n",
    "\n",
    "N=int(sys.stdin.readline())\n",
    "\n",
    "for x in range(N):\n",
    "    OX=sys.stdin.readline()\n",
    "    sum=0\n",
    "    mid_score=0\n",
    "    for j in OX:\n",
    "        if j==\"O\":\n",
    "            mid_score+=1\n",
    "            sum+=mid_score\n",
    "        else:\n",
    "            mid_score=0\n",
    "    print(sum)"
   ]
  }
 ],
 "metadata": {
  "kernelspec": {
   "display_name": "Python 3",
   "language": "python",
   "name": "python3"
  },
  "language_info": {
   "codemirror_mode": {
    "name": "ipython",
    "version": 3
   },
   "file_extension": ".py",
   "mimetype": "text/x-python",
   "name": "python",
   "nbconvert_exporter": "python",
   "pygments_lexer": "ipython3",
   "version": "3.8.8"
  }
 },
 "nbformat": 4,
 "nbformat_minor": 5
}
