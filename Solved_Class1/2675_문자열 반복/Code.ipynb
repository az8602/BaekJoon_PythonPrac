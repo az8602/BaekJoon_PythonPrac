{
 "cells": [
  {
   "cell_type": "code",
   "execution_count": 1,
   "id": "3355c653-6dfa-4404-97a7-599c2883c2ee",
   "metadata": {},
   "outputs": [
    {
     "name": "stdout",
     "output_type": "stream",
     "text": [
      "AAABBBCCC\n",
      "/////HHHHHTTTTTPPPPP\n"
     ]
    }
   ],
   "source": [
    "import sys\n",
    "sys.stdin = open('./Input.txt')\n",
    "\n",
    "T=int(sys.stdin.readline())\n",
    "\n",
    "for x in range(0,T):\n",
    "    R,S=sys.stdin.readline().split()\n",
    "    for y in S:\n",
    "        print(y*int(R),end=\"\")\n",
    "    print(\"\")\n",
    "    \n",
    "# 마지막에 print(\"\")를 안해서 틀렸다. --> 출력 상에선 입력을 2번받으므로 사용 가능, but 개행이 없다는 것을 숙지하자"
   ]
  }
 ],
 "metadata": {
  "kernelspec": {
   "display_name": "Python 3",
   "language": "python",
   "name": "python3"
  },
  "language_info": {
   "codemirror_mode": {
    "name": "ipython",
    "version": 3
   },
   "file_extension": ".py",
   "mimetype": "text/x-python",
   "name": "python",
   "nbconvert_exporter": "python",
   "pygments_lexer": "ipython3",
   "version": "3.8.8"
  }
 },
 "nbformat": 4,
 "nbformat_minor": 5
}
