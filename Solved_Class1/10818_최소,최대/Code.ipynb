{
 "cells": [
  {
   "cell_type": "code",
   "execution_count": 1,
   "id": "acf1f1a2-1192-4c7c-9dea-d23b313fee43",
   "metadata": {},
   "outputs": [
    {
     "name": "stdout",
     "output_type": "stream",
     "text": [
      "7 35\n"
     ]
    }
   ],
   "source": [
    "import sys\n",
    "sys.stdin=open(\"./Input.txt\")\n",
    "\n",
    "N=int(sys.stdin.readline())\n",
    "Numbers=list(map(int,sys.stdin.readline().split()))\n",
    "\n",
    "print(min(Numbers),max(Numbers))"
   ]
  },
  {
   "cell_type": "markdown",
   "id": "56699754-7842-4e00-9b4e-dd213c5dbdcd",
   "metadata": {},
   "source": [
    "https://www.itworld.co.kr/news/142374 를 참고하자"
   ]
  }
 ],
 "metadata": {
  "kernelspec": {
   "display_name": "Python 3",
   "language": "python",
   "name": "python3"
  },
  "language_info": {
   "codemirror_mode": {
    "name": "ipython",
    "version": 3
   },
   "file_extension": ".py",
   "mimetype": "text/x-python",
   "name": "python",
   "nbconvert_exporter": "python",
   "pygments_lexer": "ipython3",
   "version": "3.8.8"
  }
 },
 "nbformat": 4,
 "nbformat_minor": 5
}
