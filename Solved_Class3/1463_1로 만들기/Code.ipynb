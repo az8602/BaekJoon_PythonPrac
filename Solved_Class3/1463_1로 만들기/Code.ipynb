{
 "cells": [
  {
   "cell_type": "code",
   "execution_count": 1,
   "id": "b4677f99-d997-4b69-ad8e-a81fafb431fe",
   "metadata": {},
   "outputs": [
    {
     "name": "stdout",
     "output_type": "stream",
     "text": [
      "11\n"
     ]
    }
   ],
   "source": [
    "import sys\n",
    "sys.stdin=open(\"./Input.txt\")\n",
    "\n",
    "N=int(sys.stdin.readline())\n",
    "Nlist=[0,0,1,1]+[0]*(N-3)\n",
    "\n",
    "for i in range(4,N+1):\n",
    "    a=i\n",
    "    if i%6==0:\n",
    "        a=min(Nlist[i//3],Nlist[i//2])+1\n",
    "    elif i%3==0:\n",
    "        a=Nlist[i//3]+1\n",
    "    elif i%2==0:\n",
    "        a=Nlist[i//2]+1\n",
    "\n",
    "    b=Nlist[i-1]+1\n",
    "    Nlist[i]=min(a,b)\n",
    "    \n",
    "print(Nlist[N])"
   ]
  },
  {
   "cell_type": "markdown",
   "id": "97999298-cb6f-4d59-b9dd-158ad45b6daf",
   "metadata": {},
   "source": [
    "#### 무분별한 dict사용은 금물!"
   ]
  },
  {
   "cell_type": "code",
   "execution_count": 2,
   "id": "2b48a124-44d8-4798-8964-2783549ab2f6",
   "metadata": {},
   "outputs": [
    {
     "name": "stdout",
     "output_type": "stream",
     "text": [
      "11\n"
     ]
    }
   ],
   "source": [
    "import sys\n",
    "sys.stdin=open(\"./Input.txt\")\n",
    "\n",
    "N=int(sys.stdin.readline())\n",
    "Nlist=[0,0,1,1]+[0]*(N-3)\n",
    "Ndict={x:y for x,y in enumerate(Nlist)}\n",
    "\n",
    "for i in range(4,N+1):\n",
    "    a=i\n",
    "    if i%6==0:\n",
    "        a=min(Ndict[i//3],Ndict[i//2])+1\n",
    "    elif i%3==0:\n",
    "        a=Ndict[i//3]+1\n",
    "    elif i%2==0:\n",
    "        a=Ndict[i//2]+1\n",
    "        \n",
    "    b=Ndict[i-1]+1\n",
    "    Ndict[i]=min(a,b)\n",
    "    \n",
    "print(Ndict[N])"
   ]
  },
  {
   "cell_type": "markdown",
   "id": "0f7a229e-1be8-40cd-86df-208796642d68",
   "metadata": {},
   "source": [
    "#### 시간초과1"
   ]
  },
  {
   "cell_type": "code",
   "execution_count": 4,
   "id": "e2e66a03-ad0b-46eb-99f4-a86f09eb47b1",
   "metadata": {},
   "outputs": [
    {
     "name": "stdin",
     "output_type": "stream",
     "text": [
      " 10\n"
     ]
    },
    {
     "name": "stdout",
     "output_type": "stream",
     "text": [
      "3\n"
     ]
    }
   ],
   "source": [
    "import sys\n",
    "# sys.stdin=open(\"./Input.txt\")\n",
    "\n",
    "def makeone(x,n=0):\n",
    "    if x==2:\n",
    "        return n+1\n",
    "    elif x==3:\n",
    "        return n+1\n",
    "    else:\n",
    "        Nlist=list()\n",
    "        if x%3==0:\n",
    "            Nlist.append(makeone(x//3,n+1))\n",
    "        if x%2==0:\n",
    "            Nlist.append(makeone(x//2,n+1))\n",
    "        Nlist.append(makeone(x-1,n+1))\n",
    "        return min(Nlist)\n",
    "    \n",
    "print(makeone(int(input())))"
   ]
  }
 ],
 "metadata": {
  "kernelspec": {
   "display_name": "Python 3",
   "language": "python",
   "name": "python3"
  },
  "language_info": {
   "codemirror_mode": {
    "name": "ipython",
    "version": 3
   },
   "file_extension": ".py",
   "mimetype": "text/x-python",
   "name": "python",
   "nbconvert_exporter": "python",
   "pygments_lexer": "ipython3",
   "version": "3.8.8"
  }
 },
 "nbformat": 4,
 "nbformat_minor": 5
}
