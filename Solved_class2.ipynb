{
 "cells": [
  {
   "cell_type": "markdown",
   "id": "e4a7506e-5c8a-4140-b83a-ce9451c65348",
   "metadata": {},
   "source": [
    "<h1> solved.ac Class2"
   ]
  },
  {
   "cell_type": "markdown",
   "id": "c6326f90-35d0-40c0-92e8-6cd64a8ccd22",
   "metadata": {},
   "source": [
    "<h3> 1018 체스판 다시 칠하기"
   ]
  },
  {
   "cell_type": "code",
   "execution_count": 1,
   "id": "6530e90a-3eb5-44c6-a43c-7cfbb3ae479b",
   "metadata": {},
   "outputs": [
    {
     "name": "stdin",
     "output_type": "stream",
     "text": [
      " 10 13\n",
      " BBBBBBBBWBWBW\n",
      " BBBBBBBBBWBWB\n",
      " BBBBBBBBWBWBW\n",
      " BBBBBBBBBWBWB\n",
      " BBBBBBBBWBWBW\n",
      " BBBBBBBBBWBWB\n",
      " BBBBBBBBWBWBW\n",
      " BBBBBBBBBWBWB\n",
      " WWWWWWWWWWBWB\n",
      " WWWWWWWWWWBWB\n"
     ]
    },
    {
     "ename": "IndexError",
     "evalue": "string index out of range",
     "output_type": "error",
     "traceback": [
      "\u001b[1;31m---------------------------------------------------------------------------\u001b[0m",
      "\u001b[1;31mIndexError\u001b[0m                                Traceback (most recent call last)",
      "\u001b[1;32m<ipython-input-1-d6c92daef2f2>\u001b[0m in \u001b[0;36m<module>\u001b[1;34m\u001b[0m\n\u001b[0;32m     22\u001b[0m \u001b[1;33m\u001b[0m\u001b[0m\n\u001b[0;32m     23\u001b[0m         \u001b[1;32mfor\u001b[0m \u001b[0mi\u001b[0m \u001b[1;32min\u001b[0m \u001b[0mrange\u001b[0m\u001b[1;33m(\u001b[0m\u001b[1;36m0\u001b[0m\u001b[1;33m,\u001b[0m\u001b[0mlen\u001b[0m\u001b[1;33m(\u001b[0m\u001b[0mchess\u001b[0m\u001b[1;33m)\u001b[0m\u001b[1;33m)\u001b[0m\u001b[1;33m:\u001b[0m\u001b[1;33m\u001b[0m\u001b[1;33m\u001b[0m\u001b[0m\n\u001b[1;32m---> 24\u001b[1;33m             \u001b[1;32mif\u001b[0m \u001b[0mchess\u001b[0m\u001b[1;33m[\u001b[0m\u001b[0mi\u001b[0m\u001b[1;33m]\u001b[0m\u001b[1;33m==\u001b[0m\u001b[0mchess1\u001b[0m\u001b[1;33m[\u001b[0m\u001b[0mi\u001b[0m\u001b[1;33m]\u001b[0m\u001b[1;33m:\u001b[0m\u001b[1;33m\u001b[0m\u001b[1;33m\u001b[0m\u001b[0m\n\u001b[0m\u001b[0;32m     25\u001b[0m                 \u001b[0msum1\u001b[0m\u001b[1;33m-=\u001b[0m\u001b[1;36m1\u001b[0m\u001b[1;33m\u001b[0m\u001b[1;33m\u001b[0m\u001b[0m\n\u001b[0;32m     26\u001b[0m             \u001b[1;32mif\u001b[0m \u001b[0mchess\u001b[0m\u001b[1;33m[\u001b[0m\u001b[0mi\u001b[0m\u001b[1;33m]\u001b[0m\u001b[1;33m==\u001b[0m\u001b[0mchess2\u001b[0m\u001b[1;33m[\u001b[0m\u001b[0mi\u001b[0m\u001b[1;33m]\u001b[0m\u001b[1;33m:\u001b[0m\u001b[1;33m\u001b[0m\u001b[1;33m\u001b[0m\u001b[0m\n",
      "\u001b[1;31mIndexError\u001b[0m: string index out of range"
     ]
    }
   ],
   "source": [
    "m,n=map(int,input().split())\n",
    "\n",
    "mntable=list()\n",
    "\n",
    "chess1=\"WBWBWBWBBWBWBWBW\"*4\n",
    "chess2=\"BWBWBWBWWBWBWBWB\"*4\n",
    "\n",
    "for x in range(m):\n",
    "    mntable.append(input())\n",
    "\n",
    "min_list=list()\n",
    "\n",
    "for y in range(0,m-7):\n",
    "    for x in range(0,n-7):\n",
    "        \n",
    "        chess=\"\"\n",
    "        sum1=len(chess1)\n",
    "        sum2=len(chess2)\n",
    "        \n",
    "        for z in range(0,8):\n",
    "            chess+=mntable[x:x+8][y+z]\n",
    "        \n",
    "        for i in range(0,len(chess)):\n",
    "            if chess[i]==chess1[i]:\n",
    "                sum1-=1\n",
    "            if chess[i]==chess2[i]:\n",
    "                sum2-=1\n",
    "        min_list.append(min(sum1,sum2))\n",
    "            \n",
    "print(min(min_list))"
   ]
  },
  {
   "cell_type": "code",
   "execution_count": 2,
   "id": "d7193358-0765-49a1-9b2d-01e0f15c2197",
   "metadata": {},
   "outputs": [
    {
     "data": {
      "text/plain": [
       "'BBBBBBBBWBWBWBBBBBBBBBWBWBBBBBBBBBWBWBWBBBBBBBBBWBWBBBBBBBBBWBWBWBBBBBBBBBWBWBBBBBBBBBWBWBWBBBBBBBBBWBWB'"
      ]
     },
     "execution_count": 2,
     "metadata": {},
     "output_type": "execute_result"
    }
   ],
   "source": [
    "chess"
   ]
  },
  {
   "cell_type": "code",
   "execution_count": 3,
   "id": "1c3b2ab6-809c-4d56-b870-6248c71ca1fd",
   "metadata": {},
   "outputs": [
    {
     "data": {
      "text/plain": [
       "'WBWBWBWBBWBWBWBWWBWBWBWBBWBWBWBWWBWBWBWBBWBWBWBWWBWBWBWBBWBWBWBW'"
      ]
     },
     "execution_count": 3,
     "metadata": {},
     "output_type": "execute_result"
    }
   ],
   "source": [
    "chess1"
   ]
  },
  {
   "cell_type": "code",
   "execution_count": 4,
   "id": "c7624455-14b2-4c2a-ad24-89276a9f12fc",
   "metadata": {},
   "outputs": [
    {
     "data": {
      "text/plain": [
       "'BWBWBWBWWBWBWBWBBWBWBWBWWBWBWBWBBWBWBWBWWBWBWBWBBWBWBWBWWBWBWBWB'"
      ]
     },
     "execution_count": 4,
     "metadata": {},
     "output_type": "execute_result"
    }
   ],
   "source": [
    "chess2"
   ]
  },
  {
   "cell_type": "code",
   "execution_count": 5,
   "id": "1054e0d5-1b23-42d3-9e6b-16ba06adb3e6",
   "metadata": {},
   "outputs": [
    {
     "data": {
      "text/plain": [
       "[]"
      ]
     },
     "execution_count": 5,
     "metadata": {},
     "output_type": "execute_result"
    }
   ],
   "source": [
    "min_list"
   ]
  }
 ],
 "metadata": {
  "kernelspec": {
   "display_name": "Python 3",
   "language": "python",
   "name": "python3"
  },
  "language_info": {
   "codemirror_mode": {
    "name": "ipython",
    "version": 3
   },
   "file_extension": ".py",
   "mimetype": "text/x-python",
   "name": "python",
   "nbconvert_exporter": "python",
   "pygments_lexer": "ipython3",
   "version": "3.8.8"
  }
 },
 "nbformat": 4,
 "nbformat_minor": 5
}
