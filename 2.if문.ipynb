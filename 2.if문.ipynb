{
 "cells": [
  {
   "cell_type": "markdown",
   "id": "7c0eb8d3-c106-4003-a009-d3468917c352",
   "metadata": {},
   "source": [
    "<h1> if 문"
   ]
  },
  {
   "cell_type": "markdown",
   "id": "baf3d074-b684-46c7-a091-90c2396b458d",
   "metadata": {},
   "source": [
    "<h3> 1. 두 수 비교하기"
   ]
  },
  {
   "cell_type": "code",
   "execution_count": 1,
   "id": "30732e72-eb37-4e84-9ac4-0ab84cd4eeae",
   "metadata": {},
   "outputs": [
    {
     "name": "stdin",
     "output_type": "stream",
     "text": [
      " 1 5\n"
     ]
    },
    {
     "name": "stdout",
     "output_type": "stream",
     "text": [
      "<\n"
     ]
    }
   ],
   "source": [
    "a,b=map(int,input().split())\n",
    "if a>b:\n",
    "    print(\">\")\n",
    "elif a<b:\n",
    "    print(\"<\")\n",
    "else:\n",
    "    print(\"==\")"
   ]
  },
  {
   "cell_type": "code",
   "execution_count": 2,
   "id": "0078f28f-0018-4716-8089-a01a3cb013b3",
   "metadata": {},
   "outputs": [
    {
     "name": "stdin",
     "output_type": "stream",
     "text": [
      " 5 5\n"
     ]
    },
    {
     "name": "stdout",
     "output_type": "stream",
     "text": [
      "==\n"
     ]
    }
   ],
   "source": [
    "a,b=map(int,input().split());print(['><'[a<b],'=='][a==b]) # faster than previous code"
   ]
  },
  {
   "cell_type": "code",
   "execution_count": 3,
   "id": "2773a4bd-ddee-4adb-b318-e677aadafc6a",
   "metadata": {},
   "outputs": [
    {
     "name": "stdout",
     "output_type": "stream",
     "text": [
      "False\n",
      "True\n"
     ]
    }
   ],
   "source": [
    "print(2<1)\n",
    "print(1<2)"
   ]
  },
  {
   "cell_type": "code",
   "execution_count": 4,
   "id": "8d97fa84-000b-4c53-8e8d-99750ea261a9",
   "metadata": {},
   "outputs": [
    {
     "name": "stdout",
     "output_type": "stream",
     "text": [
      "<\n",
      ">\n"
     ]
    }
   ],
   "source": [
    "print('><'[True]) # 1\n",
    "print('><'[False]) # 0"
   ]
  },
  {
   "cell_type": "code",
   "execution_count": 5,
   "id": "93361979-5e7e-46dd-8d29-8c62c10e62f9",
   "metadata": {},
   "outputs": [
    {
     "data": {
      "text/plain": [
       "'><'"
      ]
     },
     "execution_count": 5,
     "metadata": {},
     "output_type": "execute_result"
    }
   ],
   "source": [
    "['><','=='][2<1]\n",
    "# \"><\" 와 \"==\"의 index가 0,1이므로 True, False로 indexing"
   ]
  },
  {
   "cell_type": "markdown",
   "id": "32e23657-d45a-4526-a2a0-173d0b737373",
   "metadata": {},
   "source": [
    "<h3> 2. 시험 성적"
   ]
  },
  {
   "cell_type": "code",
   "execution_count": 6,
   "id": "f9f1632b-c1c4-4da5-9ca5-bf222ab403f0",
   "metadata": {},
   "outputs": [
    {
     "name": "stdin",
     "output_type": "stream",
     "text": [
      " 95\n"
     ]
    },
    {
     "name": "stdout",
     "output_type": "stream",
     "text": [
      "A\n"
     ]
    }
   ],
   "source": [
    "a=int(input())\n",
    "\n",
    "if a>=90:\n",
    "    print(\"A\")\n",
    "elif a>=80:\n",
    "    print(\"B\")\n",
    "elif a>=70:\n",
    "    print(\"C\")\n",
    "elif a>=60:\n",
    "    print(\"D\")\n",
    "else:\n",
    "    print(\"F\")"
   ]
  },
  {
   "cell_type": "markdown",
   "id": "43c06ac8-8745-494b-83d1-14bca030dd6e",
   "metadata": {},
   "source": [
    "<h3> 3. 윤년"
   ]
  },
  {
   "cell_type": "code",
   "execution_count": 7,
   "id": "7de46231-a113-457a-a2f0-f2c251e3ce3c",
   "metadata": {},
   "outputs": [
    {
     "name": "stdin",
     "output_type": "stream",
     "text": [
      " 404\n"
     ]
    },
    {
     "name": "stdout",
     "output_type": "stream",
     "text": [
      "1\n"
     ]
    }
   ],
   "source": [
    "a=int(input())\n",
    "\n",
    "if (a%4==0 and a%100!=0) or a%400==0:\n",
    "    print(1)\n",
    "else:\n",
    "    print(0)"
   ]
  },
  {
   "cell_type": "markdown",
   "id": "d8e1ab5f-a2b7-49f5-b8c1-3f937701954c",
   "metadata": {},
   "source": [
    "<h6> python에서 &과 |는 비트연산자 이므로 논리 연산자를 사용할 때는 and 와 or을 사용하자"
   ]
  },
  {
   "cell_type": "markdown",
   "id": "756b55c8-08b8-46bf-97c0-95954725d715",
   "metadata": {},
   "source": [
    "<h3> 4. 사분면 고르기"
   ]
  },
  {
   "cell_type": "code",
   "execution_count": 9,
   "id": "7fb287aa-9ae6-4d9d-8e8a-6cc7e2ceb946",
   "metadata": {},
   "outputs": [
    {
     "name": "stdin",
     "output_type": "stream",
     "text": [
      " 12\n",
      " -5\n"
     ]
    },
    {
     "name": "stdout",
     "output_type": "stream",
     "text": [
      "4\n"
     ]
    }
   ],
   "source": [
    "x=int(input())\n",
    "y=int(input())\n",
    "\n",
    "if x*y>0:\n",
    "    if x>0:\n",
    "        print(1)\n",
    "    else :\n",
    "        print(3)\n",
    "else:\n",
    "    if x>0:\n",
    "        print(4)\n",
    "    else:\n",
    "        print(2)"
   ]
  },
  {
   "cell_type": "code",
   "execution_count": 10,
   "id": "3bd4399d-fcaa-4225-bd2f-b81ab59a16fd",
   "metadata": {},
   "outputs": [
    {
     "name": "stdin",
     "output_type": "stream",
     "text": [
      " 12 -5\n"
     ]
    },
    {
     "name": "stdout",
     "output_type": "stream",
     "text": [
      "4\n"
     ]
    }
   ],
   "source": [
    "a,b=map(int,input().split())\n",
    "print('3421'[a>0::2][b>0])"
   ]
  },
  {
   "cell_type": "markdown",
   "id": "dc7c69e8-156a-4668-b43c-309fcf2cd91d",
   "metadata": {},
   "source": [
    "<h6> slice 상세\n",
    "<h6> slice는 [start:stop:step]을 의미한다 따라서 [::2]을 하면 처음부터 2칸 간격으로 하게 된다."
   ]
  },
  {
   "cell_type": "markdown",
   "id": "dd94199f-2558-4838-a3fb-2963130f6795",
   "metadata": {},
   "source": [
    "<h3> 5. 알람 시계"
   ]
  },
  {
   "cell_type": "code",
   "execution_count": 11,
   "id": "25ceaeea-b5a6-4bdc-87c2-aa83913ae305",
   "metadata": {},
   "outputs": [
    {
     "name": "stdin",
     "output_type": "stream",
     "text": [
      " 0 43\n"
     ]
    },
    {
     "name": "stdout",
     "output_type": "stream",
     "text": [
      "23 58\n"
     ]
    }
   ],
   "source": [
    "H,M=map(int,input().split())\n",
    "\n",
    "if M>=45:\n",
    "    print(H,M-45)\n",
    "elif H!=0: \n",
    "    print(H-1,15+M)\n",
    "else:\n",
    "    print(23,15+M)"
   ]
  },
  {
   "cell_type": "code",
   "execution_count": 12,
   "id": "4a502a7e-6ba7-4d0c-be3f-d7352d49f5c1",
   "metadata": {},
   "outputs": [
    {
     "name": "stdin",
     "output_type": "stream",
     "text": [
      " 0 43\n"
     ]
    },
    {
     "name": "stdout",
     "output_type": "stream",
     "text": [
      "23 58\n"
     ]
    }
   ],
   "source": [
    "H,M=map(int,input().split())\n",
    "print((H-(M<45))%24,(M-45)%60)\n",
    "\n",
    "# M<45면 1, 아니면 0이 되므로 조건문의 역할 수행\n",
    "# 24로 나눈 나머지를 사용한 이유는 H가 0일때 M이 45미만이면 23이 되어야 한다\n",
    "# -1%24의 결과는 23이므로 저 식이 사용 가능"
   ]
  },
  {
   "cell_type": "code",
   "execution_count": 13,
   "id": "70fb201c-5ef4-4f00-9674-8432b3c3581f",
   "metadata": {},
   "outputs": [
    {
     "data": {
      "text/plain": [
       "20"
      ]
     },
     "execution_count": 13,
     "metadata": {},
     "output_type": "execute_result"
    }
   ],
   "source": [
    "-4%24"
   ]
  }
 ],
 "metadata": {
  "kernelspec": {
   "display_name": "Python 3",
   "language": "python",
   "name": "python3"
  },
  "language_info": {
   "codemirror_mode": {
    "name": "ipython",
    "version": 3
   },
   "file_extension": ".py",
   "mimetype": "text/x-python",
   "name": "python",
   "nbconvert_exporter": "python",
   "pygments_lexer": "ipython3",
   "version": "3.8.8"
  }
 },
 "nbformat": 4,
 "nbformat_minor": 5
}
