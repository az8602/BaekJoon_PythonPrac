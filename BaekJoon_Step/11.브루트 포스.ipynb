{
 "cells": [
  {
   "cell_type": "markdown",
   "id": "abe7abc0-5dcf-46a6-a33a-7d3de32adcf6",
   "metadata": {},
   "source": [
    "# 11.브루트 포스"
   ]
  },
  {
   "cell_type": "markdown",
   "id": "dd132643-32b1-4716-a8ec-3e5152605c1f",
   "metadata": {},
   "source": [
    "### 1.블랙잭"
   ]
  },
  {
   "cell_type": "code",
   "execution_count": 1,
   "id": "6c0a9693-1c7c-4c13-97c2-408b82f79d84",
   "metadata": {},
   "outputs": [
    {
     "name": "stdin",
     "output_type": "stream",
     "text": [
      " 10 500\n",
      " 93 181 245 214 315 36 185 138 216 295\n"
     ]
    },
    {
     "name": "stdout",
     "output_type": "stream",
     "text": [
      "497\n"
     ]
    }
   ],
   "source": [
    "N,M=map(int,input().split())\n",
    "\n",
    "Nset =set(map(int,input().split()))\n",
    "\n",
    "sumset=set([x+y+z for x in Nset\n",
    "        for y in Nset-set([x])\n",
    "        for z in Nset-set([x])-set([y])\n",
    "           if x+y+z<=M])\n",
    "\n",
    "sumset=sorted(sumset)\n",
    "comparelist=[M-x for x in sumset]\n",
    "print(sumset[comparelist.index(min(comparelist))])"
   ]
  },
  {
   "cell_type": "markdown",
   "id": "e8fb4492-c8d1-40f8-801a-58f1405adc70",
   "metadata": {},
   "source": [
    "#### 좀 더 효율적인 코드"
   ]
  },
  {
   "cell_type": "code",
   "execution_count": 2,
   "id": "d275d3ec-0191-4725-97ad-a4fa70c64b96",
   "metadata": {},
   "outputs": [
    {
     "name": "stdin",
     "output_type": "stream",
     "text": [
      " 10 500\n",
      " 93 181 245 214 315 36 185 138 216 295\n"
     ]
    },
    {
     "name": "stdout",
     "output_type": "stream",
     "text": [
      "497\n"
     ]
    }
   ],
   "source": [
    "n,m=map(int,input().split())\n",
    "d=list(map(int,input().split()))\n",
    "x=0\n",
    "for a in range(n):\n",
    "    for b in range(a+1,n):\n",
    "        for c in range(b+1,n):\n",
    "            s=d[a]+d[b]+d[c]\n",
    "            if s<=m:x=max(x,s)\n",
    "print(x)"
   ]
  },
  {
   "cell_type": "markdown",
   "id": "92cca7b7-bfcf-4c36-8768-7c0edc23b40b",
   "metadata": {},
   "source": [
    "#### itertools에서 itertools.combinations사용(리스트 내에서 3개씩 combination(순서상관 X 뽑기))"
   ]
  },
  {
   "cell_type": "code",
   "execution_count": 3,
   "id": "a098cfba-3a5b-4dfd-ab13-a8cc728f5622",
   "metadata": {},
   "outputs": [
    {
     "name": "stdin",
     "output_type": "stream",
     "text": [
      " 10 500\n",
      " 93 181 245 214 315 36 185 138 216 295\n"
     ]
    },
    {
     "name": "stdout",
     "output_type": "stream",
     "text": [
      "497\n"
     ]
    }
   ],
   "source": [
    "import itertools\n",
    "\n",
    "n ,m = map(int, input().split())\n",
    "L = list(map(sum,(itertools.combinations(list(map(int, input().split())),3))))\n",
    "L1= list(filter(lambda x : x<=m , L))\n",
    "print(max(L1))"
   ]
  },
  {
   "cell_type": "markdown",
   "id": "a20d9a72-b31e-4540-8579-768c9dd98129",
   "metadata": {},
   "source": [
    "### 2.분해합"
   ]
  },
  {
   "cell_type": "code",
   "execution_count": 4,
   "id": "9ffd1a46-24f7-4094-9d39-d7a2dc285228",
   "metadata": {},
   "outputs": [
    {
     "name": "stdin",
     "output_type": "stream",
     "text": [
      " 1023\n"
     ]
    },
    {
     "name": "stdout",
     "output_type": "stream",
     "text": [
      "1020\n"
     ]
    }
   ],
   "source": [
    "N=int(input())\n",
    "\n",
    "Nlist=list()\n",
    "for x in range(N):\n",
    "    z=[int(y) for y in str(x)]\n",
    "    Nlist.append(x+sum(z))\n",
    "\n",
    "if N in Nlist:\n",
    "    print(Nlist.index(N))\n",
    "else:\n",
    "    print(0)"
   ]
  },
  {
   "cell_type": "markdown",
   "id": "71c2dce2-824a-443f-be89-2766b41923ea",
   "metadata": {},
   "source": [
    "### 3.덩치"
   ]
  },
  {
   "cell_type": "code",
   "execution_count": 5,
   "id": "8b196584-9be9-43f0-82a6-241b7a3fe30f",
   "metadata": {},
   "outputs": [
    {
     "name": "stdin",
     "output_type": "stream",
     "text": [
      " 5\n",
      " 55 185\n",
      " 58 183\n",
      " 88 186\n",
      " 60 175\n",
      " 46 155\n"
     ]
    },
    {
     "name": "stdout",
     "output_type": "stream",
     "text": [
      "2 2 1 2 5\n"
     ]
    }
   ],
   "source": [
    "N=int(input())\n",
    "\n",
    "Tlist=list()\n",
    "Wlist=list()\n",
    "for _ in range(N):\n",
    "    T,W=map(int,input().split())\n",
    "    Tlist.append(T)\n",
    "    Wlist.append(W)\n",
    "\n",
    "Clist=list()\n",
    "for a in range(N):\n",
    "    count=1\n",
    "    for b in range(N):\n",
    "        if Tlist[a]<Tlist[b] and Wlist[a]<Wlist[b]:\n",
    "            count+=1        \n",
    "    Clist.append(str(count))\n",
    "\n",
    "print(\" \".join(Clist))"
   ]
  }
 ],
 "metadata": {
  "kernelspec": {
   "display_name": "Python 3",
   "language": "python",
   "name": "python3"
  },
  "language_info": {
   "codemirror_mode": {
    "name": "ipython",
    "version": 3
   },
   "file_extension": ".py",
   "mimetype": "text/x-python",
   "name": "python",
   "nbconvert_exporter": "python",
   "pygments_lexer": "ipython3",
   "version": "3.8.8"
  }
 },
 "nbformat": 4,
 "nbformat_minor": 5
}
