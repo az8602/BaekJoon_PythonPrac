{
 "cells": [
  {
   "cell_type": "markdown",
   "id": "be31dc9a-5067-49e3-9156-7ca74567895a",
   "metadata": {},
   "source": [
    "# 11.정렬 "
   ]
  },
  {
   "cell_type": "markdown",
   "id": "ae7cfc45-e7e9-42c8-882e-0ecb5bd8b4d4",
   "metadata": {},
   "source": [
    "### 1. 수 정렬하기 "
   ]
  },
  {
   "cell_type": "code",
   "execution_count": 11,
   "id": "bff5971b-7940-425b-8bf5-e3de6b308c26",
   "metadata": {},
   "outputs": [
    {
     "name": "stdin",
     "output_type": "stream",
     "text": [
      " 5\n",
      " 5\n",
      " 2\n",
      " 3\n",
      " 4\n",
      " 1\n"
     ]
    },
    {
     "name": "stdout",
     "output_type": "stream",
     "text": [
      "1\n",
      "2\n",
      "3\n",
      "4\n",
      "5\n"
     ]
    }
   ],
   "source": [
    "N=int(input())\n",
    "\n",
    "Nlist=[int(input()) for _ in range(N)]\n",
    "Nlist.sort()\n",
    "\n",
    "for x in Nlist:\n",
    "    print(x)"
   ]
  }
 ],
 "metadata": {
  "kernelspec": {
   "display_name": "Python 3",
   "language": "python",
   "name": "python3"
  },
  "language_info": {
   "codemirror_mode": {
    "name": "ipython",
    "version": 3
   },
   "file_extension": ".py",
   "mimetype": "text/x-python",
   "name": "python",
   "nbconvert_exporter": "python",
   "pygments_lexer": "ipython3",
   "version": "3.8.8"
  }
 },
 "nbformat": 4,
 "nbformat_minor": 5
}
