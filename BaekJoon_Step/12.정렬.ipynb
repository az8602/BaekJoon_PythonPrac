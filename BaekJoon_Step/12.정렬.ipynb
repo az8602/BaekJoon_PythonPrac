{
 "cells": [
  {
   "cell_type": "markdown",
   "id": "be31dc9a-5067-49e3-9156-7ca74567895a",
   "metadata": {},
   "source": [
    "# 11.정렬 "
   ]
  },
  {
   "cell_type": "markdown",
   "id": "ae7cfc45-e7e9-42c8-882e-0ecb5bd8b4d4",
   "metadata": {},
   "source": [
    "### 1.수 정렬하기 "
   ]
  },
  {
   "cell_type": "code",
   "execution_count": 146,
   "id": "bff5971b-7940-425b-8bf5-e3de6b308c26",
   "metadata": {},
   "outputs": [
    {
     "name": "stdin",
     "output_type": "stream",
     "text": [
      " 5\n",
      " 5\n",
      " 4\n",
      " 3\n",
      " 2\n",
      " 1\n"
     ]
    },
    {
     "name": "stdout",
     "output_type": "stream",
     "text": [
      "1\n",
      "2\n",
      "3\n",
      "4\n",
      "5\n"
     ]
    }
   ],
   "source": [
    "import sys\n",
    "sys.stdin.readline=input\n",
    "N=int(sys.stdin.readline())\n",
    "\n",
    "Nlist=[int(input()) for _ in range(N)]\n",
    "Nlist.sort()\n",
    "\n",
    "for x in Nlist:\n",
    "    print(x)"
   ]
  },
  {
   "cell_type": "markdown",
   "id": "e4a95b74-6be8-498d-a3aa-553d88873d43",
   "metadata": {},
   "source": [
    "### 2. 수 정렬하기2"
   ]
  },
  {
   "cell_type": "code",
   "execution_count": 147,
   "id": "d03c0d25-d4cc-40ed-a7ad-d41b755d3182",
   "metadata": {},
   "outputs": [
    {
     "name": "stdin",
     "output_type": "stream",
     "text": [
      " 5\n",
      " 5\n",
      " 4\n",
      " 3\n",
      " 2\n",
      " 1\n"
     ]
    },
    {
     "name": "stdout",
     "output_type": "stream",
     "text": [
      "1\n",
      "2\n",
      "3\n",
      "4\n",
      "5\n"
     ]
    }
   ],
   "source": [
    "import sys\n",
    "sys.stdin.readline=input\n",
    "\n",
    "N=int(sys.stdin.readline())\n",
    "Nlist=[int(sys.stdin.readline()) for _ in range(N)]\n",
    "\n",
    "Nlist.sort()\n",
    "\n",
    "for x in Nlist:\n",
    "    print(x)"
   ]
  },
  {
   "cell_type": "markdown",
   "id": "d66faf5f-0733-4672-9555-7511d6bcfc40",
   "metadata": {},
   "source": [
    "### 3.수 정렬하기3"
   ]
  },
  {
   "cell_type": "code",
   "execution_count": 148,
   "id": "9ffd882b-9b2a-44c5-a7c0-e68545f30e79",
   "metadata": {},
   "outputs": [
    {
     "name": "stdin",
     "output_type": "stream",
     "text": [
      " 5\n",
      " 5\n",
      " 1\n",
      " 2\n",
      " 6\n",
      " 3\n"
     ]
    },
    {
     "name": "stdout",
     "output_type": "stream",
     "text": [
      "1\n",
      "2\n",
      "3\n",
      "5\n",
      "6\n"
     ]
    }
   ],
   "source": [
    "import sys\n",
    "sys.stdin.readline=input\n",
    "\n",
    "n = int(sys.stdin.readline())\n",
    "count = [0 for i in range(10001)]\n",
    "\n",
    "for _ in range(n):\n",
    "    count[int(sys.stdin.readline())] += 1\n",
    "for i in range(1, 10001):\n",
    "    for j in range(count[i]):\n",
    "        print(i)"
   ]
  },
  {
   "cell_type": "markdown",
   "id": "05e6f378-8afd-4c43-a91c-491c8d1583ad",
   "metadata": {},
   "source": [
    "#### 메모리초과1"
   ]
  },
  {
   "cell_type": "code",
   "execution_count": 149,
   "id": "d9721356-287d-42c8-89d4-4b36a645becc",
   "metadata": {},
   "outputs": [
    {
     "name": "stdin",
     "output_type": "stream",
     "text": [
      " 5\n",
      " 5\n",
      " 5\n",
      " 4\n",
      " 3\n",
      " 2\n"
     ]
    },
    {
     "name": "stdout",
     "output_type": "stream",
     "text": [
      "2\n",
      "3\n",
      "4\n",
      "5\n",
      "5\n"
     ]
    }
   ],
   "source": [
    "import sys\n",
    "sys.stdin.readline=input\n",
    "\n",
    "n = int(sys.stdin.readline())\n",
    "count = [0 for i in range(10001)]\n",
    "\n",
    "for _ in range(n):\n",
    "    count[int(sys.stdin.readline())] += 1\n",
    "for i in range(1, 10001):\n",
    "    print((str(i)+\"\\n\")*count[i],end=\"\")"
   ]
  },
  {
   "cell_type": "markdown",
   "id": "c77293ca-1dea-4ad8-a10d-c28c2c79ac9c",
   "metadata": {},
   "source": [
    "#### 메모리초과2"
   ]
  },
  {
   "cell_type": "code",
   "execution_count": 151,
   "id": "29630bb7-b85d-42b0-8587-5de29765b148",
   "metadata": {},
   "outputs": [
    {
     "name": "stdin",
     "output_type": "stream",
     "text": [
      " 5\n",
      " 5\n",
      " 4\n",
      " 4\n",
      " 3\n",
      " 2\n"
     ]
    },
    {
     "name": "stdout",
     "output_type": "stream",
     "text": [
      "2\n",
      "3\n",
      "4\n",
      "4\n",
      "5\n"
     ]
    }
   ],
   "source": [
    "import sys\n",
    "sys.stdin.readline=input\n",
    "\n",
    "n = int(sys.stdin.readline())\n",
    "count = [0 for i in range(10001)]\n",
    "\n",
    "for _ in range(n):\n",
    "    count[int(sys.stdin.readline())] += 1\n",
    "for i in range(1, 10001):\n",
    "    print(f\"{i}\\n\"*count[i],end=\"\")"
   ]
  },
  {
   "cell_type": "markdown",
   "id": "a2ab9c7e-9b31-4c4d-94be-2b3b2d4f7c85",
   "metadata": {},
   "source": [
    "### 4.통계학"
   ]
  },
  {
   "cell_type": "code",
   "execution_count": 15,
   "id": "12e355cd-1cc9-452b-bfc6-b7036f451e2f",
   "metadata": {},
   "outputs": [
    {
     "name": "stdin",
     "output_type": "stream",
     "text": [
      " 5\n",
      " -1\n",
      " -2\n",
      " -3\n",
      " -1\n",
      " -2\n"
     ]
    },
    {
     "name": "stdout",
     "output_type": "stream",
     "text": [
      "-2\n",
      "-2\n",
      "-1\n",
      "2\n"
     ]
    }
   ],
   "source": [
    "import sys\n",
    "sys.stdin.readline=input\n",
    "\n",
    "n=int(sys.stdin.readline())\n",
    "Ncount=[0]*8002\n",
    "Nlist=[]\n",
    "\n",
    "for _ in range(n):\n",
    "    x=int(sys.stdin.readline())\n",
    "    Nlist.append(x)\n",
    "    Ncount[x+4000]+=1\n",
    "    \n",
    "Nlist.sort()\n",
    "maxN=max(Ncount)\n",
    "modelist=[]\n",
    "\n",
    "for x in range(8002):\n",
    "    if Ncount[x]==maxN:\n",
    "        modelist.append(x-4000)\n",
    "\n",
    "print(round(sum(Nlist)/n))\n",
    "print(Nlist[n//2])\n",
    "if len(modelist)==1:\n",
    "    print(modelist[0])\n",
    "else:\n",
    "    print(modelist[1])\n",
    "print(Nlist[-1]-Nlist[0])"
   ]
  },
  {
   "cell_type": "markdown",
   "id": "077e34a3-7675-4350-a945-700934920c05",
   "metadata": {},
   "source": [
    "#### statistics패키지 사용"
   ]
  },
  {
   "cell_type": "code",
   "execution_count": 153,
   "id": "2b206c53-9956-4a52-809f-cc23f7f09981",
   "metadata": {},
   "outputs": [
    {
     "name": "stdin",
     "output_type": "stream",
     "text": [
      " 5\n",
      " -1\n",
      " -2\n",
      " -3\n",
      " -1\n",
      " -2\n"
     ]
    },
    {
     "name": "stdout",
     "output_type": "stream",
     "text": [
      "-2\n",
      "-2\n",
      "-1\n",
      "2\n"
     ]
    }
   ],
   "source": [
    "import sys\n",
    "import statistics\n",
    "\n",
    "sys.stdin.readline=input\n",
    "\n",
    "N=int(sys.stdin.readline())\n",
    "Nlist=[int(sys.stdin.readline()) for _ in range(N)]\n",
    "Nlist.sort()\n",
    "\n",
    "print(round(sum(Nlist)/len(Nlist)))\n",
    "print(Nlist[(N-1)//2])\n",
    "if len(statistics.multimode(Nlist))==1:\n",
    "    print(statistics.multimode(Nlist)[0])\n",
    "else:\n",
    "    print(statistics.multimode(Nlist)[1])\n",
    "print(Nlist[N-1]-Nlist[0])"
   ]
  }
 ],
 "metadata": {
  "kernelspec": {
   "display_name": "Python 3",
   "language": "python",
   "name": "python3"
  },
  "language_info": {
   "codemirror_mode": {
    "name": "ipython",
    "version": 3
   },
   "file_extension": ".py",
   "mimetype": "text/x-python",
   "name": "python",
   "nbconvert_exporter": "python",
   "pygments_lexer": "ipython3",
   "version": "3.8.8"
  }
 },
 "nbformat": 4,
 "nbformat_minor": 5
}
