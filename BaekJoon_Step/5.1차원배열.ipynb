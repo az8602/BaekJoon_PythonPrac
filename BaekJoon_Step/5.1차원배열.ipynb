{
 "cells": [
  {
   "cell_type": "markdown",
   "id": "1037c8e2-f306-416d-895b-cf53e5dc6c24",
   "metadata": {},
   "source": [
    "<h1> 5. 1차원 배열"
   ]
  },
  {
   "cell_type": "markdown",
   "id": "aa453465-4617-4225-8ed5-280d1ab85b30",
   "metadata": {},
   "source": [
    "<h3> 7. 평균은 넘겠지"
   ]
  },
  {
   "cell_type": "code",
   "execution_count": 1,
   "id": "dd8558bd-a6a6-401a-84a2-ae1724241d16",
   "metadata": {},
   "outputs": [
    {
     "name": "stdin",
     "output_type": "stream",
     "text": [
      " 5\n",
      " 5 50 50 70 80 100\n"
     ]
    },
    {
     "name": "stdout",
     "output_type": "stream",
     "text": [
      "40.000%\n"
     ]
    },
    {
     "name": "stdin",
     "output_type": "stream",
     "text": [
      " 7 100 95 90 80 70 60 50\n"
     ]
    },
    {
     "name": "stdout",
     "output_type": "stream",
     "text": [
      "57.143%\n"
     ]
    },
    {
     "name": "stdin",
     "output_type": "stream",
     "text": [
      " 3 70 90 80\n"
     ]
    },
    {
     "name": "stdout",
     "output_type": "stream",
     "text": [
      "33.333%\n"
     ]
    },
    {
     "name": "stdin",
     "output_type": "stream",
     "text": [
      " 3 70 90 81\n"
     ]
    },
    {
     "name": "stdout",
     "output_type": "stream",
     "text": [
      "66.667%\n"
     ]
    },
    {
     "name": "stdin",
     "output_type": "stream",
     "text": [
      " 9 100 99 98 97 96 95 94 93 91\n"
     ]
    },
    {
     "name": "stdout",
     "output_type": "stream",
     "text": [
      "55.556%\n"
     ]
    }
   ],
   "source": [
    "# import sys\n",
    "\n",
    "# N=int(sys.stdin.readline())\n",
    "N=int(input())\n",
    "\n",
    "for x in range(N):\n",
    "    # Case=map(int,sys.stdin.readline().strip().split())\n",
    "    Case=list(map(int,input().split()))\n",
    "    Mean=sum(Case[1:])/Case[0]\n",
    "\n",
    "    count=0\n",
    "    for y in range(len(Case)-1):\n",
    "        if Case[1+y]>Mean:\n",
    "            count+=1\n",
    "            \n",
    "    Percentage=100*count/Case[0]\n",
    "    print(\"{:.3f}%\".format(Percentage))"
   ]
  }
 ],
 "metadata": {
  "kernelspec": {
   "display_name": "Python 3",
   "language": "python",
   "name": "python3"
  },
  "language_info": {
   "codemirror_mode": {
    "name": "ipython",
    "version": 3
   },
   "file_extension": ".py",
   "mimetype": "text/x-python",
   "name": "python",
   "nbconvert_exporter": "python",
   "pygments_lexer": "ipython3",
   "version": "3.8.8"
  }
 },
 "nbformat": 4,
 "nbformat_minor": 5
}
