{
 "cells": [
  {
   "cell_type": "markdown",
   "id": "6baa4b33-6a92-4690-96a9-7ae30db3f23a",
   "metadata": {},
   "source": [
    "<h1> 입출력과 사칙연산"
   ]
  },
  {
   "cell_type": "markdown",
   "id": "b820011e-11a0-4214-831a-c558100373ba",
   "metadata": {},
   "source": [
    "<h3> 1. Hello World"
   ]
  },
  {
   "cell_type": "code",
   "execution_count": 1,
   "id": "d89f60b2-27e1-4804-9633-5d4b800d88d2",
   "metadata": {},
   "outputs": [
    {
     "name": "stdout",
     "output_type": "stream",
     "text": [
      "Hello World!\n"
     ]
    }
   ],
   "source": [
    "print(\"Hello World!\")"
   ]
  },
  {
   "cell_type": "markdown",
   "id": "6144b1e1-50e7-4bb6-bd70-3eafdb670f04",
   "metadata": {},
   "source": [
    "<h3> 2. We love kriii"
   ]
  },
  {
   "cell_type": "code",
   "execution_count": 2,
   "id": "ad2ba78d-32fd-4fac-a900-e37ec045528c",
   "metadata": {},
   "outputs": [
    {
     "name": "stdout",
     "output_type": "stream",
     "text": [
      "강한친구 대한육군\n",
      "강한친구 대한육군\n"
     ]
    }
   ],
   "source": [
    "print(\"강한친구 대한육군\\n강한친구 대한육군\")"
   ]
  },
  {
   "cell_type": "markdown",
   "id": "5c5d8ae1-00d9-41d0-967d-62ccf935ff45",
   "metadata": {},
   "source": [
    "<h3> 3. Cat"
   ]
  },
  {
   "cell_type": "code",
   "execution_count": 3,
   "id": "8c2c572d-35a4-4c4e-af02-8a3e56d158ca",
   "metadata": {},
   "outputs": [
    {
     "name": "stdout",
     "output_type": "stream",
     "text": [
      "\\    /\\\n",
      " )  ( ')\n",
      "(  /  )\n",
      " \\(__)|\n"
     ]
    }
   ],
   "source": [
    "print(\"\\\\    /\\\\\\n )  ( \\')\\n(  /  )\\n \\\\(__)|\")"
   ]
  },
  {
   "cell_type": "code",
   "execution_count": 4,
   "id": "508ac929-5fd3-4f30-9acb-0b44cff5048d",
   "metadata": {},
   "outputs": [
    {
     "name": "stdout",
     "output_type": "stream",
     "text": [
      "\\    /\\\n",
      " )  ( ')\n",
      "(  /  )\n",
      " \\(__)|\n"
     ]
    }
   ],
   "source": [
    "print(\"\\    /\\\\\")\n",
    "print(\" )  ( ')\")\n",
    "print(\"(  /  )\")\n",
    "print(\" \\(__)|\") # faster than the previous code"
   ]
  },
  {
   "cell_type": "markdown",
   "id": "c817a721-6a22-4501-a643-c20b3e23bf9b",
   "metadata": {},
   "source": [
    "<h3> 4. Dog"
   ]
  },
  {
   "cell_type": "code",
   "execution_count": 5,
   "id": "aea4a3b6-f419-442b-ac69-0a35c6f43570",
   "metadata": {},
   "outputs": [
    {
     "name": "stdout",
     "output_type": "stream",
     "text": [
      "|\\_/|\n",
      "|q p|   /}\n",
      "( 0 )\"\"\"\\\n",
      "|\"^\"`    |\n",
      "||_/=\\\\__|\n"
     ]
    }
   ],
   "source": [
    "print('|\\\\_/|')\n",
    "print('|q p|   /}')\n",
    "print('( 0 )\"\"\"\\\\')\n",
    "print('|\"^\"`    |')\n",
    "print('||_/=\\\\\\\\__|')"
   ]
  },
  {
   "cell_type": "markdown",
   "id": "ffb2b6ad-78f3-4f80-86db-8dfb837392ee",
   "metadata": {},
   "source": [
    "<h3> 5. A+B"
   ]
  },
  {
   "cell_type": "code",
   "execution_count": 6,
   "id": "629387a7-47b0-4f10-9238-631b549537ca",
   "metadata": {},
   "outputs": [
    {
     "name": "stdin",
     "output_type": "stream",
     "text": [
      " 1 2\n"
     ]
    },
    {
     "name": "stdout",
     "output_type": "stream",
     "text": [
      "3\n"
     ]
    }
   ],
   "source": [
    "a,b = map(int, input().split())\n",
    "print(a+b)"
   ]
  },
  {
   "cell_type": "code",
   "execution_count": 7,
   "id": "11a93df4-091b-4518-951e-f6941ac0f757",
   "metadata": {},
   "outputs": [
    {
     "name": "stdin",
     "output_type": "stream",
     "text": [
      " 1 2\n"
     ]
    },
    {
     "name": "stdout",
     "output_type": "stream",
     "text": [
      "3\n"
     ]
    }
   ],
   "source": [
    "print(sum(map(int,input().split()))) # one line coding"
   ]
  },
  {
   "cell_type": "markdown",
   "id": "0f27f514-28f5-4d22-ae9e-47e3d86a00b0",
   "metadata": {},
   "source": [
    "<h3> map 함수 추가 설명\n",
    "    <h5> map function : map(function, iterable,..)\n",
    "    <h5> 입력받은 iterable 자료형의 각 요소가 function에 의해 수행된 결과를 map iterator 객체로 리턴\n",
    "        \n",
    "        \n",
    "    <h6> example)"
   ]
  },
  {
   "cell_type": "code",
   "execution_count": 8,
   "id": "daa5e464-1630-451d-bcab-a4fcd1342c3a",
   "metadata": {},
   "outputs": [],
   "source": [
    "li = [1,2,3]\n",
    "\n",
    "result = list(map(lambda i: i**2, li))"
   ]
  },
  {
   "cell_type": "code",
   "execution_count": 9,
   "id": "2ddbba01-fe0a-420a-8b9e-7ba9840c69df",
   "metadata": {},
   "outputs": [
    {
     "name": "stdout",
     "output_type": "stream",
     "text": [
      "[1, 4, 9]\n"
     ]
    }
   ],
   "source": [
    "print(result)"
   ]
  },
  {
   "cell_type": "markdown",
   "id": "1b540787-ace1-4142-a5da-b0ac29f1fad0",
   "metadata": {},
   "source": [
    "<h3> 6. A-B"
   ]
  },
  {
   "cell_type": "code",
   "execution_count": 11,
   "id": "0577e70c-a9d4-4d64-892a-05dfc91a57fd",
   "metadata": {},
   "outputs": [
    {
     "name": "stdin",
     "output_type": "stream",
     "text": [
      " 5 3\n"
     ]
    },
    {
     "name": "stdout",
     "output_type": "stream",
     "text": [
      "2\n"
     ]
    }
   ],
   "source": [
    "a,b = map(int, input().split())\n",
    "print(a-b)"
   ]
  },
  {
   "cell_type": "markdown",
   "id": "6c9a4790-c167-463a-bb50-2697e268fa5f",
   "metadata": {},
   "source": [
    "<h3>7. AxB"
   ]
  },
  {
   "cell_type": "code",
   "execution_count": 12,
   "id": "0a104a59-a77d-4b55-a9d4-1bb706393062",
   "metadata": {},
   "outputs": [
    {
     "name": "stdin",
     "output_type": "stream",
     "text": [
      " 1 3\n"
     ]
    },
    {
     "name": "stdout",
     "output_type": "stream",
     "text": [
      "3\n"
     ]
    }
   ],
   "source": [
    "a,b = input().split()\n",
    "print(int(a)*int(b))"
   ]
  },
  {
   "cell_type": "markdown",
   "id": "34f2e808-4c61-4b59-92e4-ba945a500335",
   "metadata": {},
   "source": [
    "<h3> 8. A/B"
   ]
  },
  {
   "cell_type": "code",
   "execution_count": 13,
   "id": "f1e6a15d-cc0a-4217-9f4f-e94e1ea0423c",
   "metadata": {},
   "outputs": [
    {
     "name": "stdin",
     "output_type": "stream",
     "text": [
      " 1 3\n"
     ]
    },
    {
     "name": "stdout",
     "output_type": "stream",
     "text": [
      "0.3333333333333333\n"
     ]
    }
   ],
   "source": [
    "a,b,c=input()\n",
    "print(int(a)/int(c)) # faster than AxB code"
   ]
  },
  {
   "cell_type": "code",
   "execution_count": 14,
   "id": "904c9a8e-f49b-490d-9220-954de947fbd6",
   "metadata": {},
   "outputs": [
    {
     "name": "stdin",
     "output_type": "stream",
     "text": [
      " 1 5\n"
     ]
    },
    {
     "name": "stdout",
     "output_type": "stream",
     "text": [
      "0.2\n"
     ]
    }
   ],
   "source": [
    "a,b,c=input();print(int(a)/int(c))\n",
    "# faster than the previous code"
   ]
  },
  {
   "cell_type": "markdown",
   "id": "a0d0d4b3-d7e7-45c4-a2f4-ec6792dae2aa",
   "metadata": {},
   "source": [
    "<h3> 9. 사칙연산"
   ]
  },
  {
   "cell_type": "code",
   "execution_count": 15,
   "id": "a1289174-1279-41a2-ae2b-1861c4498e58",
   "metadata": {},
   "outputs": [
    {
     "name": "stdin",
     "output_type": "stream",
     "text": [
      " 7 3\n"
     ]
    },
    {
     "name": "stdout",
     "output_type": "stream",
     "text": [
      "10\n",
      "4\n",
      "21\n",
      "2\n",
      "1\n"
     ]
    }
   ],
   "source": [
    "a,b=map(int,input().split())\n",
    "print(a+b)\n",
    "print(a-b)\n",
    "print(a*b)\n",
    "print(a//b)\n",
    "print(a%b)"
   ]
  },
  {
   "cell_type": "markdown",
   "id": "1a2ba551-c7ec-4746-8a2f-e32738bee2a2",
   "metadata": {},
   "source": [
    "<h3> 10. 나머지"
   ]
  },
  {
   "cell_type": "markdown",
   "id": "9cb32147-58af-4ff3-b334-bfcdaa738300",
   "metadata": {},
   "source": [
    "<h5> (A+B)%C는 ((A%C) + (B%C))%C와 같다\n",
    "<h5> (A×B)%C는 ((A%C) × (B%C))%C와 같다\n",
    "<h5>두 식 모두 전자는 값을 계산 한 이후 나머지를 구하는 것이고 후자는 각자의 나머지를 더하거나 곱해 나머지를 구하는 것이다."
   ]
  },
  {
   "cell_type": "code",
   "execution_count": 16,
   "id": "72b50a96-1593-48e4-b49d-45e3e139ea8f",
   "metadata": {},
   "outputs": [
    {
     "name": "stdin",
     "output_type": "stream",
     "text": [
      " 5 8 4\n"
     ]
    },
    {
     "name": "stdout",
     "output_type": "stream",
     "text": [
      "1\n",
      "1\n",
      "0\n",
      "0\n"
     ]
    }
   ],
   "source": [
    "a,b,c = map(int,input().split())\n",
    "print((a+b)%c)\n",
    "print(((a%c)+(b%c))%c) # 동일하다\n",
    "print((a*b)%c)\n",
    "print(((a%c)*(b%c))%c) # 동일하다"
   ]
  },
  {
   "cell_type": "markdown",
   "id": "6898dfd4-ab11-4e2c-a8a5-2480f60a4c5d",
   "metadata": {},
   "source": [
    "<h3> 11. 곱셈"
   ]
  },
  {
   "cell_type": "code",
   "execution_count": 17,
   "id": "4ea11fa9-53cc-48fa-843f-31c60022af20",
   "metadata": {},
   "outputs": [
    {
     "name": "stdin",
     "output_type": "stream",
     "text": [
      " 472\n",
      " 385\n"
     ]
    },
    {
     "name": "stdout",
     "output_type": "stream",
     "text": [
      "2360\n",
      "3776\n",
      "1416\n",
      "181720\n"
     ]
    }
   ],
   "source": [
    "a=int(input())\n",
    "b=input()\n",
    "print(int(a)*int(b[2]))\n",
    "print(int(a)*int(b[1]))\n",
    "print(int(a)*int(b[0]))\n",
    "print(int(a)*int(b))"
   ]
  },
  {
   "cell_type": "code",
   "execution_count": 18,
   "id": "4e1e432a-8bec-4be6-bcf0-d3d8c55e5216",
   "metadata": {},
   "outputs": [
    {
     "name": "stdin",
     "output_type": "stream",
     "text": [
      " 472\n",
      " 385\n"
     ]
    },
    {
     "name": "stdout",
     "output_type": "stream",
     "text": [
      "2360 3776 1416 181720\n"
     ]
    }
   ],
   "source": [
    "a, b =int(input()),input()\n",
    "\n",
    "print(*[a*int(i) for i in b][::-1],a*int(b))\n",
    "# 추가적인 해석필요(9/15 기준)"
   ]
  }
 ],
 "metadata": {
  "kernelspec": {
   "display_name": "Python 3",
   "language": "python",
   "name": "python3"
  },
  "language_info": {
   "codemirror_mode": {
    "name": "ipython",
    "version": 3
   },
   "file_extension": ".py",
   "mimetype": "text/x-python",
   "name": "python",
   "nbconvert_exporter": "python",
   "pygments_lexer": "ipython3",
   "version": "3.8.8"
  }
 },
 "nbformat": 4,
 "nbformat_minor": 5
}
