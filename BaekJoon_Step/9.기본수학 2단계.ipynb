{
 "cells": [
  {
   "cell_type": "markdown",
   "id": "8b2bd500-4b56-4938-9bd3-21893d3794ca",
   "metadata": {},
   "source": [
    "<h1> 9.기본수학 2단계"
   ]
  },
  {
   "cell_type": "markdown",
   "id": "a740df2f-6042-473d-88a0-ef4f3161add0",
   "metadata": {},
   "source": [
    "<h3>1. 소수 찾기"
   ]
  },
  {
   "cell_type": "markdown",
   "id": "f3d0facd-b2a1-4b91-8291-bad091a97024",
   "metadata": {},
   "source": [
    "<h6> 에라토스테네스의 체 이용"
   ]
  },
  {
   "cell_type": "code",
   "execution_count": 1,
   "id": "7647612f-855f-48bf-b78e-ad8126a97dbd",
   "metadata": {},
   "outputs": [
    {
     "name": "stdin",
     "output_type": "stream",
     "text": [
      " 4\n",
      " 1 3 5 17\n"
     ]
    },
    {
     "name": "stdout",
     "output_type": "stream",
     "text": [
      "3\n"
     ]
    }
   ],
   "source": [
    "N=int(input())\n",
    "Checknumber=list(map(int,input().split()))\n",
    "maxN=max(Checknumber)\n",
    "primeN=list()\n",
    "Nset=set(x for x in range(2,maxN+1))\n",
    "count=0\n",
    "\n",
    "while len(Nset)>0:\n",
    "    if min(Nset) in Checknumber:\n",
    "        count+=1\n",
    "    minuset=set(min(Nset)*x for x in range(1,((max(Nset)//min(Nset))+1)))\n",
    "    primeN.append(min(Nset))\n",
    "    Nset=Nset-minuset\n",
    "print(count)"
   ]
  },
  {
   "cell_type": "markdown",
   "id": "d23f92af-6892-4f45-bb1f-6a70d55138b8",
   "metadata": {},
   "source": [
    "<h6> n보다 작은 n-1까지로 n을 나눠 나머지가 다 0이면 소수 이용"
   ]
  },
  {
   "cell_type": "code",
   "execution_count": 2,
   "id": "cd221868-8b19-4d9c-a9e6-d92b555f1838",
   "metadata": {},
   "outputs": [
    {
     "name": "stdin",
     "output_type": "stream",
     "text": [
      " 4\n",
      " 1 3 5 17\n"
     ]
    },
    {
     "name": "stdout",
     "output_type": "stream",
     "text": [
      "3\n"
     ]
    }
   ],
   "source": [
    "cnt=0\n",
    "input()\n",
    "arr = map(int, input().split())\n",
    "for n in arr:\n",
    "    \n",
    "    if(n == 1):\n",
    "        continue\n",
    "    else:\n",
    "        stk=1\n",
    "        for i in range(2,n):\n",
    "            if n%i==0:\n",
    "                stk=0\n",
    "        cnt+=stk\n",
    "\n",
    "print(cnt)"
   ]
  },
  {
   "cell_type": "markdown",
   "id": "cf35a20e-aea2-49c5-a208-f8519962bf7c",
   "metadata": {},
   "source": [
    "<h3>2. 소수"
   ]
  },
  {
   "cell_type": "code",
   "execution_count": 3,
   "id": "6be91b92-d56d-4cec-9f8a-2f40e31ab794",
   "metadata": {},
   "outputs": [
    {
     "name": "stdin",
     "output_type": "stream",
     "text": [
      " 60\n",
      " 100\n"
     ]
    },
    {
     "name": "stdout",
     "output_type": "stream",
     "text": [
      "620\n",
      "61\n"
     ]
    }
   ],
   "source": [
    "M=int(input())\n",
    "N=int(input())\n",
    "primeN=list()\n",
    "Nset=set(x for x in range(2,N+1))\n",
    "\n",
    "while len(Nset)>0:\n",
    "    if min(Nset)>=M:\n",
    "        primeN.append(min(Nset))\n",
    "    minuset=set(min(Nset)*x for x in range(1,((max(Nset)//min(Nset))+1)))\n",
    "    Nset=Nset-minuset\n",
    "if len(primeN)==0:\n",
    "    print(-1)\n",
    "else:\n",
    "    print(sum(primeN))\n",
    "    print(min(primeN))"
   ]
  },
  {
   "cell_type": "code",
   "execution_count": 4,
   "id": "c947306f-e17a-4fb6-ae2c-5d5b1d907c28",
   "metadata": {},
   "outputs": [
    {
     "name": "stdin",
     "output_type": "stream",
     "text": [
      " 69\n",
      " 100\n"
     ]
    },
    {
     "name": "stdout",
     "output_type": "stream",
     "text": [
      "492\n",
      "71\n"
     ]
    }
   ],
   "source": [
    "m = int(input())\n",
    "n = int(input())\n",
    "lst = []\n",
    "for x in range(m, n+1):\n",
    "    n_lst = [a for a in range(2, x) if x%a == 0]\n",
    "    if len(n_lst) == 0 and x != 1:\n",
    "        lst.append(x)\n",
    "if lst:\n",
    "    print(sum(lst))\n",
    "    print(lst[0])\n",
    "else:\n",
    "    print(-1)"
   ]
  },
  {
   "cell_type": "markdown",
   "id": "7e4c4781-5381-470a-96b9-28d7d4adcae6",
   "metadata": {},
   "source": [
    "<h6> 소수 만드는 부분 참고"
   ]
  },
  {
   "cell_type": "markdown",
   "id": "8984610d-5741-44ab-9c61-4b4f50801635",
   "metadata": {},
   "source": [
    "<h3> 3.소인수 분해"
   ]
  },
  {
   "cell_type": "code",
   "execution_count": 5,
   "id": "980a359b-856f-4cf7-871b-f081a73b550e",
   "metadata": {},
   "outputs": [
    {
     "name": "stdin",
     "output_type": "stream",
     "text": [
      " 9991\n"
     ]
    },
    {
     "name": "stdout",
     "output_type": "stream",
     "text": [
      "97\n",
      "103\n"
     ]
    }
   ],
   "source": [
    "N=int(input())\n",
    "Nset=set(x for x in range(2,int((N/2)+1)))\n",
    "\n",
    "while N!=1:\n",
    "    while N%min(Nset)==0:\n",
    "        print(min(Nset))\n",
    "        N=N//min(Nset)\n",
    "        \n",
    "    minuset=set(min(Nset)*x for x in range(1,((max(Nset)//min(Nset))+1)))\n",
    "    Nset=Nset-minuset"
   ]
  },
  {
   "cell_type": "markdown",
   "id": "cdb72d86-93f0-439b-8963-6933382859d7",
   "metadata": {},
   "source": [
    "<h6> 너무 오래 걸린다. 아래와 같이 해야 시간초과가 걸리지 않는다"
   ]
  },
  {
   "cell_type": "code",
   "execution_count": 6,
   "id": "0a945c49-96b1-4992-a219-21b97367d8df",
   "metadata": {},
   "outputs": [
    {
     "name": "stdin",
     "output_type": "stream",
     "text": [
      " 9991\n"
     ]
    },
    {
     "name": "stdout",
     "output_type": "stream",
     "text": [
      "97\n",
      "103\n"
     ]
    }
   ],
   "source": [
    "n=int(input())\n",
    "i=2\n",
    "while n!=1:\n",
    "    if n%i==0:\n",
    "        print(i)\n",
    "        n/=i\n",
    "    else:\n",
    "        i+=1"
   ]
  },
  {
   "cell_type": "markdown",
   "id": "316c9939-b382-43b9-aa39-034ca6ac6dd4",
   "metadata": {},
   "source": [
    "<h6> 이게 왜 짧을까?.. 내 생각엔 앞에서 2로 나누면 2의 배수, 즉 4나 6등의 부분이 사라지기 때문이지 않을까라고 생각한다. 단순한 코드가 더 짧을 수도 있다는 것을 배웠다"
   ]
  },
  {
   "cell_type": "markdown",
   "id": "5501a015-cd9b-4b48-a7cf-69a12359e683",
   "metadata": {},
   "source": [
    "<h3> 4.소수 구하기"
   ]
  },
  {
   "cell_type": "code",
   "execution_count": 7,
   "id": "33a534ab-ee29-4585-950c-40254692d05c",
   "metadata": {},
   "outputs": [
    {
     "name": "stdin",
     "output_type": "stream",
     "text": [
      " 1 16\n"
     ]
    },
    {
     "name": "stdout",
     "output_type": "stream",
     "text": [
      "2\n",
      "3\n",
      "5\n",
      "7\n",
      "11\n",
      "13\n"
     ]
    }
   ],
   "source": [
    "M,N=map(int,input().split())\n",
    "\n",
    "for x in range(M,N+1):\n",
    "    if x==1:\n",
    "        continue\n",
    "    isPrime=True\n",
    "    for y in range(2,round(x**(1/2))+1):\n",
    "        if x%y==0:\n",
    "            isPrime=False\n",
    "            break\n",
    "    if isPrime:\n",
    "        print(x)"
   ]
  },
  {
   "cell_type": "markdown",
   "id": "8242c284-f723-46ff-8c68-8ba8217359ec",
   "metadata": {},
   "source": [
    "<h4> 시간이 빠르면서 알아볼 수 있는 코드"
   ]
  },
  {
   "cell_type": "code",
   "execution_count": 8,
   "id": "1677dc08-5563-461f-a2e3-f91149db1164",
   "metadata": {},
   "outputs": [
    {
     "name": "stdin",
     "output_type": "stream",
     "text": [
      " 1 16\n"
     ]
    },
    {
     "name": "stdout",
     "output_type": "stream",
     "text": [
      "2\n",
      "3\n",
      "5\n",
      "7\n",
      "11\n",
      "13\n"
     ]
    }
   ],
   "source": [
    "m, n = map(int, input().split())\n",
    "a = [False, False] + [True] * (n - 1)\n",
    "for i in range(2, n + 1) :\n",
    "    if a[i] :\n",
    "        if i >= m :\n",
    "            print(i)\n",
    "        for j in range(2 * i, n + 1, i) :\n",
    "            a[j] = False"
   ]
  },
  {
   "cell_type": "markdown",
   "id": "d869bb2e-74e8-4316-a47a-e913729c4bbe",
   "metadata": {},
   "source": [
    "<h4> 설명\n",
    "<h5> 1. a는 무엇인가?\n",
    "<h6> a는 [0,1,2,3..]에 대응하는 논리값, 0과 1은 소수가 아니므로 False로 주고 시작하는 것이다.\n",
    "<h5> 2. 반복문 설명\n",
    "<h6> if a[i]: 에서 i는 2부터 시작. 그 안의 for문에서 range(2*i,n+1,i)에서 2*2인 4부터 시작해서 i(2)만큼 증가하는 값, 즉 2의 배수는 전부 False로 바꿔주는 것입니다."
   ]
  },
  {
   "cell_type": "markdown",
   "id": "b37bcaa0-c32a-41e4-932e-5c00c4556164",
   "metadata": {},
   "source": [
    "### 5.베르트랑 공준"
   ]
  },
  {
   "cell_type": "code",
   "execution_count": 9,
   "id": "ace74294-a9a5-4b59-97ef-c176983c38f5",
   "metadata": {},
   "outputs": [
    {
     "name": "stdin",
     "output_type": "stream",
     "text": [
      " 1\n"
     ]
    },
    {
     "name": "stdout",
     "output_type": "stream",
     "text": [
      "1\n"
     ]
    },
    {
     "name": "stdin",
     "output_type": "stream",
     "text": [
      " 10\n"
     ]
    },
    {
     "name": "stdout",
     "output_type": "stream",
     "text": [
      "4\n"
     ]
    },
    {
     "name": "stdin",
     "output_type": "stream",
     "text": [
      " 100\n"
     ]
    },
    {
     "name": "stdout",
     "output_type": "stream",
     "text": [
      "21\n"
     ]
    },
    {
     "name": "stdin",
     "output_type": "stream",
     "text": [
      " 1000\n"
     ]
    },
    {
     "name": "stdout",
     "output_type": "stream",
     "text": [
      "135\n"
     ]
    },
    {
     "name": "stdin",
     "output_type": "stream",
     "text": [
      " 10000\n"
     ]
    },
    {
     "name": "stdout",
     "output_type": "stream",
     "text": [
      "1033\n"
     ]
    },
    {
     "name": "stdin",
     "output_type": "stream",
     "text": [
      " 0\n"
     ]
    }
   ],
   "source": [
    "while True:\n",
    "    n=int(input())\n",
    "    count=0\n",
    "    \n",
    "    if n==0:\n",
    "        break\n",
    "    a=[False, False] + [True] * (2*n - 1)\n",
    "    for i in range(2, 2*n + 1) :\n",
    "        if a[i] :\n",
    "            if i > n :\n",
    "                count+=1\n",
    "            for j in range(2 * i, 2*n + 1, i) :\n",
    "                a[j] = False\n",
    "    print(count)"
   ]
  },
  {
   "cell_type": "markdown",
   "id": "e005397d-e180-4b32-b2f2-e5f300344432",
   "metadata": {},
   "source": [
    "### 6.골드바흐의 추측"
   ]
  },
  {
   "cell_type": "code",
   "execution_count": 10,
   "id": "3c2ec3f3-457e-4850-8466-1ba12cad4681",
   "metadata": {},
   "outputs": [
    {
     "name": "stdin",
     "output_type": "stream",
     "text": [
      " 3\n",
      " 10000\n"
     ]
    },
    {
     "name": "stdout",
     "output_type": "stream",
     "text": [
      "4919 5081\n"
     ]
    },
    {
     "name": "stdin",
     "output_type": "stream",
     "text": [
      " 5000\n"
     ]
    },
    {
     "name": "stdout",
     "output_type": "stream",
     "text": [
      "2383 2617\n"
     ]
    },
    {
     "name": "stdin",
     "output_type": "stream",
     "text": [
      " 2500\n"
     ]
    },
    {
     "name": "stdout",
     "output_type": "stream",
     "text": [
      "1223 1277\n"
     ]
    }
   ],
   "source": [
    "C=int(input())\n",
    "primeN=[False,False]+[True]*9999\n",
    "for i in range(2,10001):\n",
    "    if primeN[i]:\n",
    "        for j in range(2*i,10001,i):\n",
    "            primeN[j]=False\n",
    "            \n",
    "for _ in range(C):\n",
    "    minx,miny=0,10000\n",
    "    N=int(input())\n",
    "    \n",
    "    for x in range(N+1):\n",
    "        if primeN[x]:\n",
    "            for y in range(N+1):\n",
    "                if primeN[y]:\n",
    "                    if N==(x+y) and (miny-minx)>=(y-x) and (y-x)>=0:\n",
    "                        minx=x\n",
    "                        miny=y\n",
    "    print(minx,miny)"
   ]
  },
  {
   "cell_type": "markdown",
   "id": "26cde437-8081-45e8-87f3-ef68ab5ca466",
   "metadata": {},
   "source": [
    "<h6> 시간초과"
   ]
  },
  {
   "cell_type": "code",
   "execution_count": 11,
   "id": "fba82f59-30fa-4763-aa6c-18c0b22238a3",
   "metadata": {},
   "outputs": [
    {
     "name": "stdin",
     "output_type": "stream",
     "text": [
      " 3\n",
      " 10000\n"
     ]
    },
    {
     "name": "stdout",
     "output_type": "stream",
     "text": [
      "4919 5081\n"
     ]
    },
    {
     "name": "stdin",
     "output_type": "stream",
     "text": [
      " 5000\n"
     ]
    },
    {
     "name": "stdout",
     "output_type": "stream",
     "text": [
      "2383 2617\n"
     ]
    },
    {
     "name": "stdin",
     "output_type": "stream",
     "text": [
      " 2500\n"
     ]
    },
    {
     "name": "stdout",
     "output_type": "stream",
     "text": [
      "1223 1277\n"
     ]
    }
   ],
   "source": [
    "C=int(input())\n",
    "primeN=[False,False]+[True]*9999\n",
    "for i in range(2,10001):\n",
    "    if primeN[i]:\n",
    "        for j in range(2*i,10001,i):\n",
    "            primeN[j]=False\n",
    "            \n",
    "for _ in range(C):\n",
    "    minx,miny=0,10000\n",
    "    N=int(input())\n",
    "    \n",
    "    for x in range(N+1):\n",
    "        if primeN[x]:\n",
    "            if primeN[N-x] and miny-minx>N-2*x and N-2*x>=0:\n",
    "                minx,miny=x,N-x\n",
    "    print(minx,miny)"
   ]
  },
  {
   "cell_type": "markdown",
   "id": "39492c3c-62c0-41f2-84b9-ad3e7874d46f",
   "metadata": {},
   "source": [
    "<h2> 무조건 for문을쓰지 말고 생각의 전환을 해보자!"
   ]
  },
  {
   "cell_type": "markdown",
   "id": "60da7b40-1fb7-4846-a373-ea9034296a70",
   "metadata": {},
   "source": [
    "<h3> 8. 네 번째 점"
   ]
  },
  {
   "cell_type": "code",
   "execution_count": 12,
   "id": "4df6c099-28b4-43fe-b8d2-23aaf6c11a49",
   "metadata": {},
   "outputs": [
    {
     "name": "stdin",
     "output_type": "stream",
     "text": [
      " 30 20\n",
      " 10 20\n",
      " 10 10\n"
     ]
    },
    {
     "name": "stdout",
     "output_type": "stream",
     "text": [
      "30 10\n"
     ]
    }
   ],
   "source": [
    "xlist=list()\n",
    "ylist=list()\n",
    "for _ in range(3):\n",
    "    M,N=map(int,input().split())\n",
    "    xlist.append(M)\n",
    "    ylist.append(N)\n",
    "\n",
    "xcount=list()\n",
    "xset=set(xlist)\n",
    "ycount=list()\n",
    "yset=set(ylist)\n",
    "\n",
    "for x in xset:\n",
    "    xcount.append(xlist.count(x))\n",
    "for y in yset:\n",
    "    ycount.append(ylist.count(y))\n",
    "    \n",
    "print(list(xset)[xcount.index(min(xcount))],list(yset)[ycount.index(min(ycount))])"
   ]
  },
  {
   "cell_type": "code",
   "execution_count": 13,
   "id": "e410f017-ba77-4acf-a058-1cdbe9945c88",
   "metadata": {},
   "outputs": [
    {
     "name": "stdin",
     "output_type": "stream",
     "text": [
      " 30 20\n",
      " 10 20\n",
      " 10 10\n"
     ]
    },
    {
     "name": "stdout",
     "output_type": "stream",
     "text": [
      "30 10\n"
     ]
    }
   ],
   "source": [
    "l1 = []\n",
    "l2 = []\n",
    "for i in range(3):\n",
    "    a,b = map(int,input().split())\n",
    "    l1.append(a)\n",
    "    l2.append(b)\n",
    "print(sum(set(l1))*2-sum(l1),sum(set(l2))*2-sum(l2))"
   ]
  },
  {
   "cell_type": "markdown",
   "id": "ede655cc-7e2c-4739-b82d-a78fab64b25c",
   "metadata": {},
   "source": [
    "<h6> l1=[5,5,7] 일때 set(l1)은 {5,7}이므로 set(l1)의 합의 2배에서 l1의 합을 빼면 부족한 하나가 나온다"
   ]
  },
  {
   "cell_type": "markdown",
   "id": "9380103a-1c90-4469-929f-86a7a4777556",
   "metadata": {},
   "source": [
    "<h3> 9.직각삼각형"
   ]
  },
  {
   "cell_type": "code",
   "execution_count": 14,
   "id": "f991f60c-0baf-4fe5-bd4a-4174359ba779",
   "metadata": {},
   "outputs": [
    {
     "name": "stdin",
     "output_type": "stream",
     "text": [
      " 6 8 10\n"
     ]
    },
    {
     "name": "stdout",
     "output_type": "stream",
     "text": [
      "right\n"
     ]
    },
    {
     "name": "stdin",
     "output_type": "stream",
     "text": [
      " 25 52 60\n"
     ]
    },
    {
     "name": "stdout",
     "output_type": "stream",
     "text": [
      "wrong\n"
     ]
    },
    {
     "name": "stdin",
     "output_type": "stream",
     "text": [
      " 5 12 13\n"
     ]
    },
    {
     "name": "stdout",
     "output_type": "stream",
     "text": [
      "right\n"
     ]
    },
    {
     "name": "stdin",
     "output_type": "stream",
     "text": [
      " 1 2 3\n"
     ]
    },
    {
     "name": "stdout",
     "output_type": "stream",
     "text": [
      "wrong\n"
     ]
    },
    {
     "name": "stdin",
     "output_type": "stream",
     "text": [
      " 3 4 5\n"
     ]
    },
    {
     "name": "stdout",
     "output_type": "stream",
     "text": [
      "right\n"
     ]
    },
    {
     "name": "stdin",
     "output_type": "stream",
     "text": [
      " 0 0 0\n"
     ]
    }
   ],
   "source": [
    "while True:\n",
    "    triangle=list(map(int,input().split()))\n",
    "    if sum(triangle)==0:\n",
    "        break\n",
    "    maxlength=triangle.pop(triangle.index(max(triangle)))\n",
    "    \n",
    "    if maxlength**2==(triangle[0]**2+triangle[1]**2):\n",
    "        print(\"right\")\n",
    "    else:\n",
    "        print(\"wrong\")"
   ]
  },
  {
   "cell_type": "markdown",
   "id": "04439e10-6eae-4d85-929e-98cb3dc326d6",
   "metadata": {},
   "source": [
    "### 10. 택시 기하학"
   ]
  },
  {
   "cell_type": "code",
   "execution_count": 15,
   "id": "cf19fca1-333f-47a3-8304-f304d66fbd3e",
   "metadata": {},
   "outputs": [
    {
     "name": "stdin",
     "output_type": "stream",
     "text": [
      " 1\n"
     ]
    },
    {
     "name": "stdout",
     "output_type": "stream",
     "text": [
      "3.141593\n",
      "2.000000\n"
     ]
    }
   ],
   "source": [
    "import math\n",
    "\n",
    "N=int(input())**2\n",
    "print(\"{0:6f}\".format(math.pi*N))\n",
    "print(\"{0:6f}\".format(2*N))"
   ]
  },
  {
   "cell_type": "markdown",
   "id": "0aae8273-53a6-4cdc-8eb5-8f4bc59e5e72",
   "metadata": {},
   "source": [
    "### 11. 터렛"
   ]
  },
  {
   "cell_type": "code",
   "execution_count": 16,
   "id": "6b5c3741-fea9-4285-8934-f6a808824247",
   "metadata": {},
   "outputs": [
    {
     "name": "stdin",
     "output_type": "stream",
     "text": [
      " 1\n",
      " 0 0 3 1 1 15\n"
     ]
    },
    {
     "name": "stdout",
     "output_type": "stream",
     "text": [
      "0\n"
     ]
    }
   ],
   "source": [
    "N=int(input())\n",
    "\n",
    "for _ in range(N):\n",
    "    x1,y1,r1,x2,y2,r2=map(int,input().split())\n",
    "    \n",
    "    if x1==x2 and y1==y2:\n",
    "        if r1==r2:\n",
    "            print(-1)\n",
    "        else:\n",
    "            print(0)\n",
    "    else:\n",
    "        distance=((x1-x2)**2+(y1-y2)**2)**(1/2)\n",
    "        \n",
    "        if distance<r1 or distance<r2:\n",
    "            if distance==abs(r1-r2):\n",
    "                print(1)\n",
    "            elif distance<abs(r1-r2):\n",
    "                print(0)\n",
    "            else:\n",
    "                print(2)\n",
    "        else:\n",
    "            if distance==(r1+r2):\n",
    "                print(1)\n",
    "            elif distance>(r1+r2):\n",
    "                print(0)\n",
    "            else:\n",
    "                print(2)"
   ]
  }
 ],
 "metadata": {
  "kernelspec": {
   "display_name": "Python 3",
   "language": "python",
   "name": "python3"
  },
  "language_info": {
   "codemirror_mode": {
    "name": "ipython",
    "version": 3
   },
   "file_extension": ".py",
   "mimetype": "text/x-python",
   "name": "python",
   "nbconvert_exporter": "python",
   "pygments_lexer": "ipython3",
   "version": "3.8.8"
  }
 },
 "nbformat": 4,
 "nbformat_minor": 5
}
