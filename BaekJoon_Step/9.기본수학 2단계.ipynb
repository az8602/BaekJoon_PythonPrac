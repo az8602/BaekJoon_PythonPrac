{
 "cells": [
  {
   "cell_type": "markdown",
   "id": "8b2bd500-4b56-4938-9bd3-21893d3794ca",
   "metadata": {},
   "source": [
    "<h1> 9.기본수학 2단계"
   ]
  },
  {
   "cell_type": "markdown",
   "id": "a740df2f-6042-473d-88a0-ef4f3161add0",
   "metadata": {},
   "source": [
    "<h3>1. 소수 찾기"
   ]
  },
  {
   "cell_type": "markdown",
   "id": "f3d0facd-b2a1-4b91-8291-bad091a97024",
   "metadata": {},
   "source": [
    "<h6> 에라토스테네스의 체 이용"
   ]
  },
  {
   "cell_type": "code",
   "execution_count": 66,
   "id": "7647612f-855f-48bf-b78e-ad8126a97dbd",
   "metadata": {},
   "outputs": [
    {
     "name": "stdin",
     "output_type": "stream",
     "text": [
      " 4\n",
      " 1 3 5 17\n"
     ]
    },
    {
     "name": "stdout",
     "output_type": "stream",
     "text": [
      "3\n"
     ]
    }
   ],
   "source": [
    "N=int(input())\n",
    "Checknumber=list(map(int,input().split()))\n",
    "maxN=max(Checknumber)\n",
    "primeN=list()\n",
    "Nset=set(x for x in range(2,maxN+1))\n",
    "count=0\n",
    "\n",
    "while len(Nset)>0:\n",
    "    if min(Nset) in Checknumber:\n",
    "        count+=1\n",
    "    minuset=set(min(Nset)*x for x in range(1,((max(Nset)//min(Nset))+1)))\n",
    "    primeN.append(min(Nset))\n",
    "    Nset=Nset-minuset\n",
    "print(count)"
   ]
  },
  {
   "cell_type": "markdown",
   "id": "d23f92af-6892-4f45-bb1f-6a70d55138b8",
   "metadata": {},
   "source": [
    "<h6> n보다 작은 n-1까지로 n을 나눠 나머지가 다 0이면 소수 이용"
   ]
  },
  {
   "cell_type": "code",
   "execution_count": 43,
   "id": "cd221868-8b19-4d9c-a9e6-d92b555f1838",
   "metadata": {},
   "outputs": [
    {
     "name": "stdin",
     "output_type": "stream",
     "text": [
      " 4\n",
      " 1 3 5 17\n"
     ]
    },
    {
     "name": "stdout",
     "output_type": "stream",
     "text": [
      "3\n"
     ]
    }
   ],
   "source": [
    "cnt=0\n",
    "input()\n",
    "arr = map(int, input().split())\n",
    "for n in arr:\n",
    "    \n",
    "    if(n == 1):\n",
    "        continue\n",
    "    else:\n",
    "        stk=1\n",
    "        for i in range(2,n):\n",
    "            if n%i==0:\n",
    "                stk=0\n",
    "        cnt+=stk\n",
    "\n",
    "print(cnt)"
   ]
  },
  {
   "cell_type": "markdown",
   "id": "cf35a20e-aea2-49c5-a208-f8519962bf7c",
   "metadata": {},
   "source": [
    "<h3>2. 소수"
   ]
  },
  {
   "cell_type": "code",
   "execution_count": 63,
   "id": "6be91b92-d56d-4cec-9f8a-2f40e31ab794",
   "metadata": {},
   "outputs": [
    {
     "name": "stdin",
     "output_type": "stream",
     "text": [
      " 60\n",
      " 100\n"
     ]
    },
    {
     "name": "stdout",
     "output_type": "stream",
     "text": [
      "620\n",
      "61\n"
     ]
    }
   ],
   "source": [
    "M=int(input())\n",
    "N=int(input())\n",
    "primeN=list()\n",
    "Nset=set(x for x in range(2,N+1))\n",
    "\n",
    "while len(Nset)>0:\n",
    "    if min(Nset)>=M:\n",
    "        primeN.append(min(Nset))\n",
    "    minuset=set(min(Nset)*x for x in range(1,((max(Nset)//min(Nset))+1)))\n",
    "    Nset=Nset-minuset\n",
    "if len(primeN)==0:\n",
    "    print(-1)\n",
    "else:\n",
    "    print(sum(primeN))\n",
    "    print(min(primeN))"
   ]
  },
  {
   "cell_type": "code",
   "execution_count": 42,
   "id": "c947306f-e17a-4fb6-ae2c-5d5b1d907c28",
   "metadata": {},
   "outputs": [
    {
     "name": "stdin",
     "output_type": "stream",
     "text": [
      " 60\n",
      " 100\n"
     ]
    },
    {
     "name": "stdout",
     "output_type": "stream",
     "text": [
      "620\n",
      "61\n"
     ]
    }
   ],
   "source": [
    "m = int(input())\n",
    "n = int(input())\n",
    "lst = []\n",
    "for x in range(m, n+1):\n",
    "    n_lst = [a for a in range(2, x) if x%a == 0]\n",
    "    if len(n_lst) == 0 and x != 1:\n",
    "        lst.append(x)\n",
    "if lst:\n",
    "    print(sum(lst))\n",
    "    print(lst[0])\n",
    "else:\n",
    "    print(-1)"
   ]
  },
  {
   "cell_type": "markdown",
   "id": "7e4c4781-5381-470a-96b9-28d7d4adcae6",
   "metadata": {},
   "source": [
    "<h6> 소수 만드는 부분 참고"
   ]
  },
  {
   "cell_type": "markdown",
   "id": "8984610d-5741-44ab-9c61-4b4f50801635",
   "metadata": {},
   "source": [
    "<h3> 3.소인수 분해"
   ]
  },
  {
   "cell_type": "code",
   "execution_count": 40,
   "id": "980a359b-856f-4cf7-871b-f081a73b550e",
   "metadata": {},
   "outputs": [
    {
     "name": "stdin",
     "output_type": "stream",
     "text": [
      " 9991\n"
     ]
    },
    {
     "name": "stdout",
     "output_type": "stream",
     "text": [
      "97\n",
      "103\n"
     ]
    }
   ],
   "source": [
    "N=int(input())\n",
    "Nset=set(x for x in range(2,int((N/2)+1)))\n",
    "\n",
    "while N!=1:\n",
    "    while N%min(Nset)==0:\n",
    "        print(min(Nset))\n",
    "        N=N//min(Nset)\n",
    "        \n",
    "    minuset=set(min(Nset)*x for x in range(1,((max(Nset)//min(Nset))+1)))\n",
    "    Nset=Nset-minuset"
   ]
  },
  {
   "cell_type": "markdown",
   "id": "cdb72d86-93f0-439b-8963-6933382859d7",
   "metadata": {},
   "source": [
    "<h6> 너무 오래 걸린다. 아래와 같이 해야 시간초과가 걸리지 않는다"
   ]
  },
  {
   "cell_type": "code",
   "execution_count": 39,
   "id": "0a945c49-96b1-4992-a219-21b97367d8df",
   "metadata": {},
   "outputs": [
    {
     "name": "stdin",
     "output_type": "stream",
     "text": [
      " 9991\n"
     ]
    },
    {
     "name": "stdout",
     "output_type": "stream",
     "text": [
      "97\n",
      "103\n"
     ]
    }
   ],
   "source": [
    "n=int(input())\n",
    "i=2\n",
    "while n!=1:\n",
    "    if n%i==0:\n",
    "        print(i)\n",
    "        n/=i\n",
    "    else:\n",
    "        i+=1"
   ]
  },
  {
   "cell_type": "markdown",
   "id": "316c9939-b382-43b9-aa39-034ca6ac6dd4",
   "metadata": {},
   "source": [
    "<h6> 이게 왜 짧을까?.. 내 생각엔 앞에서 2로 나누면 2의 배수, 즉 4나 6등의 부분이 사라지기 때문이지 않을까라고 생각한다. 단순한 코드가 더 짧을 수도 있다는 것을 배웠다"
   ]
  },
  {
   "cell_type": "markdown",
   "id": "5501a015-cd9b-4b48-a7cf-69a12359e683",
   "metadata": {},
   "source": [
    "<h3> 4.소수 구하기"
   ]
  },
  {
   "cell_type": "markdown",
   "id": "e228531d-a710-48c7-b19d-dbc98011d3c2",
   "metadata": {},
   "source": [
    "<h6> 모든 코드 시간초과.. 다시 풀기"
   ]
  }
 ],
 "metadata": {
  "kernelspec": {
   "display_name": "Python 3",
   "language": "python",
   "name": "python3"
  },
  "language_info": {
   "codemirror_mode": {
    "name": "ipython",
    "version": 3
   },
   "file_extension": ".py",
   "mimetype": "text/x-python",
   "name": "python",
   "nbconvert_exporter": "python",
   "pygments_lexer": "ipython3",
   "version": "3.8.8"
  }
 },
 "nbformat": 4,
 "nbformat_minor": 5
}
