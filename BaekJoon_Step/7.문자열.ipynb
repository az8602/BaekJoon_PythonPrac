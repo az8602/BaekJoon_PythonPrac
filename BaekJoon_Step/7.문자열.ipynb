{
 "cells": [
  {
   "cell_type": "markdown",
   "id": "68aaf76b-157e-454e-a217-7c0bd6614fbc",
   "metadata": {},
   "source": [
    "<h1> 7.문자열"
   ]
  },
  {
   "cell_type": "markdown",
   "id": "affd233e-3315-4577-91e1-0ad0d30dc396",
   "metadata": {},
   "source": [
    "<h3> 8. 다이얼"
   ]
  },
  {
   "cell_type": "code",
   "execution_count": 1,
   "id": "2a85211c-5220-4c31-8475-fe814f9dbab6",
   "metadata": {},
   "outputs": [
    {
     "name": "stdin",
     "output_type": "stream",
     "text": [
      " UNUCIC\n"
     ]
    },
    {
     "name": "stdout",
     "output_type": "stream",
     "text": [
      "36\n"
     ]
    }
   ],
   "source": [
    "import sys\n",
    "# C=sys.stdin.readline().strip()\n",
    "\n",
    "C=input()\n",
    "\n",
    "Checklist=\"ABCDEFGHIJKLMNOPQRSTUVWXYZ\"\n",
    "Checktime=[3,3,3,4,4,4,5,5,5,6,6,6,7,7,7,8,8,8,8,9,9,9,10,10,10,10]\n",
    "\n",
    "Checksum=0\n",
    "for x in C:\n",
    "    Checksum+=Checktime[Checklist.index(x)]\n",
    "print(Checksum)"
   ]
  },
  {
   "cell_type": "markdown",
   "id": "61459d87-b6f7-4a6a-bfb1-809b594d7dc0",
   "metadata": {},
   "source": [
    "<h3> 9. 크로아티아 알파벳"
   ]
  },
  {
   "cell_type": "code",
   "execution_count": 2,
   "id": "9c443286-55d6-449b-812d-b8dc745c9414",
   "metadata": {},
   "outputs": [
    {
     "name": "stdin",
     "output_type": "stream",
     "text": [
      " dz=ak\n"
     ]
    },
    {
     "name": "stdout",
     "output_type": "stream",
     "text": [
      "3\n"
     ]
    }
   ],
   "source": [
    "import sys\n",
    "# C=sys.stdin.readline().strip()\n",
    "\n",
    "C=input()\n",
    "Checklist=[\"c=\",\"c-\",\"dz=\",\"d-\",\"lj\",\"nj\",\"s=\",\"z=\"]\n",
    "\n",
    "lenC=len(C)\n",
    "for x in Checklist:\n",
    "    if C.find(x)==-1:\n",
    "        continue\n",
    "    else:\n",
    "        lenC-=(len(C.split(x))-1)\n",
    "print(lenC)"
   ]
  },
  {
   "cell_type": "markdown",
   "id": "5d7cf920-80a9-4469-94d6-f0d7ba4104ed",
   "metadata": {},
   "source": [
    "<h6> dz=는 3단어가 한단어로 줄어든 것이므로 dz=에서 1번, z=에서 1번 빼면 2번 빼는 역할을 해서 위와 같은 코드로도 작동이 가능하다"
   ]
  },
  {
   "cell_type": "markdown",
   "id": "9c4809cb-2fb2-4fe2-904b-d1db1e806c32",
   "metadata": {},
   "source": [
    "<h3> 10. 그룹 단어 체커"
   ]
  },
  {
   "cell_type": "code",
   "execution_count": 3,
   "id": "f80ef3dc-3ebf-4c6c-8622-d961eb32a9d2",
   "metadata": {},
   "outputs": [
    {
     "name": "stdin",
     "output_type": "stream",
     "text": [
      " 3\n",
      " happy\n",
      " new\n",
      " year\n"
     ]
    },
    {
     "name": "stdout",
     "output_type": "stream",
     "text": [
      "3\n"
     ]
    }
   ],
   "source": [
    "import sys\n",
    "# N=int(sys.stdin.readline())\n",
    "N=int(input())\n",
    "count=N\n",
    "\n",
    "for x in range(N):\n",
    "    breaker=False\n",
    "    # C=sys.stdin.readline().strip()\n",
    "    C=input()\n",
    "    check=set(C)\n",
    "\n",
    "    for y in check:\n",
    "        Clist=list(C)\n",
    "        ylist=list()\n",
    "        for z in range(C.count(y)):\n",
    "            if breaker:\n",
    "                break\n",
    "            ylist.append(Clist.index(y))\n",
    "            Clist.pop(Clist.index(y))\n",
    "            \n",
    "            if len(ylist)==1:\n",
    "                continue\n",
    "            else:\n",
    "                gijun=ylist[0]\n",
    "                for i in ylist[1:]:\n",
    "                    if gijun!=i:\n",
    "                        count-=1\n",
    "                        breaker=True\n",
    "print(count)"
   ]
  }
 ],
 "metadata": {
  "kernelspec": {
   "display_name": "Python 3",
   "language": "python",
   "name": "python3"
  },
  "language_info": {
   "codemirror_mode": {
    "name": "ipython",
    "version": 3
   },
   "file_extension": ".py",
   "mimetype": "text/x-python",
   "name": "python",
   "nbconvert_exporter": "python",
   "pygments_lexer": "ipython3",
   "version": "3.8.8"
  }
 },
 "nbformat": 4,
 "nbformat_minor": 5
}
