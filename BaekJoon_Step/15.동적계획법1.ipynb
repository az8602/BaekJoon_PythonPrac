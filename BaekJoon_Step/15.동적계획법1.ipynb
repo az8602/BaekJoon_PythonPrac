{
 "cells": [
  {
   "cell_type": "markdown",
   "id": "df1f6a9d-3362-44c4-a305-9cb3958e76ef",
   "metadata": {},
   "source": [
    "# 15.동적계획법1"
   ]
  },
  {
   "cell_type": "markdown",
   "id": "2d1ad8fd-a620-41c4-9827-e3d315cbe451",
   "metadata": {},
   "source": [
    "### 1.피보나치 함수"
   ]
  },
  {
   "cell_type": "code",
   "execution_count": 1,
   "id": "e9a6ed02-73d6-4d7b-8664-e54ece8277c1",
   "metadata": {},
   "outputs": [
    {
     "name": "stdin",
     "output_type": "stream",
     "text": [
      " 3\n",
      " 0\n"
     ]
    },
    {
     "name": "stdout",
     "output_type": "stream",
     "text": [
      "1 0\n"
     ]
    },
    {
     "name": "stdin",
     "output_type": "stream",
     "text": [
      " 1\n"
     ]
    },
    {
     "name": "stdout",
     "output_type": "stream",
     "text": [
      "0 1\n"
     ]
    },
    {
     "name": "stdin",
     "output_type": "stream",
     "text": [
      " 3\n"
     ]
    },
    {
     "name": "stdout",
     "output_type": "stream",
     "text": [
      "1 2\n"
     ]
    }
   ],
   "source": [
    "def fibonacci(n,nlist):\n",
    "    if n==0:\n",
    "        return nlist\n",
    "    else:\n",
    "        nlist[0],nlist[1] = nlist[1], nlist[0]+nlist[1]\n",
    "        n-=1\n",
    "        return fibonacci(n,nlist)\n",
    "\n",
    "N=int(input())\n",
    "for _ in range(N):\n",
    "    nlist=[1,0]\n",
    "    a,b=fibonacci(int(input()),nlist)\n",
    "    print(a,b)"
   ]
  }
 ],
 "metadata": {
  "kernelspec": {
   "display_name": "Python 3",
   "language": "python",
   "name": "python3"
  },
  "language_info": {
   "codemirror_mode": {
    "name": "ipython",
    "version": 3
   },
   "file_extension": ".py",
   "mimetype": "text/x-python",
   "name": "python",
   "nbconvert_exporter": "python",
   "pygments_lexer": "ipython3",
   "version": "3.8.8"
  }
 },
 "nbformat": 4,
 "nbformat_minor": 5
}
