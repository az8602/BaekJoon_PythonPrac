{
 "cells": [
  {
   "cell_type": "markdown",
   "id": "df1f6a9d-3362-44c4-a305-9cb3958e76ef",
   "metadata": {},
   "source": [
    "# 15.동적계획법1"
   ]
  },
  {
   "cell_type": "markdown",
   "id": "2d1ad8fd-a620-41c4-9827-e3d315cbe451",
   "metadata": {},
   "source": [
    "### 1.피보나치 함수"
   ]
  },
  {
   "cell_type": "code",
   "execution_count": 1,
   "id": "d0e5c81d-d38c-450a-8f57-e159e369e3fb",
   "metadata": {},
   "outputs": [
    {
     "name": "stdin",
     "output_type": "stream",
     "text": [
      " 3\n",
      " 1\n"
     ]
    },
    {
     "name": "stdout",
     "output_type": "stream",
     "text": [
      "0 1\n"
     ]
    },
    {
     "name": "stdin",
     "output_type": "stream",
     "text": [
      " 5\n"
     ]
    },
    {
     "name": "stdout",
     "output_type": "stream",
     "text": [
      "3 5\n"
     ]
    },
    {
     "name": "stdin",
     "output_type": "stream",
     "text": [
      " 18\n"
     ]
    },
    {
     "name": "stdout",
     "output_type": "stream",
     "text": [
      "1597 2584\n"
     ]
    }
   ],
   "source": [
    "def fibonacci(n,nlist):\n",
    "    if n==0:\n",
    "        return nlist\n",
    "    else:\n",
    "        nlist[0],nlist[1] = nlist[1], nlist[0]+nlist[1]\n",
    "        n-=1\n",
    "        return fibonacci(n,nlist)\n",
    "\n",
    "N=int(input())\n",
    "for _ in range(N):\n",
    "    nlist=[1,0]\n",
    "    a,b=fibonacci(int(input()),nlist)\n",
    "    print(a,b)"
   ]
  },
  {
   "cell_type": "markdown",
   "id": "0e284be5-53ed-4f1e-9a64-f37c94cce3eb",
   "metadata": {},
   "source": [
    "### 4.파도반 수열"
   ]
  },
  {
   "cell_type": "code",
   "execution_count": 2,
   "id": "04559948-6f54-4f1a-aa89-9ee39aadfb9e",
   "metadata": {},
   "outputs": [
    {
     "name": "stdin",
     "output_type": "stream",
     "text": [
      " 2\n",
      " 6\n"
     ]
    },
    {
     "name": "stdout",
     "output_type": "stream",
     "text": [
      "3\n"
     ]
    },
    {
     "name": "stdin",
     "output_type": "stream",
     "text": [
      " 12\n"
     ]
    },
    {
     "name": "stdout",
     "output_type": "stream",
     "text": [
      "16\n"
     ]
    }
   ],
   "source": [
    "def fadoban(n,nlist):\n",
    "    if n<=5:\n",
    "        return nlist[n-1]\n",
    "    else:\n",
    "        nlist[0:4],nlist[4]= nlist[1:5],(nlist[4]+nlist[0])\n",
    "        n-=1\n",
    "        return fadoban(n,nlist)\n",
    "\n",
    "N=int(input())\n",
    "for _ in range(N):\n",
    "    nlist=[1,1,1,2,2]\n",
    "    print(fadoban(int(input()),nlist))"
   ]
  }
 ],
 "metadata": {
  "kernelspec": {
   "display_name": "Python 3",
   "language": "python",
   "name": "python3"
  },
  "language_info": {
   "codemirror_mode": {
    "name": "ipython",
    "version": 3
   },
   "file_extension": ".py",
   "mimetype": "text/x-python",
   "name": "python",
   "nbconvert_exporter": "python",
   "pygments_lexer": "ipython3",
   "version": "3.8.8"
  }
 },
 "nbformat": 4,
 "nbformat_minor": 5
}
