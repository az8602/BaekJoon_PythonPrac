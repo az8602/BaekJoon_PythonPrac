{
 "cells": [
  {
   "cell_type": "markdown",
   "id": "1c8d48ca-3e05-4659-9221-3d5d6fdfff17",
   "metadata": {},
   "source": [
    "# 17.정수론 및 조합론"
   ]
  },
  {
   "cell_type": "markdown",
   "id": "71e4f806-431a-4a54-8d6e-2cf3fecea64a",
   "metadata": {},
   "source": [
    "### 7.이항계수1"
   ]
  },
  {
   "cell_type": "code",
   "execution_count": 1,
   "id": "1c4d8f90-051d-499a-99d7-97c4d2d138c3",
   "metadata": {},
   "outputs": [
    {
     "name": "stdin",
     "output_type": "stream",
     "text": [
      " 10 5\n"
     ]
    },
    {
     "name": "stdout",
     "output_type": "stream",
     "text": [
      "252\n"
     ]
    }
   ],
   "source": [
    "M,N=map(int,input().split())\n",
    "\n",
    "X=1\n",
    "for x in range(M,M-N,-1):\n",
    "    X*=x\n",
    "\n",
    "Y=1\n",
    "for y in range(N,0,-1):\n",
    "    Y*=y\n",
    "    \n",
    "print(X//Y)"
   ]
  }
 ],
 "metadata": {
  "kernelspec": {
   "display_name": "Python 3",
   "language": "python",
   "name": "python3"
  },
  "language_info": {
   "codemirror_mode": {
    "name": "ipython",
    "version": 3
   },
   "file_extension": ".py",
   "mimetype": "text/x-python",
   "name": "python",
   "nbconvert_exporter": "python",
   "pygments_lexer": "ipython3",
   "version": "3.8.8"
  }
 },
 "nbformat": 4,
 "nbformat_minor": 5
}
