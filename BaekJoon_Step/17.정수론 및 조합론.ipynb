{
 "cells": [
  {
   "cell_type": "markdown",
   "id": "1c8d48ca-3e05-4659-9221-3d5d6fdfff17",
   "metadata": {},
   "source": [
    "# 17.정수론 및 조합론"
   ]
  },
  {
   "cell_type": "markdown",
   "id": "32c8230d-34c2-49bd-99ae-946d4f3f4164",
   "metadata": {},
   "source": [
    "### 1.배수와 약수"
   ]
  },
  {
   "cell_type": "code",
   "execution_count": 1,
   "id": "0df33525-8a82-483f-9845-89da8cec2cd5",
   "metadata": {},
   "outputs": [
    {
     "name": "stdin",
     "output_type": "stream",
     "text": [
      " 8 16\n"
     ]
    },
    {
     "name": "stdout",
     "output_type": "stream",
     "text": [
      "factor\n"
     ]
    },
    {
     "name": "stdin",
     "output_type": "stream",
     "text": [
      " 4 2\n"
     ]
    },
    {
     "name": "stdout",
     "output_type": "stream",
     "text": [
      "multiple\n"
     ]
    },
    {
     "name": "stdin",
     "output_type": "stream",
     "text": [
      " 4 3\n"
     ]
    },
    {
     "name": "stdout",
     "output_type": "stream",
     "text": [
      "neither\n"
     ]
    },
    {
     "name": "stdin",
     "output_type": "stream",
     "text": [
      " 0 0\n"
     ]
    }
   ],
   "source": [
    "while True:\n",
    "    m,n=map(int,input().split())\n",
    "    \n",
    "    if m+n==0:\n",
    "        break\n",
    "    \n",
    "    if m%n==0:\n",
    "        print(\"multiple\")\n",
    "    elif n%m==0:\n",
    "        print(\"factor\")\n",
    "    else:\n",
    "        print(\"neither\")"
   ]
  },
  {
   "cell_type": "markdown",
   "id": "61a809ea-3f60-41bc-b83d-0d4fd1b7b858",
   "metadata": {},
   "source": [
    "### 2.약수"
   ]
  },
  {
   "cell_type": "code",
   "execution_count": 2,
   "id": "eb209239-6c01-41ec-9deb-e96b855ab5f9",
   "metadata": {},
   "outputs": [
    {
     "name": "stdin",
     "output_type": "stream",
     "text": [
      " 3\n",
      " 3 9 27\n"
     ]
    },
    {
     "name": "stdout",
     "output_type": "stream",
     "text": [
      "81\n"
     ]
    }
   ],
   "source": [
    "N=int(input())\n",
    "Nlist=list(map(int,input().split()))\n",
    "Nlist.sort()\n",
    "\n",
    "if len(Nlist)%2!=0:\n",
    "    print(Nlist[(len(Nlist)-1)//2]**2)\n",
    "else:\n",
    "    print(Nlist[(len(Nlist)//2)-1]*Nlist[(len(Nlist)//2)])"
   ]
  },
  {
   "cell_type": "markdown",
   "id": "61b51224-18a2-4f86-8d58-d67d84be56e9",
   "metadata": {},
   "source": [
    "### 4.최소공배수"
   ]
  },
  {
   "cell_type": "code",
   "execution_count": 3,
   "id": "acba38b4-81e7-42fd-b59f-498e0fa079f6",
   "metadata": {},
   "outputs": [
    {
     "name": "stdin",
     "output_type": "stream",
     "text": [
      " 3\n",
      " 1 45000\n"
     ]
    },
    {
     "name": "stdout",
     "output_type": "stream",
     "text": [
      "45000\n"
     ]
    },
    {
     "name": "stdin",
     "output_type": "stream",
     "text": [
      " 6 10\n"
     ]
    },
    {
     "name": "stdout",
     "output_type": "stream",
     "text": [
      "30\n"
     ]
    },
    {
     "name": "stdin",
     "output_type": "stream",
     "text": [
      " 13 17\n"
     ]
    },
    {
     "name": "stdout",
     "output_type": "stream",
     "text": [
      "221\n"
     ]
    }
   ],
   "source": [
    "N=int(input())\n",
    "\n",
    "def GCF(m,n):\n",
    "    if m==0 or n==0:\n",
    "        return(m+n)\n",
    "    if m>n:\n",
    "        return GCF(m%n,n)\n",
    "    else:\n",
    "        return GCF(m,n%m)\n",
    "    \n",
    "for _ in range(N):\n",
    "    a,b=map(int,input().split())\n",
    "    print((a*b)//GCF(a,b))"
   ]
  },
  {
   "cell_type": "markdown",
   "id": "71e4f806-431a-4a54-8d6e-2cf3fecea64a",
   "metadata": {},
   "source": [
    "### 7.이항계수1"
   ]
  },
  {
   "cell_type": "code",
   "execution_count": 4,
   "id": "1c4d8f90-051d-499a-99d7-97c4d2d138c3",
   "metadata": {},
   "outputs": [
    {
     "name": "stdin",
     "output_type": "stream",
     "text": [
      " 10 5\n"
     ]
    },
    {
     "name": "stdout",
     "output_type": "stream",
     "text": [
      "252\n"
     ]
    }
   ],
   "source": [
    "M,N=map(int,input().split())\n",
    "\n",
    "X=1\n",
    "for x in range(M,M-N,-1):\n",
    "    X*=x\n",
    "\n",
    "Y=1\n",
    "for y in range(N,0,-1):\n",
    "    Y*=y\n",
    "    \n",
    "print(X//Y)"
   ]
  }
 ],
 "metadata": {
  "kernelspec": {
   "display_name": "Python 3",
   "language": "python",
   "name": "python3"
  },
  "language_info": {
   "codemirror_mode": {
    "name": "ipython",
    "version": 3
   },
   "file_extension": ".py",
   "mimetype": "text/x-python",
   "name": "python",
   "nbconvert_exporter": "python",
   "pygments_lexer": "ipython3",
   "version": "3.8.8"
  }
 },
 "nbformat": 4,
 "nbformat_minor": 5
}
