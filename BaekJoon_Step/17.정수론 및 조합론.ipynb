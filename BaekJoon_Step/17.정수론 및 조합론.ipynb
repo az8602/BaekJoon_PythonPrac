{
 "cells": [
  {
   "cell_type": "markdown",
   "id": "1c8d48ca-3e05-4659-9221-3d5d6fdfff17",
   "metadata": {},
   "source": [
    "# 17.정수론 및 조합론"
   ]
  },
  {
   "cell_type": "markdown",
   "id": "32c8230d-34c2-49bd-99ae-946d4f3f4164",
   "metadata": {},
   "source": [
    "### 1.배수와 약수"
   ]
  },
  {
   "cell_type": "code",
   "execution_count": 1,
   "id": "0df33525-8a82-483f-9845-89da8cec2cd5",
   "metadata": {},
   "outputs": [
    {
     "name": "stdin",
     "output_type": "stream",
     "text": [
      " 8 16\n"
     ]
    },
    {
     "name": "stdout",
     "output_type": "stream",
     "text": [
      "factor\n"
     ]
    },
    {
     "name": "stdin",
     "output_type": "stream",
     "text": [
      " 4 2\n"
     ]
    },
    {
     "name": "stdout",
     "output_type": "stream",
     "text": [
      "multiple\n"
     ]
    },
    {
     "name": "stdin",
     "output_type": "stream",
     "text": [
      " 4 3\n"
     ]
    },
    {
     "name": "stdout",
     "output_type": "stream",
     "text": [
      "neither\n"
     ]
    },
    {
     "name": "stdin",
     "output_type": "stream",
     "text": [
      " 0 0\n"
     ]
    }
   ],
   "source": [
    "while True:\n",
    "    m,n=map(int,input().split())\n",
    "    \n",
    "    if m+n==0:\n",
    "        break\n",
    "    \n",
    "    if m%n==0:\n",
    "        print(\"multiple\")\n",
    "    elif n%m==0:\n",
    "        print(\"factor\")\n",
    "    else:\n",
    "        print(\"neither\")"
   ]
  },
  {
   "cell_type": "markdown",
   "id": "61a809ea-3f60-41bc-b83d-0d4fd1b7b858",
   "metadata": {},
   "source": [
    "### 2.약수"
   ]
  },
  {
   "cell_type": "code",
   "execution_count": 2,
   "id": "eb209239-6c01-41ec-9deb-e96b855ab5f9",
   "metadata": {},
   "outputs": [
    {
     "name": "stdin",
     "output_type": "stream",
     "text": [
      " 3\n",
      " 3 9 27\n"
     ]
    },
    {
     "name": "stdout",
     "output_type": "stream",
     "text": [
      "81\n"
     ]
    }
   ],
   "source": [
    "N=int(input())\n",
    "Nlist=list(map(int,input().split()))\n",
    "Nlist.sort()\n",
    "\n",
    "if len(Nlist)%2!=0:\n",
    "    print(Nlist[(len(Nlist)-1)//2]**2)\n",
    "else:\n",
    "    print(Nlist[(len(Nlist)//2)-1]*Nlist[(len(Nlist)//2)])"
   ]
  },
  {
   "cell_type": "markdown",
   "id": "61b51224-18a2-4f86-8d58-d67d84be56e9",
   "metadata": {},
   "source": [
    "### 4.최소공배수"
   ]
  },
  {
   "cell_type": "code",
   "execution_count": 3,
   "id": "acba38b4-81e7-42fd-b59f-498e0fa079f6",
   "metadata": {},
   "outputs": [
    {
     "name": "stdin",
     "output_type": "stream",
     "text": [
      " 3\n",
      " 1 45000\n"
     ]
    },
    {
     "name": "stdout",
     "output_type": "stream",
     "text": [
      "45000\n"
     ]
    },
    {
     "name": "stdin",
     "output_type": "stream",
     "text": [
      " 45 95\n"
     ]
    },
    {
     "name": "stdout",
     "output_type": "stream",
     "text": [
      "855\n"
     ]
    },
    {
     "name": "stdin",
     "output_type": "stream",
     "text": [
      " 243 12\n"
     ]
    },
    {
     "name": "stdout",
     "output_type": "stream",
     "text": [
      "972\n"
     ]
    }
   ],
   "source": [
    "N=int(input())\n",
    "\n",
    "def GCF(m,n):\n",
    "    if m==0 or n==0:\n",
    "        return(m+n)\n",
    "    if m>n:\n",
    "        return GCF(m%n,n)\n",
    "    else:\n",
    "        return GCF(m,n%m)\n",
    "    \n",
    "for _ in range(N):\n",
    "    a,b=map(int,input().split())\n",
    "    print((a*b)//GCF(a,b))"
   ]
  },
  {
   "cell_type": "markdown",
   "id": "71e4f806-431a-4a54-8d6e-2cf3fecea64a",
   "metadata": {},
   "source": [
    "### 7.이항계수1"
   ]
  },
  {
   "cell_type": "code",
   "execution_count": 4,
   "id": "1c4d8f90-051d-499a-99d7-97c4d2d138c3",
   "metadata": {},
   "outputs": [
    {
     "name": "stdin",
     "output_type": "stream",
     "text": [
      " 10 5\n"
     ]
    },
    {
     "name": "stdout",
     "output_type": "stream",
     "text": [
      "252\n"
     ]
    }
   ],
   "source": [
    "M,N=map(int,input().split())\n",
    "\n",
    "X=1\n",
    "for x in range(M,M-N,-1):\n",
    "    X*=x\n",
    "\n",
    "Y=1\n",
    "for y in range(N,0,-1):\n",
    "    Y*=y\n",
    "    \n",
    "print(X//Y)"
   ]
  },
  {
   "cell_type": "markdown",
   "id": "85d9348e-c4df-412f-8f69-6d451a0a95df",
   "metadata": {},
   "source": [
    "### 9.다리 놓기"
   ]
  },
  {
   "cell_type": "code",
   "execution_count": 5,
   "id": "dabe2cda-c70d-4ed7-83ff-ba4a07c78690",
   "metadata": {},
   "outputs": [
    {
     "name": "stdin",
     "output_type": "stream",
     "text": [
      " 3\n",
      " 2 2\n"
     ]
    },
    {
     "name": "stdout",
     "output_type": "stream",
     "text": [
      "1\n"
     ]
    },
    {
     "name": "stdin",
     "output_type": "stream",
     "text": [
      " 1 5\n"
     ]
    },
    {
     "name": "stdout",
     "output_type": "stream",
     "text": [
      "5\n"
     ]
    },
    {
     "name": "stdin",
     "output_type": "stream",
     "text": [
      " 3 10\n"
     ]
    },
    {
     "name": "stdout",
     "output_type": "stream",
     "text": [
      "120\n"
     ]
    }
   ],
   "source": [
    "repeat=int(input())\n",
    "        \n",
    "for _ in range(repeat):\n",
    "    n,m=map(int,input().split())\n",
    "    up=1\n",
    "    down=1\n",
    "    for i in range(m,m-n,-1):\n",
    "        up*=i\n",
    "    for j in range(1,n+1):\n",
    "        down*=j\n",
    "    print(up//down)"
   ]
  },
  {
   "cell_type": "markdown",
   "id": "4b3f8f42-3dc7-40ee-b13f-c1feb61fca40",
   "metadata": {},
   "source": [
    "### 10.패션왕 신해빈"
   ]
  },
  {
   "cell_type": "code",
   "execution_count": 6,
   "id": "e3ace50d-e13e-4373-b087-6cc9fa3455c5",
   "metadata": {},
   "outputs": [
    {
     "name": "stdin",
     "output_type": "stream",
     "text": [
      " 2\n",
      " 3\n",
      " hat headgear\n",
      " sunglasses eyewear\n",
      " turban headgear\n"
     ]
    },
    {
     "name": "stdout",
     "output_type": "stream",
     "text": [
      "5\n"
     ]
    },
    {
     "name": "stdin",
     "output_type": "stream",
     "text": [
      " 3\n",
      " mask face\n",
      " sunglasses face\n",
      " makeup face\n"
     ]
    },
    {
     "name": "stdout",
     "output_type": "stream",
     "text": [
      "3\n"
     ]
    }
   ],
   "source": [
    "N=int(input())\n",
    "\n",
    "for _ in range(N):\n",
    "    t=int(input())\n",
    "    Tdict={}\n",
    "    for _ in range(t):\n",
    "        _,y=input().split()\n",
    "        if y not in Tdict.keys():\n",
    "            Tdict[y]=2\n",
    "        else:\n",
    "            Tdict[y]+=1\n",
    "    count=1\n",
    "    for x in list(Tdict.values()):\n",
    "        count*=x\n",
    "    print(count-1)    "
   ]
  },
  {
   "cell_type": "markdown",
   "id": "2f4c9375-5f37-4a54-8d69-5472f9430727",
   "metadata": {},
   "source": [
    "### 11.팩토리얼 0의개수"
   ]
  },
  {
   "cell_type": "code",
   "execution_count": 7,
   "id": "d0391ac8-b6b3-4c3b-a9f8-b4cd286a25e6",
   "metadata": {},
   "outputs": [
    {
     "name": "stdin",
     "output_type": "stream",
     "text": [
      " 500\n"
     ]
    },
    {
     "name": "stdout",
     "output_type": "stream",
     "text": [
      "124\n"
     ]
    }
   ],
   "source": [
    "facto=1\n",
    "count=0\n",
    "N=int(input())\n",
    "\n",
    "for x in range(1,N+1):\n",
    "    facto*=x\n",
    "while facto%10==0:\n",
    "    count+=1\n",
    "    facto//=10\n",
    "print(count)"
   ]
  },
  {
   "cell_type": "code",
   "execution_count": 8,
   "id": "afa35e4f-c51c-48f0-bd32-0337ce46a558",
   "metadata": {},
   "outputs": [
    {
     "name": "stdin",
     "output_type": "stream",
     "text": [
      " 0\n"
     ]
    },
    {
     "name": "stdout",
     "output_type": "stream",
     "text": [
      "0\n"
     ]
    }
   ],
   "source": [
    "N=int(input())\n",
    "count=0\n",
    "\n",
    "for x in range(1,N+1):\n",
    "    for i in range(1,4):\n",
    "        if x%5**i==0:\n",
    "            count+=1\n",
    "        \n",
    "print(count)"
   ]
  },
  {
   "cell_type": "code",
   "execution_count": 9,
   "id": "d74404b4-f71d-44ce-ae72-8e6d43929dea",
   "metadata": {},
   "outputs": [
    {
     "name": "stdin",
     "output_type": "stream",
     "text": [
      " 500\n"
     ]
    },
    {
     "name": "stdout",
     "output_type": "stream",
     "text": [
      "124\n"
     ]
    }
   ],
   "source": [
    "N=int(input())\n",
    "count=0\n",
    "\n",
    "for i in range(1,4):\n",
    "    count+=N//5**i\n",
    "        \n",
    "print(count)"
   ]
  },
  {
   "cell_type": "markdown",
   "id": "037b2a89-f51a-42d4-a0a8-2066237f78d6",
   "metadata": {},
   "source": [
    "### 12.조합 0의 개수"
   ]
  },
  {
   "cell_type": "code",
   "execution_count": 11,
   "id": "6afc14cf-477f-44ba-ac74-62c5d7c42cfc",
   "metadata": {},
   "outputs": [
    {
     "name": "stdin",
     "output_type": "stream",
     "text": [
      " 500 10\n"
     ]
    },
    {
     "name": "stdout",
     "output_type": "stream",
     "text": [
      "2\n"
     ]
    }
   ],
   "source": [
    "n,m=map(int,input().split())\n",
    "\n",
    "fivecount=0\n",
    "twocount=0\n",
    "\n",
    "for a in range(1,14):\n",
    "    fivecount+=n//5**a # 1~n까지의 5의 a제곱 개수를 다 더하기\n",
    "    fivecount-=(n-m)//5**a # 1~(n-m)까지의 5의 a제곱 개수를 다 빼기\n",
    "    fivecount-=m//5**a # 1~m까지의 5의 a제곱 개수를 다 빼기\n",
    "for b in range(1,31):\n",
    "    twocount+=n//2**b # 1~n까지의 2의 b제곱 개수를 다 더하기\n",
    "    twocount-=(n-m)//2**b # 1~(n-m)까지의 2의 b제곱 개수를 다 빼기\n",
    "    twocount-=m//2**b # 1~m까지의 2의 b제곱 개수를 다 빼기\n",
    "            \n",
    "# 10은 2와 5의 곱이라는 것을 숙지\n",
    "print(min(fivecount,twocount))"
   ]
  }
 ],
 "metadata": {
  "kernelspec": {
   "display_name": "Python 3",
   "language": "python",
   "name": "python3"
  },
  "language_info": {
   "codemirror_mode": {
    "name": "ipython",
    "version": 3
   },
   "file_extension": ".py",
   "mimetype": "text/x-python",
   "name": "python",
   "nbconvert_exporter": "python",
   "pygments_lexer": "ipython3",
   "version": "3.8.8"
  }
 },
 "nbformat": 4,
 "nbformat_minor": 5
}
