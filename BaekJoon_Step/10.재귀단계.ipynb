{
 "cells": [
  {
   "cell_type": "markdown",
   "id": "188844d2-3b80-4361-ba43-d5b294d858aa",
   "metadata": {},
   "source": [
    "# 10.재귀단계 "
   ]
  },
  {
   "cell_type": "markdown",
   "id": "428fc3eb-fefd-4c27-a9fc-ad51bfa60db2",
   "metadata": {},
   "source": [
    "### 1.팩토리얼"
   ]
  },
  {
   "cell_type": "code",
   "execution_count": 1,
   "id": "1b22f87b-fb22-481a-80c9-778d16d91aac",
   "metadata": {},
   "outputs": [
    {
     "name": "stdin",
     "output_type": "stream",
     "text": [
      " 12\n"
     ]
    },
    {
     "name": "stdout",
     "output_type": "stream",
     "text": [
      "479001600\n"
     ]
    }
   ],
   "source": [
    "def ftral(n,f=1):\n",
    "    if n<=1:\n",
    "        print(f)\n",
    "    else:\n",
    "        f*=n\n",
    "        ftral(n-1,f)\n",
    "\n",
    "ftral(int(input()))"
   ]
  },
  {
   "cell_type": "markdown",
   "id": "76f4e491-157a-4a35-8566-210bbb53db8b",
   "metadata": {},
   "source": [
    "### 2.피보나치 수 5"
   ]
  },
  {
   "cell_type": "code",
   "execution_count": 2,
   "id": "f5c32e39-f755-41a3-bfa6-5cb09d7757d4",
   "metadata": {},
   "outputs": [
    {
     "name": "stdin",
     "output_type": "stream",
     "text": [
      " 10\n"
     ]
    },
    {
     "name": "stdout",
     "output_type": "stream",
     "text": [
      "55\n"
     ]
    }
   ],
   "source": [
    "def pbnc(n,p=[0,1]):\n",
    "    p.append((p[len(p)-1]+p[len(p)-2]))\n",
    "    if len(p)<=n:\n",
    "        pbnc(n,p)\n",
    "    else:\n",
    "        print(p[n])\n",
    "\n",
    "pbnc(int(input()))"
   ]
  },
  {
   "cell_type": "markdown",
   "id": "8760053b-512d-4e44-952e-72655f7b5dc7",
   "metadata": {},
   "source": [
    "<h3> 3.별찍기"
   ]
  },
  {
   "cell_type": "code",
   "execution_count": null,
   "id": "ba39ee95-2588-438a-a212-791ac000f499",
   "metadata": {},
   "outputs": [],
   "source": []
  },
  {
   "cell_type": "markdown",
   "id": "d597c5d0-9563-41ec-a39e-03e6e546b34c",
   "metadata": {},
   "source": [
    "<h3> 4.하노이 탑 이동 순서"
   ]
  },
  {
   "cell_type": "code",
   "execution_count": 58,
   "id": "673c9b34-765f-4784-a919-3c48129496e5",
   "metadata": {},
   "outputs": [
    {
     "name": "stdin",
     "output_type": "stream",
     "text": [
      " 3\n"
     ]
    },
    {
     "name": "stdout",
     "output_type": "stream",
     "text": [
      "7\n",
      "1 3\n",
      "1 2\n",
      "3 2\n",
      "1 3\n",
      "2 1\n",
      "2 3\n",
      "1 3\n"
     ]
    }
   ],
   "source": [
    "def Nhanoi(n,x=1):\n",
    "    if n==1:\n",
    "        print(x)\n",
    "    else:\n",
    "        x=2*x+1\n",
    "        Nhanoi(n-1,x)\n",
    "        \n",
    "def hanoi(n,x=1,y=3,breaker=True):\n",
    "    \n",
    "    if breaker:\n",
    "        Nhanoi(n)\n",
    "        hanoi(n,x,y,False)\n",
    "    else:\n",
    "        if n>1:\n",
    "            z=x+y\n",
    "            hanoi(n-1,x,6-z,False)\n",
    "            print(x,y)\n",
    "            hanoi(n-1,6-z,y,False)\n",
    "        \n",
    "        else:\n",
    "            print(x,y)\n",
    "\n",
    "hanoi(int(input()))"
   ]
  },
  {
   "cell_type": "code",
   "execution_count": 93,
   "id": "7074b55d-2248-434e-a24f-e0628ce29068",
   "metadata": {},
   "outputs": [
    {
     "name": "stdin",
     "output_type": "stream",
     "text": [
      " 9\n"
     ]
    },
    {
     "name": "stdout",
     "output_type": "stream",
     "text": [
      "***\n",
      "* *\n",
      "***\n",
      "***\n",
      "* *\n",
      "***\n",
      "***\n",
      "* *\n",
      "***\n"
     ]
    }
   ],
   "source": [
    "\n",
    "def makestar(n,k=1):\n",
    "    x=\"***\"\n",
    "    y=\"* *\"\n",
    "    if n==3:\n",
    "        print(x)\n",
    "        print(y)\n",
    "        print(x)\n",
    "    else:\n",
    "        k+=1\n",
    "        makestar(n//3,k)\n",
    "        makestar(n//3,k)\n",
    "        makestar(n//3,k)\n",
    "        \n",
    "\n",
    "    \n",
    "makestar(int(input()))"
   ]
  },
  {
   "cell_type": "code",
   "execution_count": 87,
   "id": "76bcf1dc-8603-4963-9452-2da63bfe0244",
   "metadata": {},
   "outputs": [],
   "source": [
    "x=\"***\"\n",
    "y=\"* *\""
   ]
  },
  {
   "cell_type": "code",
   "execution_count": 91,
   "id": "36726ed6-1cdc-434f-afeb-fc545dd5c74f",
   "metadata": {},
   "outputs": [
    {
     "name": "stdout",
     "output_type": "stream",
     "text": [
      "*********\n",
      "* ** ** *\n",
      "*********\n"
     ]
    }
   ],
   "source": [
    "print(x*3)\n",
    "print(y*3)\n",
    "print(x*3)"
   ]
  }
 ],
 "metadata": {
  "kernelspec": {
   "display_name": "Python 3",
   "language": "python",
   "name": "python3"
  },
  "language_info": {
   "codemirror_mode": {
    "name": "ipython",
    "version": 3
   },
   "file_extension": ".py",
   "mimetype": "text/x-python",
   "name": "python",
   "nbconvert_exporter": "python",
   "pygments_lexer": "ipython3",
   "version": "3.8.8"
  }
 },
 "nbformat": 4,
 "nbformat_minor": 5
}
