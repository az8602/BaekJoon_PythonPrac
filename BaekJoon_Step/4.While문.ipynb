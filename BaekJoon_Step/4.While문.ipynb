{
 "cells": [
  {
   "cell_type": "markdown",
   "id": "fc212dc7-34a5-486e-a4ad-e36cdc3f9833",
   "metadata": {},
   "source": [
    "<h1> While문"
   ]
  },
  {
   "cell_type": "markdown",
   "id": "80280b44-fa58-4ec8-9a15-66570e09f320",
   "metadata": {},
   "source": [
    "<h3> 3. 더하기 사이클"
   ]
  },
  {
   "cell_type": "code",
   "execution_count": 1,
   "id": "7c05859a-7481-4ad9-8783-60a09b15028e",
   "metadata": {},
   "outputs": [
    {
     "name": "stdin",
     "output_type": "stream",
     "text": [
      " 26\n"
     ]
    },
    {
     "name": "stdout",
     "output_type": "stream",
     "text": [
      "4\n"
     ]
    }
   ],
   "source": [
    "# import sys\n",
    "# sys.stdin=open(\"./Input.txt\")\n",
    "\n",
    "# N=int(sys.stdin.readline())\n",
    "N=int(input())\n",
    "count=0\n",
    "FirstN=N\n",
    "\n",
    "while True:\n",
    "    count+=1\n",
    "    compareN=10*(N%10)+((N//10)+(N%10))%10\n",
    "    \n",
    "    if FirstN==compareN:\n",
    "        break\n",
    "    N=compareN\n",
    "print(count)"
   ]
  }
 ],
 "metadata": {
  "kernelspec": {
   "display_name": "Python 3",
   "language": "python",
   "name": "python3"
  },
  "language_info": {
   "codemirror_mode": {
    "name": "ipython",
    "version": 3
   },
   "file_extension": ".py",
   "mimetype": "text/x-python",
   "name": "python",
   "nbconvert_exporter": "python",
   "pygments_lexer": "ipython3",
   "version": "3.8.8"
  }
 },
 "nbformat": 4,
 "nbformat_minor": 5
}
