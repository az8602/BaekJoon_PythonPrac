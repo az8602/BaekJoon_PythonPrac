{
 "cells": [
  {
   "cell_type": "markdown",
   "id": "19a87cee-4bbc-4109-a87c-0febb284f57e",
   "metadata": {},
   "source": [
    "<h1> 8. 기본수학"
   ]
  },
  {
   "cell_type": "markdown",
   "id": "01ee928d-5b6b-4448-806d-b7db43aa0440",
   "metadata": {},
   "source": [
    "<h3> 1. 손익분기점"
   ]
  },
  {
   "cell_type": "code",
   "execution_count": null,
   "id": "379b0a97-5b2d-4bc7-b0a6-b5fc7a4a0786",
   "metadata": {},
   "outputs": [],
   "source": [
    "import sys\n",
    "# A,B,C=map(int,sys.stdin.readline().strip().split())\n",
    "\n",
    "A,B,C=map(int,input().split())\n"
   ]
  }
 ],
 "metadata": {
  "kernelspec": {
   "display_name": "Python 3",
   "language": "python",
   "name": "python3"
  },
  "language_info": {
   "codemirror_mode": {
    "name": "ipython",
    "version": 3
   },
   "file_extension": ".py",
   "mimetype": "text/x-python",
   "name": "python",
   "nbconvert_exporter": "python",
   "pygments_lexer": "ipython3",
   "version": "3.8.8"
  }
 },
 "nbformat": 4,
 "nbformat_minor": 5
}
