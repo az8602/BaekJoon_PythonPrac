{
 "cells": [
  {
   "cell_type": "markdown",
   "id": "19a87cee-4bbc-4109-a87c-0febb284f57e",
   "metadata": {},
   "source": [
    "<h1> 8. 기본수학"
   ]
  },
  {
   "cell_type": "markdown",
   "id": "01ee928d-5b6b-4448-806d-b7db43aa0440",
   "metadata": {},
   "source": [
    "<h3> 1. 손익분기점"
   ]
  },
  {
   "cell_type": "code",
   "execution_count": 1,
   "id": "09f03247-3b2d-49a8-addf-09b3e9de6706",
   "metadata": {},
   "outputs": [
    {
     "name": "stdin",
     "output_type": "stream",
     "text": [
      " 2100000000 9 10\n"
     ]
    },
    {
     "name": "stdout",
     "output_type": "stream",
     "text": [
      "2100000001\n"
     ]
    }
   ],
   "source": [
    "A,B,C=map(int,input().split())\n",
    "\n",
    "count=1\n",
    "\n",
    "if B>=C:\n",
    "    print(\"-1\")\n",
    "else:\n",
    "    print(A//(C-B)+1)"
   ]
  },
  {
   "cell_type": "markdown",
   "id": "bbd18461-bde9-460f-8c96-b47c5d0047f0",
   "metadata": {},
   "source": [
    "<h3> 2.벌집"
   ]
  },
  {
   "cell_type": "code",
   "execution_count": 2,
   "id": "b8b9f1a1-11c9-40b3-bd92-7f1835834ecc",
   "metadata": {},
   "outputs": [
    {
     "name": "stdin",
     "output_type": "stream",
     "text": [
      " 1000000000\n"
     ]
    },
    {
     "name": "stdout",
     "output_type": "stream",
     "text": [
      "18258\n"
     ]
    }
   ],
   "source": [
    "N=int(input())\n",
    "\n",
    "if N==1:\n",
    "    print(1)\n",
    "else:\n",
    "    myN=(N-2)//6\n",
    "    \n",
    "    if myN==0:\n",
    "        print(2)\n",
    "    else:\n",
    "        count=2\n",
    "        while True:\n",
    "            myN-=count\n",
    "            count+=1\n",
    "            if myN<=0:\n",
    "                print(count)\n",
    "                break"
   ]
  },
  {
   "cell_type": "code",
   "execution_count": 3,
   "id": "0daba3ec-da7c-42ea-ae38-6e93b6073206",
   "metadata": {},
   "outputs": [
    {
     "name": "stdin",
     "output_type": "stream",
     "text": [
      " 1000000000\n"
     ]
    },
    {
     "name": "stdout",
     "output_type": "stream",
     "text": [
      "18258\n"
     ]
    }
   ],
   "source": [
    "N = int(input())\n",
    "k = (N-2)//6\n",
    "num = 0\n",
    "res = 0\n",
    "\n",
    "for i in range(N//2+1):\n",
    "    num += i\n",
    "    if k < num:\n",
    "        res = i+1\n",
    "        break\n",
    "\n",
    "print(res)"
   ]
  },
  {
   "cell_type": "code",
   "execution_count": 4,
   "id": "6c11d3d5-5987-4644-8feb-084fbbfd67e0",
   "metadata": {},
   "outputs": [
    {
     "data": {
      "text/plain": [
       "-1"
      ]
     },
     "execution_count": 4,
     "metadata": {},
     "output_type": "execute_result"
    }
   ],
   "source": [
    "-1//6 # 참고"
   ]
  },
  {
   "cell_type": "markdown",
   "id": "3559cf6a-cffc-4a1a-891f-6e3eeeb97e1b",
   "metadata": {},
   "source": [
    "<h6> i는 N의 절반에 1더한 것 까지의 범위로(N까지는 너무 범위가 넓으므로)\n",
    "<h6> 1. i는 0, N이 1이면 k는 -1//6이므로 -1이된다. 따라서 조건 만족하여 1 출력\n",
    "<h6> 2. i가 1, N이 2~7이면 k는 0이 된다. 0<1이므로 2출력\n",
    "                                    ...."
   ]
  },
  {
   "cell_type": "markdown",
   "id": "6f081e46-ccc4-4b2e-a2e1-573144234bc7",
   "metadata": {},
   "source": [
    "<h3> 3.분수"
   ]
  },
  {
   "cell_type": "code",
   "execution_count": 5,
   "id": "00316135-0466-4361-ac97-180430c6369a",
   "metadata": {},
   "outputs": [
    {
     "name": "stdin",
     "output_type": "stream",
     "text": [
      " 16\n"
     ]
    },
    {
     "name": "stdout",
     "output_type": "stream",
     "text": [
      "1/6\n"
     ]
    }
   ],
   "source": [
    "N=int(input())\n",
    "\n",
    "count=0\n",
    "zlist=list()\n",
    "\n",
    "for x in range(N+1):\n",
    "    count+=x\n",
    "    if N<=count:\n",
    "        z=count-N\n",
    "        if x%2==0:            \n",
    "            for i in range(x,0,-1):\n",
    "                zlist.append(str(i)+\"/\"+str((x+1-i)))\n",
    "        else:\n",
    "            for i in range(1,x+1):\n",
    "                zlist.append(str(i)+\"/\"+str((x+1-i)))\n",
    "        break\n",
    "print(zlist[z])"
   ]
  },
  {
   "cell_type": "markdown",
   "id": "f7746941-7778-4934-b55a-47c9f6db7fe2",
   "metadata": {},
   "source": [
    "<h3> 4.달팽이는 올라가고 싶다"
   ]
  },
  {
   "cell_type": "code",
   "execution_count": 6,
   "id": "0cde318e-c94f-4bb6-bfff-e426fcb31fff",
   "metadata": {},
   "outputs": [
    {
     "name": "stdin",
     "output_type": "stream",
     "text": [
      " 2 1 5\n"
     ]
    },
    {
     "name": "stdout",
     "output_type": "stream",
     "text": [
      "4\n"
     ]
    }
   ],
   "source": [
    "A,B,V=map(int,input().split())\n",
    "\n",
    "y=(V-A)//(A-B)\n",
    "z=(V-A)%(A-B)\n",
    "\n",
    "if z==0:\n",
    "    print(y+1)\n",
    "else:\n",
    "    print(y+2)"
   ]
  },
  {
   "cell_type": "markdown",
   "id": "edd8bc87-9fff-4ee2-bc12-ce57b955a0b3",
   "metadata": {},
   "source": [
    "<h3>5.ACM호텔"
   ]
  },
  {
   "cell_type": "code",
   "execution_count": 7,
   "id": "8d296389-a614-42ce-8e6d-b5db98c6b20e",
   "metadata": {},
   "outputs": [
    {
     "name": "stdin",
     "output_type": "stream",
     "text": [
      " 2\n",
      " 6 12 10\n"
     ]
    },
    {
     "name": "stdout",
     "output_type": "stream",
     "text": [
      "402\n"
     ]
    },
    {
     "name": "stdin",
     "output_type": "stream",
     "text": [
      " 30 50 72\n"
     ]
    },
    {
     "name": "stdout",
     "output_type": "stream",
     "text": [
      "1203\n"
     ]
    }
   ],
   "source": [
    "import sys\n",
    "# T=int(sys.stdin.readline())\n",
    "\n",
    "T=int(input())\n",
    "for i in range(T):\n",
    "    # H,W,N=map(int,sys.stdin.readline().strip().split())\n",
    "    H,W,N=map(int,input().split())\n",
    "    if N%H==0:\n",
    "        print(str(H)+\"{0:02d}\".format((N//H)))\n",
    "    else:\n",
    "        print(str(N%H)+\"{0:02d}\".format((N//H)+1))"
   ]
  },
  {
   "cell_type": "markdown",
   "id": "888c5502-47be-4a6b-8301-06587cfe23e7",
   "metadata": {},
   "source": [
    "<h3> 6.부녀회장이 될테야"
   ]
  },
  {
   "cell_type": "code",
   "execution_count": 8,
   "id": "5b4c4ff2-837b-43bc-934c-e23ad9a59d0c",
   "metadata": {},
   "outputs": [
    {
     "name": "stdin",
     "output_type": "stream",
     "text": [
      " 2\n",
      " 1\n",
      " 3\n",
      " 2\n",
      " 3\n"
     ]
    },
    {
     "name": "stdout",
     "output_type": "stream",
     "text": [
      "6\n",
      "10\n"
     ]
    }
   ],
   "source": [
    "T=int(input())\n",
    "peoplelist=list()\n",
    "\n",
    "for x in range(T):\n",
    "    floorlist=[1,2,3,4,5,6,7,8,9,10,11,12,13,14]\n",
    "    k=int(input())\n",
    "    n=int(input())\n",
    "\n",
    "    for y in range(k):\n",
    "        nextfloor=list()\n",
    "        for z in range(1,n+1):\n",
    "            nextfloor.append(sum(floorlist[0:z]))\n",
    "        floorlist=nextfloor\n",
    "    peoplelist.append(floorlist[n-1])\n",
    "\n",
    "for x in peoplelist:\n",
    "    print(x)"
   ]
  },
  {
   "cell_type": "code",
   "execution_count": 9,
   "id": "cdfa4a49-09a8-4028-856b-2fcbd30ab0de",
   "metadata": {},
   "outputs": [
    {
     "name": "stdin",
     "output_type": "stream",
     "text": [
      " 2\n",
      " 1\n",
      " 3\n"
     ]
    },
    {
     "name": "stdout",
     "output_type": "stream",
     "text": [
      "6\n"
     ]
    },
    {
     "name": "stdin",
     "output_type": "stream",
     "text": [
      " 2\n",
      " 3\n"
     ]
    },
    {
     "name": "stdout",
     "output_type": "stream",
     "text": [
      "10\n"
     ]
    }
   ],
   "source": [
    "T=int(input())\n",
    "\n",
    "for x in range(T):\n",
    "    floorlist=[1,2,3,4,5,6,7,8,9,10,11,12,13,14]\n",
    "    k=int(input())\n",
    "    n=int(input())\n",
    "\n",
    "    for y in range(k):\n",
    "        nextfloor=list()\n",
    "        for z in range(1,n+1):\n",
    "            nextfloor.append(sum(floorlist[0:z]))\n",
    "        floorlist=nextfloor\n",
    "    print(floorlist[n-1])"
   ]
  },
  {
   "cell_type": "markdown",
   "id": "cc9b9d81-abb5-4f91-9702-93a9505d673d",
   "metadata": {},
   "source": [
    "<h3> 7.설탕 배달"
   ]
  },
  {
   "cell_type": "code",
   "execution_count": 10,
   "id": "61e4f7fc-1494-4729-839c-375d948d5e12",
   "metadata": {},
   "outputs": [
    {
     "name": "stdin",
     "output_type": "stream",
     "text": [
      " 11\n"
     ]
    },
    {
     "name": "stdout",
     "output_type": "stream",
     "text": [
      "3\n"
     ]
    }
   ],
   "source": [
    "N=int(input())\n",
    "Nlist=list()\n",
    "\n",
    "A=N//5\n",
    "for x in range(A+1):\n",
    "    B=(N-x*5)//3\n",
    "    C=(N-x*5)%3\n",
    "    if C==0:\n",
    "        Nlist.append(x+B)\n",
    "if len(Nlist)==0:\n",
    "    print(-1)\n",
    "else:\n",
    "    print(min(Nlist))"
   ]
  },
  {
   "cell_type": "markdown",
   "id": "be125d8a-1293-4bec-ac71-f156a84217be",
   "metadata": {},
   "source": [
    "<h3> 8.큰수 A+B"
   ]
  },
  {
   "cell_type": "code",
   "execution_count": 11,
   "id": "f2d70936-b944-4f3b-aefa-911ad649f119",
   "metadata": {},
   "outputs": [
    {
     "name": "stdin",
     "output_type": "stream",
     "text": [
      " 9223372036854775807 9223372036854775808\n"
     ]
    },
    {
     "name": "stdout",
     "output_type": "stream",
     "text": [
      "18446744073709551615\n"
     ]
    }
   ],
   "source": [
    "A,B=map(int,input().split())\n",
    "print(A+B) # 파이썬은 그냥 가능하다"
   ]
  },
  {
   "cell_type": "markdown",
   "id": "5119bc99-65c2-4dad-adaa-dee2e84bd5a9",
   "metadata": {},
   "source": [
    "<h3> 9.Fly me to the Alpha Centauri"
   ]
  },
  {
   "cell_type": "code",
   "execution_count": 12,
   "id": "e846042a-5340-4345-a7ee-435d17371128",
   "metadata": {},
   "outputs": [
    {
     "name": "stdin",
     "output_type": "stream",
     "text": [
      " 3\n",
      " 0 3\n"
     ]
    },
    {
     "name": "stdout",
     "output_type": "stream",
     "text": [
      "3\n"
     ]
    },
    {
     "name": "stdin",
     "output_type": "stream",
     "text": [
      " 1 5\n"
     ]
    },
    {
     "name": "stdout",
     "output_type": "stream",
     "text": [
      "3\n"
     ]
    },
    {
     "name": "stdin",
     "output_type": "stream",
     "text": [
      " 45 50\n"
     ]
    },
    {
     "name": "stdout",
     "output_type": "stream",
     "text": [
      "4\n"
     ]
    }
   ],
   "source": [
    "T=int(input())\n",
    "for x in range(T):\n",
    "    X,Y=map(int,input().split())\n",
    "    D=Y-X\n",
    "    \n",
    "    if D==1:\n",
    "        print(1)\n",
    "    elif D==2:\n",
    "        print(2)\n",
    "    else:\n",
    "        sqrtD=round(D**(1/2))\n",
    "        if sqrtD**2<D:\n",
    "            print(2*sqrtD)\n",
    "        else:\n",
    "            print(2*sqrtD-1)"
   ]
  },
  {
   "cell_type": "code",
   "execution_count": 1,
   "id": "9e4912b1-76f4-4cf4-84da-40b9ec4e7226",
   "metadata": {},
   "outputs": [
    {
     "name": "stdin",
     "output_type": "stream",
     "text": [
      " 3\n",
      " 0 1\n"
     ]
    },
    {
     "name": "stdout",
     "output_type": "stream",
     "text": [
      "1\n"
     ]
    },
    {
     "name": "stdin",
     "output_type": "stream",
     "text": [
      " 0 2\n"
     ]
    },
    {
     "name": "stdout",
     "output_type": "stream",
     "text": [
      "2\n"
     ]
    },
    {
     "name": "stdin",
     "output_type": "stream",
     "text": [
      " 0 3\n"
     ]
    },
    {
     "name": "stdout",
     "output_type": "stream",
     "text": [
      "3\n"
     ]
    }
   ],
   "source": [
    "T=int(input())\n",
    "for x in range(T):\n",
    "    X,Y=map(int,input().split())\n",
    "    D=Y-X\n",
    "\n",
    "    sqrtD=round(D**(1/2))\n",
    "    if sqrtD**2<D:\n",
    "        print(2*sqrtD)\n",
    "    else:\n",
    "        print(2*sqrtD-1)"
   ]
  }
 ],
 "metadata": {
  "kernelspec": {
   "display_name": "Python 3",
   "language": "python",
   "name": "python3"
  },
  "language_info": {
   "codemirror_mode": {
    "name": "ipython",
    "version": 3
   },
   "file_extension": ".py",
   "mimetype": "text/x-python",
   "name": "python",
   "nbconvert_exporter": "python",
   "pygments_lexer": "ipython3",
   "version": "3.8.8"
  }
 },
 "nbformat": 4,
 "nbformat_minor": 5
}
