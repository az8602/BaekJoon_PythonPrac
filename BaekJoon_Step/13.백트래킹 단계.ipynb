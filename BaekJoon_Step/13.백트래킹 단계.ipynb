{
 "cells": [
  {
   "cell_type": "markdown",
   "id": "0a357f89-0ae9-4ca2-b6e4-17330e13a260",
   "metadata": {},
   "source": [
    "# 13.백트래킹 단계"
   ]
  },
  {
   "cell_type": "markdown",
   "id": "cf608b7a-0e25-4a13-8214-9b78e07ad136",
   "metadata": {},
   "source": [
    "### 1. N과 M(1)"
   ]
  },
  {
   "cell_type": "code",
   "execution_count": 1,
   "id": "08715dee-d434-4ec0-85bb-7ffcac17298c",
   "metadata": {},
   "outputs": [
    {
     "name": "stdin",
     "output_type": "stream",
     "text": [
      " 4 3\n"
     ]
    },
    {
     "name": "stdout",
     "output_type": "stream",
     "text": [
      "1 2 3\n",
      "1 2 4\n",
      "1 3 2\n",
      "1 3 4\n",
      "1 4 2\n",
      "1 4 3\n",
      "2 1 3\n",
      "2 1 4\n",
      "2 3 1\n",
      "2 3 4\n",
      "2 4 1\n",
      "2 4 3\n",
      "3 1 2\n",
      "3 1 4\n",
      "3 2 1\n",
      "3 2 4\n",
      "3 4 1\n",
      "3 4 2\n",
      "4 1 2\n",
      "4 1 3\n",
      "4 2 1\n",
      "4 2 3\n",
      "4 3 1\n",
      "4 3 2\n"
     ]
    }
   ],
   "source": [
    "import sys\n",
    "sys.stdin.readline=input\n",
    "\n",
    "n,m=map(int,sys.stdin.readline().strip().split())\n",
    "        \n",
    "nlist=[str(x) for x in range(1,n+1)]\n",
    "mlist=['0']*m\n",
    "\n",
    "def NandM(nlist,mlist,a=0):\n",
    "    if a<m:\n",
    "        for x in nlist:\n",
    "            mlist=mlist[:a]+[\"0\"]*(m-a)\n",
    "            if x not in mlist:\n",
    "                mlist[a]=x\n",
    "                NandM(nlist,mlist,a+1)\n",
    "    else:\n",
    "        print(\" \".join(mlist))\n",
    "            \n",
    "NandM(nlist,mlist)"
   ]
  },
  {
   "cell_type": "markdown",
   "id": "575621b9-76f5-4459-b2e9-ea1dfdbc3a42",
   "metadata": {},
   "source": [
    "### 2. N과 M(2)"
   ]
  },
  {
   "cell_type": "code",
   "execution_count": 2,
   "id": "e0d505ce-fc25-4266-9006-a5b27723e277",
   "metadata": {},
   "outputs": [
    {
     "name": "stdin",
     "output_type": "stream",
     "text": [
      " 4 4\n"
     ]
    },
    {
     "name": "stdout",
     "output_type": "stream",
     "text": [
      "1 2 3 4\n"
     ]
    }
   ],
   "source": [
    "import sys\n",
    "sys.stdin.readline=input\n",
    "\n",
    "n,m=map(int,sys.stdin.readline().strip().split())\n",
    "        \n",
    "nlist=[str(x) for x in range(1,n+1)]\n",
    "mlist=['0']*m\n",
    "\n",
    "def NandM(nlist,mlist,a=0):\n",
    "    if a<m:\n",
    "        for x in nlist:\n",
    "            mlist=mlist[:a]+[\"0\"]*(m-a)\n",
    "            if x>mlist[a-1]:\n",
    "                mlist[a]=x\n",
    "                NandM(nlist,mlist,a+1)\n",
    "    else:\n",
    "        print(\" \".join(mlist))\n",
    "            \n",
    "NandM(nlist,mlist)"
   ]
  },
  {
   "cell_type": "markdown",
   "id": "32c57700-be3f-4cd0-b0a6-60868dc3a1db",
   "metadata": {},
   "source": [
    "### 3. N과 M(3)"
   ]
  },
  {
   "cell_type": "code",
   "execution_count": 3,
   "id": "e6cf15bf-e0a6-44ef-bd57-99477b68e0f6",
   "metadata": {},
   "outputs": [
    {
     "name": "stdin",
     "output_type": "stream",
     "text": [
      " 3 3\n"
     ]
    },
    {
     "name": "stdout",
     "output_type": "stream",
     "text": [
      "1 1 1\n",
      "1 1 2\n",
      "1 1 3\n",
      "1 2 1\n",
      "1 2 2\n",
      "1 2 3\n",
      "1 3 1\n",
      "1 3 2\n",
      "1 3 3\n",
      "2 1 1\n",
      "2 1 2\n",
      "2 1 3\n",
      "2 2 1\n",
      "2 2 2\n",
      "2 2 3\n",
      "2 3 1\n",
      "2 3 2\n",
      "2 3 3\n",
      "3 1 1\n",
      "3 1 2\n",
      "3 1 3\n",
      "3 2 1\n",
      "3 2 2\n",
      "3 2 3\n",
      "3 3 1\n",
      "3 3 2\n",
      "3 3 3\n"
     ]
    }
   ],
   "source": [
    "import sys\n",
    "sys.stdin.readline=input\n",
    "\n",
    "n,m=map(int,sys.stdin.readline().strip().split())\n",
    "        \n",
    "nlist=[str(x) for x in range(1,n+1)]\n",
    "mlist=['0']*m\n",
    "\n",
    "def NandM(nlist,mlist,a=0):\n",
    "    if a<m:\n",
    "        for x in nlist:\n",
    "            mlist[a]=x\n",
    "            NandM(nlist,mlist,a+1)\n",
    "    else:\n",
    "        print(\" \".join(mlist))\n",
    "            \n",
    "NandM(nlist,mlist)"
   ]
  },
  {
   "cell_type": "markdown",
   "id": "4e376242-4254-45bb-b343-f81ec3ede854",
   "metadata": {},
   "source": [
    "### 4. N과 M(4)"
   ]
  },
  {
   "cell_type": "code",
   "execution_count": 4,
   "id": "772148f7-ba75-4ad0-9854-28189f9bfe34",
   "metadata": {},
   "outputs": [
    {
     "name": "stdin",
     "output_type": "stream",
     "text": [
      " 3 3\n"
     ]
    },
    {
     "name": "stdout",
     "output_type": "stream",
     "text": [
      "1 1 1\n",
      "1 1 2\n",
      "1 1 3\n",
      "1 2 2\n",
      "1 2 3\n",
      "1 3 3\n",
      "2 2 2\n",
      "2 2 3\n",
      "2 3 3\n",
      "3 3 3\n"
     ]
    }
   ],
   "source": [
    "import sys\n",
    "sys.stdin.readline=input\n",
    "\n",
    "n,m=map(int,sys.stdin.readline().strip().split())\n",
    "        \n",
    "nlist=[str(x) for x in range(1,n+1)]\n",
    "mlist=['0']*m\n",
    "\n",
    "def NandM(nlist,mlist,a=0):\n",
    "    if a<m:\n",
    "        for x in nlist:\n",
    "            mlist=mlist[:a]+[\"0\"]*(m-a)\n",
    "            if x>=mlist[a-1]:\n",
    "                mlist[a]=x\n",
    "                NandM(nlist,mlist,a+1)\n",
    "    else:\n",
    "        print(\" \".join(mlist))\n",
    "            \n",
    "NandM(nlist,mlist)"
   ]
  },
  {
   "cell_type": "markdown",
   "id": "513a94df-35d1-4725-bf8e-788178a96140",
   "metadata": {},
   "source": [
    "### 5. N-Queen"
   ]
  },
  {
   "cell_type": "markdown",
   "id": "a16f8607-18b9-42e6-a4dc-f2c1293cdc20",
   "metadata": {},
   "source": [
    "#### 굳이 2차원으로 생각하지 말자! 1차원으로도 해결 가능하다!"
   ]
  },
  {
   "cell_type": "markdown",
   "id": "885873e4-a306-4876-9564-8dab1adeccea",
   "metadata": {},
   "source": [
    "#### 시간초과"
   ]
  },
  {
   "cell_type": "code",
   "execution_count": 5,
   "id": "def6ae09-76ce-440b-ad97-5df1236d96e7",
   "metadata": {},
   "outputs": [
    {
     "name": "stdin",
     "output_type": "stream",
     "text": [
      " 9\n"
     ]
    },
    {
     "name": "stdout",
     "output_type": "stream",
     "text": [
      "352\n"
     ]
    }
   ],
   "source": [
    "N=int(input())\n",
    "        \n",
    "ylist=[x for x in range(1,N+1)]\n",
    "checklist=[0]*N\n",
    "count=0\n",
    "\n",
    "def N_Queen(checklist,ylist,n=0):\n",
    "        global N\n",
    "        global count\n",
    "                \n",
    "        if n<N:\n",
    "            for i in range(len(ylist)):\n",
    "                checklist=checklist[:n]+[0]*(N-n)\n",
    "                \n",
    "                if ylist[i] not in checklist:\n",
    "                    if n==0:  \n",
    "                        checklist[n]=ylist[i]\n",
    "                        N_Queen(checklist,ylist,n=n+1)\n",
    "\n",
    "                    else:\n",
    "                        Trigger=True\n",
    "                        for j in range(n):\n",
    "                            if abs(checklist[j]-ylist[i])==abs(j-n): # 대각에 있다\n",
    "                                Trigger=False\n",
    "                                \n",
    "                        if Trigger:\n",
    "                            checklist[n]=ylist[i]\n",
    "                            N_Queen(checklist,ylist,n=n+1)                    \n",
    "        if n==N:\n",
    "                count+=1\n",
    "                \n",
    "N_Queen(checklist,ylist)\n",
    "print(count)"
   ]
  },
  {
   "cell_type": "markdown",
   "id": "1cf7db33-5b95-453e-b050-11742e3fe2c8",
   "metadata": {},
   "source": [
    "#### 정답 코드"
   ]
  },
  {
   "cell_type": "code",
   "execution_count": 6,
   "id": "9110ca58-1dfe-49ed-af0f-ed203d6d6245",
   "metadata": {},
   "outputs": [
    {
     "name": "stdin",
     "output_type": "stream",
     "text": [
      " 9\n"
     ]
    },
    {
     "name": "stdout",
     "output_type": "stream",
     "text": [
      "352\n"
     ]
    }
   ],
   "source": [
    "def check(n):\n",
    "    for i in range(n):\n",
    "        if row[n] == row[i] or abs(row[n]-row[i]) == n-i:\n",
    "            return 0\n",
    "    return 1\n",
    "        \n",
    "def dfs(n):\n",
    "    global res\n",
    "    if n == N:\n",
    "        res += 1\n",
    "    else:\n",
    "        for i in range(N):\n",
    "            row[n] = i\n",
    "            if check(n):\n",
    "                dfs(n+1)\n",
    "\n",
    "N = int(input())\n",
    "row = [0]*N\n",
    "res = 0\n",
    "dfs(0)\n",
    "print(res)"
   ]
  },
  {
   "cell_type": "markdown",
   "id": "dbd1b046-bc2d-4306-a21a-db4a85b32d6c",
   "metadata": {},
   "source": [
    "### 4. 스도쿠"
   ]
  },
  {
   "cell_type": "markdown",
   "id": "7795057a-d818-475a-98f0-efdf6adfaf54",
   "metadata": {},
   "source": [
    "#### 재귀로 다시 도전해봐야 할듯 하다"
   ]
  },
  {
   "cell_type": "code",
   "execution_count": 257,
   "id": "fbf16be4-f497-4554-9fe9-237b17d1bd68",
   "metadata": {},
   "outputs": [
    {
     "name": "stdout",
     "output_type": "stream",
     "text": [
      "1 3 5 4 6 9 2 7 8 \n",
      "7 8 2 1 3 5 6 4 9 \n",
      "4 6 9 2 7 8 1 3 5 \n",
      "3 2 1 5 4 6 8 9 7 \n",
      "8 7 4 9 1 3 5 2 6 \n",
      "5 9 6 8 2 7 4 1 3 \n",
      "9 1 7 6 5 2 3 8 4 \n",
      "6 4 3 7 8 1 9 5 2 \n",
      "2 5 8 3 9 4 7 6 1 \n"
     ]
    }
   ],
   "source": [
    "import sys\n",
    "sys.stdin=open(\".\\Input.txt\")\n",
    "Nset=set([x for x in range(1,10)])\n",
    "Colgroup=list()\n",
    "Rowgroup=list()\n",
    "Squaregroup=list()\n",
    "Donhavelist=list()\n",
    "\n",
    "for _ in range(9):\n",
    "    Colgroup.append(list(map(int,sys.stdin.readline().strip().split())))\n",
    "    \n",
    "for i in range(9):\n",
    "    Rowgroup.append([Colgroup[x][i] for x in range(9)])\n",
    "    \n",
    "for i in range(9):\n",
    "    Squaregroup.append([Colgroup[(i%3)*3+x//3][x%3+(i//3)*3] for x in range(9)])\n",
    "\n",
    "for i in range(9):\n",
    "    Donhavelist.append(list(Nset-set(Colgroup[i])))\n",
    "\n",
    "for i in range(9):\n",
    "    while 0 in Colgroup[i]:\n",
    "        m,n=i,Colgroup[i].index(0)\n",
    "        for j in Donhavelist[i]:\n",
    "            Colgroup[m][n]=j\n",
    "            Rowgroup[n][m]=j\n",
    "            Squaregroup[(m//3) + (n//3)*3][(m%3)*3+(n%3)]=j\n",
    "                \n",
    "            if Colgroup[m].count(j)>1 or Rowgroup[n].count(j)>1 or Squaregroup[(m//3) + (n//3)*3].count(j)>1:\n",
    "                Colgroup[m][n]=0\n",
    "                Rowgroup[n][m]=0\n",
    "                Squaregroup[(m//3) + (n//3)*3][(m%3)*3+(n%3)]=0\n",
    "            else:\n",
    "                break\n",
    "\n",
    "\n",
    "for x in Colgroup:\n",
    "    for y in x:\n",
    "        print(y,end=\" \")\n",
    "    print()"
   ]
  }
 ],
 "metadata": {
  "kernelspec": {
   "display_name": "Python 3",
   "language": "python",
   "name": "python3"
  },
  "language_info": {
   "codemirror_mode": {
    "name": "ipython",
    "version": 3
   },
   "file_extension": ".py",
   "mimetype": "text/x-python",
   "name": "python",
   "nbconvert_exporter": "python",
   "pygments_lexer": "ipython3",
   "version": "3.8.8"
  }
 },
 "nbformat": 4,
 "nbformat_minor": 5
}
