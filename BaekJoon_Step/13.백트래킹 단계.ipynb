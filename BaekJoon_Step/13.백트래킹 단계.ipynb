{
 "cells": [
  {
   "cell_type": "markdown",
   "id": "0a357f89-0ae9-4ca2-b6e4-17330e13a260",
   "metadata": {},
   "source": [
    "# 13.백트래킹 단계"
   ]
  },
  {
   "cell_type": "markdown",
   "id": "cf608b7a-0e25-4a13-8214-9b78e07ad136",
   "metadata": {},
   "source": [
    "### 1. N과 M(1)"
   ]
  },
  {
   "cell_type": "code",
   "execution_count": 1,
   "id": "f1fe73bc-67ee-4241-801b-b64e062f9013",
   "metadata": {},
   "outputs": [
    {
     "name": "stdin",
     "output_type": "stream",
     "text": [
      " 4 4\n"
     ]
    },
    {
     "name": "stdout",
     "output_type": "stream",
     "text": [
      "1 2 3 4\n",
      "1 2 4 3\n",
      "1 3 2 4\n",
      "1 3 4 2\n",
      "1 4 2 3\n",
      "1 4 3 2\n",
      "2 1 3 4\n",
      "2 1 4 3\n",
      "2 3 1 4\n",
      "2 3 4 1\n",
      "2 4 1 3\n",
      "2 4 3 1\n",
      "3 1 2 4\n",
      "3 1 4 2\n",
      "3 2 1 4\n",
      "3 2 4 1\n",
      "3 4 1 2\n",
      "3 4 2 1\n",
      "4 1 2 3\n",
      "4 1 3 2\n",
      "4 2 1 3\n",
      "4 2 3 1\n",
      "4 3 1 2\n",
      "4 3 2 1\n"
     ]
    }
   ],
   "source": [
    "import sys\n",
    "sys.stdin.readline=input\n",
    "\n",
    "n,m=map(int,sys.stdin.readline().strip().split())\n",
    "        \n",
    "nlist=[str(x) for x in range(1,n+1)]\n",
    "mlist=['0']*m\n",
    "\n",
    "def NandM(nlist,mlist,a=0):\n",
    "    if a<m:\n",
    "        for x in nlist:\n",
    "            mlist=mlist[:a]+[\"0\"]*(m-a)\n",
    "            if x not in mlist:\n",
    "                mlist[a]=x\n",
    "                NandM(nlist,mlist,a+1)\n",
    "    else:\n",
    "        print(\" \".join(mlist))\n",
    "            \n",
    "NandM(nlist,mlist)"
   ]
  }
 ],
 "metadata": {
  "kernelspec": {
   "display_name": "Python 3",
   "language": "python",
   "name": "python3"
  },
  "language_info": {
   "codemirror_mode": {
    "name": "ipython",
    "version": 3
   },
   "file_extension": ".py",
   "mimetype": "text/x-python",
   "name": "python",
   "nbconvert_exporter": "python",
   "pygments_lexer": "ipython3",
   "version": "3.8.8"
  }
 },
 "nbformat": 4,
 "nbformat_minor": 5
}
