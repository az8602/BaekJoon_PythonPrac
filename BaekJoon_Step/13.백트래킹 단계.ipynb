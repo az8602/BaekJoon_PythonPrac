{
 "cells": [
  {
   "cell_type": "markdown",
   "id": "0a357f89-0ae9-4ca2-b6e4-17330e13a260",
   "metadata": {},
   "source": [
    "# 13.백트래킹 단계"
   ]
  },
  {
   "cell_type": "markdown",
   "id": "cf608b7a-0e25-4a13-8214-9b78e07ad136",
   "metadata": {},
   "source": [
    "### 1. N과 M(1)"
   ]
  },
  {
   "cell_type": "code",
   "execution_count": 106,
   "id": "f1fe73bc-67ee-4241-801b-b64e062f9013",
   "metadata": {},
   "outputs": [
    {
     "name": "stdin",
     "output_type": "stream",
     "text": [
      " 4 4\n"
     ]
    }
   ],
   "source": [
    "import sys\n",
    "sys.stdin.readline=input\n",
    "\n",
    "N,M=map(int,sys.stdin.readline().strip().split())"
   ]
  },
  {
   "cell_type": "code",
   "execution_count": 156,
   "id": "c246b22e-ccd7-4128-90b3-f3070eed6328",
   "metadata": {},
   "outputs": [],
   "source": [
    "Nlist=[x for x in range(1,N+1)]"
   ]
  },
  {
   "cell_type": "code",
   "execution_count": 157,
   "id": "123a0062-b180-4e49-9315-9a231a1d6547",
   "metadata": {},
   "outputs": [
    {
     "data": {
      "text/plain": [
       "[1, 2, 3, 4]"
      ]
     },
     "execution_count": 157,
     "metadata": {},
     "output_type": "execute_result"
    }
   ],
   "source": [
    "Nlist"
   ]
  },
  {
   "cell_type": "code",
   "execution_count": 158,
   "id": "c81cbae0-ea3b-46a8-939a-97c0c205095c",
   "metadata": {},
   "outputs": [],
   "source": [
    "Mlist=[1]*M"
   ]
  },
  {
   "cell_type": "code",
   "execution_count": 159,
   "id": "dcc85f25-287a-4970-9b09-1f9c167e95c3",
   "metadata": {},
   "outputs": [
    {
     "data": {
      "text/plain": [
       "[1, 1, 1, 1]"
      ]
     },
     "execution_count": 159,
     "metadata": {},
     "output_type": "execute_result"
    }
   ],
   "source": [
    "Mlist"
   ]
  },
  {
   "cell_type": "code",
   "execution_count": 160,
   "id": "5548ea2e-318e-48ac-a228-e0e15ac6772c",
   "metadata": {},
   "outputs": [
    {
     "name": "stdout",
     "output_type": "stream",
     "text": [
      "[1, 1, 1, 4]\n",
      "[1, 1, 3, 4]\n",
      "[1, 2, 3, 4]\n",
      "[1, 2, 3, 4]\n"
     ]
    }
   ],
   "source": [
    "b=1\n",
    "for a in range(M-1,-1,-1):\n",
    "    for c in range(N-b):\n",
    "        Mlist[a]+=1\n",
    "    b+=1\n",
    "    print(Mlist)"
   ]
  }
 ],
 "metadata": {
  "kernelspec": {
   "display_name": "Python 3",
   "language": "python",
   "name": "python3"
  },
  "language_info": {
   "codemirror_mode": {
    "name": "ipython",
    "version": 3
   },
   "file_extension": ".py",
   "mimetype": "text/x-python",
   "name": "python",
   "nbconvert_exporter": "python",
   "pygments_lexer": "ipython3",
   "version": "3.8.8"
  }
 },
 "nbformat": 4,
 "nbformat_minor": 5
}
