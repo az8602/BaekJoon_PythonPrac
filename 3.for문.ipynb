{
 "cells": [
  {
   "cell_type": "markdown",
   "id": "3b9b44d5-12f8-49cd-96a7-f0919a607875",
   "metadata": {},
   "source": [
    "<h1> for문"
   ]
  },
  {
   "cell_type": "markdown",
   "id": "5e5b895b-f027-4751-a1e2-f7e4482f21ed",
   "metadata": {},
   "source": [
    "<h3> 1. 구구단"
   ]
  },
  {
   "cell_type": "code",
   "execution_count": 7,
   "id": "50a16367-75cb-4d16-9481-d3e7a9b4b8a7",
   "metadata": {},
   "outputs": [
    {
     "name": "stdin",
     "output_type": "stream",
     "text": [
      " 2\n"
     ]
    },
    {
     "name": "stdout",
     "output_type": "stream",
     "text": [
      "2 * 1 = 2\n",
      "2 * 2 = 4\n",
      "2 * 3 = 6\n",
      "2 * 4 = 8\n",
      "2 * 5 = 10\n",
      "2 * 6 = 12\n",
      "2 * 7 = 14\n",
      "2 * 8 = 16\n",
      "2 * 9 = 18\n"
     ]
    }
   ],
   "source": [
    "a=int(input())\n",
    "for b in range(1,10):\n",
    "    print(a,\"*\",b,\"=\",a*b)"
   ]
  },
  {
   "cell_type": "markdown",
   "id": "3e1eb55f-2e32-4aa9-b7f6-4e2cc6e0a558",
   "metadata": {},
   "source": [
    "<h3> 2. A+B-3"
   ]
  },
  {
   "cell_type": "code",
   "execution_count": 8,
   "id": "7419e832-5da8-422d-a0ce-7bfc2fa7a21d",
   "metadata": {},
   "outputs": [
    {
     "name": "stdin",
     "output_type": "stream",
     "text": [
      " 5\n",
      " 1 3\n"
     ]
    },
    {
     "name": "stdout",
     "output_type": "stream",
     "text": [
      "4\n"
     ]
    },
    {
     "name": "stdin",
     "output_type": "stream",
     "text": [
      " 2 4\n"
     ]
    },
    {
     "name": "stdout",
     "output_type": "stream",
     "text": [
      "6\n"
     ]
    },
    {
     "name": "stdin",
     "output_type": "stream",
     "text": [
      " 2 2\n"
     ]
    },
    {
     "name": "stdout",
     "output_type": "stream",
     "text": [
      "4\n"
     ]
    },
    {
     "name": "stdin",
     "output_type": "stream",
     "text": [
      " 3 7\n"
     ]
    },
    {
     "name": "stdout",
     "output_type": "stream",
     "text": [
      "10\n"
     ]
    },
    {
     "name": "stdin",
     "output_type": "stream",
     "text": [
      " 100 3\n"
     ]
    },
    {
     "name": "stdout",
     "output_type": "stream",
     "text": [
      "103\n"
     ]
    }
   ],
   "source": [
    "Count=int(input())\n",
    "for c in range(0,Count):\n",
    "    A,B=map(int,input().split())\n",
    "    print(A+B)"
   ]
  },
  {
   "cell_type": "code",
   "execution_count": 10,
   "id": "f03cd051-db74-405c-a71b-2a4dd3307567",
   "metadata": {},
   "outputs": [
    {
     "name": "stdin",
     "output_type": "stream",
     "text": [
      " 5\n",
      " 1 4\n"
     ]
    },
    {
     "name": "stdout",
     "output_type": "stream",
     "text": [
      "5\n"
     ]
    },
    {
     "name": "stdin",
     "output_type": "stream",
     "text": [
      " 2 3\n"
     ]
    },
    {
     "name": "stdout",
     "output_type": "stream",
     "text": [
      "5\n"
     ]
    },
    {
     "name": "stdin",
     "output_type": "stream",
     "text": [
      " 2 2\n"
     ]
    },
    {
     "name": "stdout",
     "output_type": "stream",
     "text": [
      "4\n"
     ]
    },
    {
     "name": "stdin",
     "output_type": "stream",
     "text": [
      " 2 1\n"
     ]
    },
    {
     "name": "stdout",
     "output_type": "stream",
     "text": [
      "3\n"
     ]
    },
    {
     "name": "stdin",
     "output_type": "stream",
     "text": [
      " 2 6\n"
     ]
    },
    {
     "name": "stdout",
     "output_type": "stream",
     "text": [
      "8\n"
     ]
    }
   ],
   "source": [
    "exec('print(eval(\"+\".join(input())));'*int(input()))"
   ]
  },
  {
   "cell_type": "markdown",
   "id": "482748b9-c7a5-42de-9875-cd866c28183f",
   "metadata": {},
   "source": [
    "<h3> exec and eval\n",
    "<h6> 둘 다 문자열로 표현된 파이썬 코드를 실행할 때 사용합니다\n",
    "<h6> 차이점은 eval()은 식만을 처리하며 exec()는 문을 받아 처리합니다.\n",
    "<h6> a = eval(\"a+4\") # eval 예시\n",
    "<h6> exec(\"a = a+4\") # exec 예시"
   ]
  },
  {
   "cell_type": "markdown",
   "id": "dc4682f8-07a1-4406-b156-2b5b9fff6fb3",
   "metadata": {},
   "source": [
    "<h3> 3. 합"
   ]
  },
  {
   "cell_type": "code",
   "execution_count": 16,
   "id": "e87ef172-2bda-4dfa-be58-b5ce025c2d66",
   "metadata": {},
   "outputs": [
    {
     "name": "stdin",
     "output_type": "stream",
     "text": [
      " 5\n"
     ]
    },
    {
     "name": "stdout",
     "output_type": "stream",
     "text": [
      "15\n"
     ]
    }
   ],
   "source": [
    "print(sum(range(1,int(input())+1)))"
   ]
  },
  {
   "cell_type": "markdown",
   "id": "703f4352-a6bb-4e7b-a833-5fb72af69081",
   "metadata": {},
   "source": [
    "<h3> 4. 빠른 A+B"
   ]
  },
  {
   "cell_type": "code",
   "execution_count": 21,
   "id": "1f8175cd-3102-4e9a-bccc-4ef40fb37874",
   "metadata": {},
   "outputs": [],
   "source": [
    "import sys"
   ]
  },
  {
   "cell_type": "code",
   "execution_count": 25,
   "id": "8fe077f2-ea86-4804-8f0d-8d85fb90115f",
   "metadata": {},
   "outputs": [
    {
     "name": "stdin",
     "output_type": "stream",
     "text": [
      " 5\n",
      " 1 5\n"
     ]
    },
    {
     "name": "stdout",
     "output_type": "stream",
     "text": [
      "6\n"
     ]
    },
    {
     "name": "stdin",
     "output_type": "stream",
     "text": [
      " 1 3\n"
     ]
    },
    {
     "name": "stdout",
     "output_type": "stream",
     "text": [
      "4\n"
     ]
    },
    {
     "name": "stdin",
     "output_type": "stream",
     "text": [
      " 2 100\n"
     ]
    },
    {
     "name": "stdout",
     "output_type": "stream",
     "text": [
      "102\n"
     ]
    },
    {
     "name": "stdin",
     "output_type": "stream",
     "text": [
      " -3 2\n"
     ]
    },
    {
     "name": "stdout",
     "output_type": "stream",
     "text": [
      "-1\n"
     ]
    },
    {
     "name": "stdin",
     "output_type": "stream",
     "text": [
      " 5 5\n"
     ]
    },
    {
     "name": "stdout",
     "output_type": "stream",
     "text": [
      "10\n"
     ]
    }
   ],
   "source": [
    "Count=int(input())\n",
    "for c in range(0,Count):\n",
    "    A,B=map(int,sys.stdin.readline().split())\n",
    "    print(A+B)\n",
    "\n",
    "# Jupyter에선 실행이 되지 않는다(아래 실행은 input을 사용함)"
   ]
  },
  {
   "cell_type": "markdown",
   "id": "3dff7cf1-4d2e-4d00-acc5-19e508616841",
   "metadata": {},
   "source": [
    "<h3> 5. N 찍기"
   ]
  },
  {
   "cell_type": "code",
   "execution_count": 28,
   "id": "fa43adf0-12f6-42d8-8464-b3e102faa965",
   "metadata": {},
   "outputs": [
    {
     "name": "stdin",
     "output_type": "stream",
     "text": [
      " 5\n"
     ]
    },
    {
     "name": "stdout",
     "output_type": "stream",
     "text": [
      "1\n",
      "2\n",
      "3\n",
      "4\n",
      "5\n"
     ]
    }
   ],
   "source": [
    "for i in range(1,int(input())+1):\n",
    "    print(i)"
   ]
  },
  {
   "cell_type": "markdown",
   "id": "6a8ef377-b79b-4a30-9ab3-e6a30b34333d",
   "metadata": {},
   "source": [
    "<h3> 6. 기찍 N"
   ]
  },
  {
   "cell_type": "code",
   "execution_count": 29,
   "id": "f62966e9-5c7f-45f8-8c80-33cf61815d6e",
   "metadata": {},
   "outputs": [
    {
     "name": "stdin",
     "output_type": "stream",
     "text": [
      " 5\n"
     ]
    },
    {
     "name": "stdout",
     "output_type": "stream",
     "text": [
      "5\n",
      "4\n",
      "3\n",
      "2\n",
      "1\n"
     ]
    }
   ],
   "source": [
    "N=int(input())\n",
    "\n",
    "for i in range(1,N+1):\n",
    "    print(N+1-i)"
   ]
  },
  {
   "cell_type": "markdown",
   "id": "7718740a-8c02-4f81-b78e-116b830c8437",
   "metadata": {},
   "source": [
    "<h3> 7. A+B-7"
   ]
  },
  {
   "cell_type": "code",
   "execution_count": 34,
   "id": "f46e54e3-1a88-4f11-bf53-faecc11dbff0",
   "metadata": {},
   "outputs": [
    {
     "name": "stdin",
     "output_type": "stream",
     "text": [
      " 5\n",
      " 1 2\n"
     ]
    },
    {
     "name": "stdout",
     "output_type": "stream",
     "text": [
      "Case #1: 3\n"
     ]
    },
    {
     "name": "stdin",
     "output_type": "stream",
     "text": [
      " 3 4\n"
     ]
    },
    {
     "name": "stdout",
     "output_type": "stream",
     "text": [
      "Case #2: 7\n"
     ]
    },
    {
     "name": "stdin",
     "output_type": "stream",
     "text": [
      " 5 6\n"
     ]
    },
    {
     "name": "stdout",
     "output_type": "stream",
     "text": [
      "Case #3: 11\n"
     ]
    },
    {
     "name": "stdin",
     "output_type": "stream",
     "text": [
      " 7 8\n"
     ]
    },
    {
     "name": "stdout",
     "output_type": "stream",
     "text": [
      "Case #4: 15\n"
     ]
    },
    {
     "name": "stdin",
     "output_type": "stream",
     "text": [
      " 9 1\n"
     ]
    },
    {
     "name": "stdout",
     "output_type": "stream",
     "text": [
      "Case #5: 10\n"
     ]
    }
   ],
   "source": [
    "Count=int(input())\n",
    "for c in range(1,Count+1):\n",
    "    A,B=map(int,input().split())\n",
    "    print(\"Case #\"+str(c)+\":\",A+B)"
   ]
  },
  {
   "cell_type": "markdown",
   "id": "562ca0db-4acc-423f-8fe8-122876b702dc",
   "metadata": {},
   "source": [
    "<h3> 8. A+B-8"
   ]
  },
  {
   "cell_type": "code",
   "execution_count": 35,
   "id": "572d4f40-8c4b-464d-be80-2478740596fc",
   "metadata": {},
   "outputs": [
    {
     "name": "stdin",
     "output_type": "stream",
     "text": [
      " 3\n",
      " 1 2\n"
     ]
    },
    {
     "name": "stdout",
     "output_type": "stream",
     "text": [
      "Case #1: 1 + 2 = 3\n"
     ]
    },
    {
     "name": "stdin",
     "output_type": "stream",
     "text": [
      " 3 4\n"
     ]
    },
    {
     "name": "stdout",
     "output_type": "stream",
     "text": [
      "Case #2: 3 + 4 = 7\n"
     ]
    },
    {
     "name": "stdin",
     "output_type": "stream",
     "text": [
      " 5 6\n"
     ]
    },
    {
     "name": "stdout",
     "output_type": "stream",
     "text": [
      "Case #3: 5 + 6 = 11\n"
     ]
    }
   ],
   "source": [
    "Count=int(input())\n",
    "for c in range(1,Count+1):\n",
    "    A,B=map(int,input().split())\n",
    "    print(\"Case #\"+str(c)+\":\",A,\"+\",B,\"=\",A+B)"
   ]
  },
  {
   "cell_type": "markdown",
   "id": "e3516e2b-aa8b-4250-901c-45205aa98ff4",
   "metadata": {},
   "source": [
    "<h3> 9. 별 찍기-1"
   ]
  },
  {
   "cell_type": "code",
   "execution_count": 39,
   "id": "529edf29-105e-4523-bf81-e808ad768d21",
   "metadata": {},
   "outputs": [
    {
     "name": "stdin",
     "output_type": "stream",
     "text": [
      " 5\n"
     ]
    },
    {
     "name": "stdout",
     "output_type": "stream",
     "text": [
      "*\n",
      "\n",
      "**\n",
      "\n",
      "***\n",
      "\n",
      "****\n",
      "\n",
      "*****\n",
      "\n"
     ]
    }
   ],
   "source": [
    "Count=int(input())\n",
    "for c in range(1,Count+1):\n",
    "    print(\"*\"*c)"
   ]
  },
  {
   "cell_type": "markdown",
   "id": "30a45eb9-4d46-42ee-8058-db4917c8e2a2",
   "metadata": {},
   "source": [
    "<h3> 10. 별 찍기-2"
   ]
  },
  {
   "cell_type": "code",
   "execution_count": 50,
   "id": "e06dbbf0-1cd8-4846-96d6-0a95474bbebc",
   "metadata": {},
   "outputs": [
    {
     "name": "stdin",
     "output_type": "stream",
     "text": [
      " 8\n"
     ]
    },
    {
     "name": "stdout",
     "output_type": "stream",
     "text": [
      "       *\n",
      "      **\n",
      "     ***\n",
      "    ****\n",
      "   *****\n",
      "  ******\n",
      " *******\n",
      "********\n"
     ]
    }
   ],
   "source": [
    "Count=int(input())\n",
    "for c in range(1,Count+1):\n",
    "    print(\" \"*(Count-c)+\"*\"*c)"
   ]
  },
  {
   "cell_type": "markdown",
   "id": "b55a754a-40be-4203-9027-c46fac72c10b",
   "metadata": {},
   "source": [
    "<h3> 11. X보다 작은 수"
   ]
  },
  {
   "cell_type": "code",
   "execution_count": 52,
   "id": "85dbe178-32ea-438a-a4ba-7c201aec4da6",
   "metadata": {},
   "outputs": [
    {
     "name": "stdin",
     "output_type": "stream",
     "text": [
      " 10 9\n",
      " 1 2 100 100\n"
     ]
    },
    {
     "name": "stdout",
     "output_type": "stream",
     "text": [
      "1 2 "
     ]
    }
   ],
   "source": [
    "N,X=map(int,input().split())\n",
    "\n",
    "A = list(map(int, input().split(\" \")))\n",
    "\n",
    "for i in A:\n",
    "    if X > i:\n",
    "        print(i, end=\" \")\n",
    "        \n",
    "# N은 Python에선 필요가 없다. 이는 다른 언어를 사용할 때 필요한 것이기 때문에 Python에서는 고려하지 않아도 된다"
   ]
  },
  {
   "cell_type": "code",
   "execution_count": 59,
   "id": "e4f6c840-f189-4023-b219-e6f080f9a10d",
   "metadata": {},
   "outputs": [
    {
     "name": "stdout",
     "output_type": "stream",
     "text": [
      "1 3 5\n",
      "[1, 2, 3]\n"
     ]
    }
   ],
   "source": [
    "print(*[1,3,5])\n",
    "print([1,2,3])\n",
    "\n",
    "# *의 의미 찾아보자"
   ]
  }
 ],
 "metadata": {
  "kernelspec": {
   "display_name": "Python 3",
   "language": "python",
   "name": "python3"
  },
  "language_info": {
   "codemirror_mode": {
    "name": "ipython",
    "version": 3
   },
   "file_extension": ".py",
   "mimetype": "text/x-python",
   "name": "python",
   "nbconvert_exporter": "python",
   "pygments_lexer": "ipython3",
   "version": "3.8.8"
  }
 },
 "nbformat": 4,
 "nbformat_minor": 5
}
