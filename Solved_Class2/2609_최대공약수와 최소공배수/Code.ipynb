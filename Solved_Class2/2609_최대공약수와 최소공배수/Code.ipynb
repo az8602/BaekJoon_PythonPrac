{
 "cells": [
  {
   "cell_type": "code",
   "execution_count": 1,
   "id": "6e8d3889-ff6a-44bc-b5bc-91fd3c72b983",
   "metadata": {},
   "outputs": [
    {
     "name": "stdout",
     "output_type": "stream",
     "text": [
      "6\n",
      "72\n"
     ]
    }
   ],
   "source": [
    "import sys\n",
    "sys.stdin=open(\".\\Input.txt\")\n",
    "\n",
    "def gcf(m,n):\n",
    "    if m==0 or n==0:\n",
    "        return m+n\n",
    "    else:\n",
    "        if m>n:\n",
    "            m%=n\n",
    "            return gcf(m,n)\n",
    "        else:\n",
    "            n%=m\n",
    "            return gcf(m,n)\n",
    "\n",
    "def lcm(m,n,t):\n",
    "    return (m//t)*(n//t)*t\n",
    "\n",
    "\n",
    "M,N=map(int,sys.stdin.readline().strip().split())\n",
    "a=gcf(M,N)\n",
    "b=lcm(M,N,a)\n",
    "print(a)\n",
    "print(b)"
   ]
  }
 ],
 "metadata": {
  "kernelspec": {
   "display_name": "Python 3",
   "language": "python",
   "name": "python3"
  },
  "language_info": {
   "codemirror_mode": {
    "name": "ipython",
    "version": 3
   },
   "file_extension": ".py",
   "mimetype": "text/x-python",
   "name": "python",
   "nbconvert_exporter": "python",
   "pygments_lexer": "ipython3",
   "version": "3.8.8"
  }
 },
 "nbformat": 4,
 "nbformat_minor": 5
}
