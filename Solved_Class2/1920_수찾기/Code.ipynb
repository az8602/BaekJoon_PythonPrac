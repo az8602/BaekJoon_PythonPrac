{
 "cells": [
  {
   "cell_type": "code",
   "execution_count": 1,
   "id": "c2e3b808-8867-47f2-80ce-f4a23ed7ca89",
   "metadata": {},
   "outputs": [
    {
     "name": "stdout",
     "output_type": "stream",
     "text": [
      "1\n",
      "1\n",
      "0\n",
      "0\n",
      "1\n"
     ]
    }
   ],
   "source": [
    "import sys\n",
    "sys.stdin=open(\".\\Input.txt\")\n",
    "\n",
    "N=sys.stdin.readline()\n",
    "Nlist=list(map(int,sys.stdin.readline().strip().split()))\n",
    "Nlist.sort()\n",
    "M=sys.stdin.readline()\n",
    "Mlist=list(map(int,sys.stdin.readline().strip().split()))\n",
    "\n",
    "def isin(n,nlist):\n",
    "    left=0\n",
    "    right=len(nlist)-1\n",
    "    \n",
    "    while left<=right:\n",
    "        mid=(left+right)//2\n",
    "        \n",
    "        if nlist[mid]==n:\n",
    "            return 1\n",
    "        elif nlist[mid]>n:\n",
    "            right=mid-1\n",
    "        else:\n",
    "            left=mid+1\n",
    "            \n",
    "    return 0\n",
    "\n",
    "for x in Mlist:\n",
    "    print(isin(x,Nlist))"
   ]
  }
 ],
 "metadata": {
  "kernelspec": {
   "display_name": "Python 3",
   "language": "python",
   "name": "python3"
  },
  "language_info": {
   "codemirror_mode": {
    "name": "ipython",
    "version": 3
   },
   "file_extension": ".py",
   "mimetype": "text/x-python",
   "name": "python",
   "nbconvert_exporter": "python",
   "pygments_lexer": "ipython3",
   "version": "3.8.8"
  }
 },
 "nbformat": 4,
 "nbformat_minor": 5
}
