{
 "cells": [
  {
   "cell_type": "code",
   "execution_count": 3,
   "id": "3f4fa589-43b5-4fd9-a114-91e78ff003c2",
   "metadata": {},
   "outputs": [
    {
     "name": "stdout",
     "output_type": "stream",
     "text": [
      "yes\n",
      "no\n",
      "yes\n"
     ]
    }
   ],
   "source": [
    "import sys\n",
    "sys.stdin=open(\"./Input.txt\")\n",
    "\n",
    "while True:\n",
    "    N=int(sys.stdin.readline())\n",
    "    \n",
    "    if N==0:\n",
    "        break     \n",
    "        \n",
    "    if N==int(str(N)[::-1]):\n",
    "        print(\"yes\")\n",
    "    else:\n",
    "        print(\"no\")\n"
   ]
  }
 ],
 "metadata": {
  "kernelspec": {
   "display_name": "Python 3",
   "language": "python",
   "name": "python3"
  },
  "language_info": {
   "codemirror_mode": {
    "name": "ipython",
    "version": 3
   },
   "file_extension": ".py",
   "mimetype": "text/x-python",
   "name": "python",
   "nbconvert_exporter": "python",
   "pygments_lexer": "ipython3",
   "version": "3.8.8"
  }
 },
 "nbformat": 4,
 "nbformat_minor": 5
}
