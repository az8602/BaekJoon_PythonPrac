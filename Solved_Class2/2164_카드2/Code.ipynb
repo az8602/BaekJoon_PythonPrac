{
 "cells": [
  {
   "cell_type": "code",
   "execution_count": 1,
   "id": "dfdbb513-7e2c-4df2-8e4a-8166b897acdd",
   "metadata": {},
   "outputs": [
    {
     "name": "stdout",
     "output_type": "stream",
     "text": [
      "475712\n"
     ]
    }
   ],
   "source": [
    "import sys\n",
    "from collections import deque\n",
    "sys.stdin=open(\".\\Input.txt\")\n",
    "\n",
    "dq=deque([x for x in range(1,int(sys.stdin.readline())+1)])\n",
    "\n",
    "while len(dq)!=1:\n",
    "    dq.popleft()\n",
    "    dq.append(dq[0])\n",
    "    dq.popleft()\n",
    "print(dq[0])"
   ]
  }
 ],
 "metadata": {
  "kernelspec": {
   "display_name": "Python 3",
   "language": "python",
   "name": "python3"
  },
  "language_info": {
   "codemirror_mode": {
    "name": "ipython",
    "version": 3
   },
   "file_extension": ".py",
   "mimetype": "text/x-python",
   "name": "python",
   "nbconvert_exporter": "python",
   "pygments_lexer": "ipython3",
   "version": "3.8.8"
  }
 },
 "nbformat": 4,
 "nbformat_minor": 5
}
