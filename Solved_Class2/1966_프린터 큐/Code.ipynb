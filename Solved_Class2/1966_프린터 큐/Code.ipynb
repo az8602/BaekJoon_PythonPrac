{
 "cells": [
  {
   "cell_type": "code",
   "execution_count": 1,
   "id": "b137d783-f8ab-4e55-a4ea-778994546927",
   "metadata": {},
   "outputs": [
    {
     "name": "stdout",
     "output_type": "stream",
     "text": [
      "1\n",
      "2\n",
      "5\n"
     ]
    }
   ],
   "source": [
    "import sys\n",
    "sys.stdin=open(\".\\Input.txt\")\n",
    "\n",
    "n = int(sys.stdin.readline())\n",
    "\n",
    "for _ in range(n):\n",
    "    _,m = map(int,sys.stdin.readline().split())\n",
    "    nlist = list(map(int,sys.stdin.readline().split()))\n",
    "    \n",
    "    count = 0\n",
    "    \n",
    "    while True:\n",
    "        count+=1\n",
    "        x = nlist[nlist.index(max(nlist)):]\n",
    "        y = nlist[:nlist.index(max(nlist))]\n",
    "\n",
    "        if m>nlist.index(max(nlist)):\n",
    "            m-=(nlist.index(max(nlist))+1)\n",
    "        elif m<nlist.index(max(nlist)):\n",
    "            m+=(len(nlist)-nlist.index(max(nlist))-1)\n",
    "        else:\n",
    "            break\n",
    "        \n",
    "        nlist = x[1:]+y\n",
    "        \n",
    "    print(count)"
   ]
  }
 ],
 "metadata": {
  "kernelspec": {
   "display_name": "Python 3",
   "language": "python",
   "name": "python3"
  },
  "language_info": {
   "codemirror_mode": {
    "name": "ipython",
    "version": 3
   },
   "file_extension": ".py",
   "mimetype": "text/x-python",
   "name": "python",
   "nbconvert_exporter": "python",
   "pygments_lexer": "ipython3",
   "version": "3.8.8"
  }
 },
 "nbformat": 4,
 "nbformat_minor": 5
}
