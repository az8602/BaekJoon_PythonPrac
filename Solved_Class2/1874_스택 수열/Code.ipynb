{
 "cells": [
  {
   "cell_type": "code",
   "execution_count": 1,
   "id": "54f18996-78e3-446a-90ec-6ecaae486a4a",
   "metadata": {},
   "outputs": [
    {
     "name": "stdout",
     "output_type": "stream",
     "text": [
      "NO\n"
     ]
    }
   ],
   "source": [
    "import sys\n",
    "sys.stdin=open(\".\\Input.txt\")\n",
    "\n",
    "def mkstack(N,result):\n",
    "    Nlist=[x for x in range(N,0,-1)]\n",
    "    stack=[0]\n",
    "    XOlist=[]\n",
    "    swich=False\n",
    "    for x in result:\n",
    "        if stack[-1]!=x:\n",
    "            while stack[-1]!=x:\n",
    "                \n",
    "                XOlist.append(\"+\")\n",
    "                if len(Nlist)==0:\n",
    "                    swich=True\n",
    "                    break\n",
    "                stack.append(Nlist.pop())\n",
    "            \n",
    "\n",
    "        if stack[-1]==x:\n",
    "            XOlist.append(\"-\")\n",
    "            stack.pop()\n",
    "        if swich:\n",
    "            break\n",
    "    if swich:\n",
    "        print(\"NO\")\n",
    "    else:\n",
    "        for y in XOlist:\n",
    "            print(y)\n",
    "        \n",
    "        \n",
    "N=int(sys.stdin.readline())\n",
    "result=[]\n",
    "\n",
    "for _ in range(N):\n",
    "    result.append(int(sys.stdin.readline()))\n",
    "    \n",
    "mkstack(N,result)"
   ]
  }
 ],
 "metadata": {
  "kernelspec": {
   "display_name": "Python 3",
   "language": "python",
   "name": "python3"
  },
  "language_info": {
   "codemirror_mode": {
    "name": "ipython",
    "version": 3
   },
   "file_extension": ".py",
   "mimetype": "text/x-python",
   "name": "python",
   "nbconvert_exporter": "python",
   "pygments_lexer": "ipython3",
   "version": "3.8.8"
  }
 },
 "nbformat": 4,
 "nbformat_minor": 5
}
