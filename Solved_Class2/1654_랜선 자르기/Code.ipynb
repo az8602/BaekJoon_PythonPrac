{
 "cells": [
  {
   "cell_type": "markdown",
   "id": "5f69e0fb-f008-40fe-87a7-26369c99030f",
   "metadata": {},
   "source": [
    "<h3> 시간초과, 코드 수정 필요"
   ]
  },
  {
   "cell_type": "code",
   "execution_count": 1,
   "id": "c4829247-c5e6-4e6d-a3c2-2ed6df3218b0",
   "metadata": {},
   "outputs": [
    {
     "name": "stdout",
     "output_type": "stream",
     "text": [
      "200\n"
     ]
    }
   ],
   "source": [
    "import sys\n",
    "sys.stdin=open(\"./Input.txt\")\n",
    "\n",
    "K,N=map(int,sys.stdin.readline().split())\n",
    "Klist=list()\n",
    "for x in range(K):\n",
    "    Klist.append(int(sys.stdin.readline()))\n",
    "\n",
    "maxY=int((sum(Klist)/N))\n",
    "\n",
    "while True:\n",
    "    checkN=0\n",
    "    for y in Klist:\n",
    "        checkN+=y//maxY\n",
    "    \n",
    "    if N<=checkN:\n",
    "        print(maxY)\n",
    "        break\n",
    "    else:\n",
    "        maxY-=1"
   ]
  },
  {
   "cell_type": "code",
   "execution_count": 2,
   "id": "62d996a9-ae14-4af0-83d4-012d6861e600",
   "metadata": {},
   "outputs": [
    {
     "name": "stdout",
     "output_type": "stream",
     "text": [
      "200\n"
     ]
    }
   ],
   "source": [
    "import sys\n",
    "sys.stdin=open(\"./Input.txt\")\n",
    "\n",
    "K,N=map(int,sys.stdin.readline().split())\n",
    "Klist=list()\n",
    "\n",
    "for x in range(K):\n",
    "    Klist.append(int(sys.stdin.readline()))\n",
    "    \n",
    "left=1\n",
    "right=sum(Klist)//N\n",
    "mid=(left+right)//2\n",
    "\n",
    "while True:\n",
    "    checkN=0\n",
    "    for y in Klist:\n",
    "        checkN+=y//mid\n",
    "        \n",
    "    if N<=checkN:\n",
    "        left=mid+1\n",
    "    else:\n",
    "        right=mid-1\n",
    "    mid=(left+right)//2\n",
    "    \n",
    "    if right<left:\n",
    "        break\n",
    "print(mid)"
   ]
  },
  {
   "cell_type": "markdown",
   "id": "941fc945-a348-40b6-9647-ae1e844a253d",
   "metadata": {},
   "source": [
    "<h3> 이진탐색(이분탐색) 참고"
   ]
  },
  {
   "cell_type": "markdown",
   "id": "c58297cb-079e-438c-9c49-71717125e744",
   "metadata": {},
   "source": [
    "https://wootool.tistory.com/62"
   ]
  }
 ],
 "metadata": {
  "kernelspec": {
   "display_name": "Python 3",
   "language": "python",
   "name": "python3"
  },
  "language_info": {
   "codemirror_mode": {
    "name": "ipython",
    "version": 3
   },
   "file_extension": ".py",
   "mimetype": "text/x-python",
   "name": "python",
   "nbconvert_exporter": "python",
   "pygments_lexer": "ipython3",
   "version": "3.8.8"
  }
 },
 "nbformat": 4,
 "nbformat_minor": 5
}
