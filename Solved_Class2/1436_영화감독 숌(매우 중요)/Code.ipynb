{
 "cells": [
  {
   "cell_type": "code",
   "execution_count": 71,
   "id": "06cc32be-631c-4eb3-b6d3-ff5371c9accd",
   "metadata": {},
   "outputs": [
    {
     "name": "stdout",
     "output_type": "stream",
     "text": [
      "1666\n"
     ]
    }
   ],
   "source": [
    "import sys\n",
    "sys.stdin=open(\"./Input.txt\")\n",
    "\n",
    "N=int(sys.stdin.readline())\n",
    "Nlist=list()\n",
    "\n",
    "for a in range(10):\n",
    "    for b in range(10):\n",
    "        for c in range(10):\n",
    "            for d in range(10):\n",
    "                Nlist.append(int(str(a)+str(b)+str(c)+str(d)+\"666\"))\n",
    "                Nlist.append(int(str(a)+str(b)+str(c)+\"666\"+str(d)))\n",
    "                Nlist.append(int(str(a)+str(b)+\"666\"+str(c)+str(d)))\n",
    "                Nlist.append(int(str(a)+\"666\"+str(b)+str(c)+str(d)))\n",
    "                Nlist.append(int(\"666\"+str(a)+str(b)+str(c)+str(d)))\n",
    "                \n",
    "Nlist=list(set(Nlist))\n",
    "Nlist.sort()\n",
    "print(Nlist[N-1])"
   ]
  },
  {
   "cell_type": "code",
   "execution_count": 73,
   "id": "5f3ba41f-3a3a-4cda-8a0c-d6e24eb847b7",
   "metadata": {},
   "outputs": [
    {
     "name": "stdin",
     "output_type": "stream",
     "text": [
      " 5\n"
     ]
    },
    {
     "name": "stdout",
     "output_type": "stream",
     "text": [
      "4666\n"
     ]
    }
   ],
   "source": [
    "print([i for i in range(9**7)if\"666\"in str(i)][int(input())-1])"
   ]
  },
  {
   "cell_type": "markdown",
   "id": "5cacf05b-6844-4d16-9767-027216c2dd90",
   "metadata": {},
   "source": [
    "<h3> 생각의 전환\n",
    "<h6> 666이 들어간 수의 규칙을 찾는 것이 아닌 666이 들어간 데이터를 10000개 이상 만들면 되는거다!\n",
    "<h6> 파이썬은 문자열 안에 666이 있는지 확인할 수 있으므로 정수값을 문자열로 바꿔서 조회하는 식으로 위의 코드처럼 간단히 가능"
   ]
  }
 ],
 "metadata": {
  "kernelspec": {
   "display_name": "Python 3",
   "language": "python",
   "name": "python3"
  },
  "language_info": {
   "codemirror_mode": {
    "name": "ipython",
    "version": 3
   },
   "file_extension": ".py",
   "mimetype": "text/x-python",
   "name": "python",
   "nbconvert_exporter": "python",
   "pygments_lexer": "ipython3",
   "version": "3.8.8"
  }
 },
 "nbformat": 4,
 "nbformat_minor": 5
}
