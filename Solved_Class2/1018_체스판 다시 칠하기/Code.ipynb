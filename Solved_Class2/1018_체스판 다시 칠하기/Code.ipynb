{
 "cells": [
  {
   "cell_type": "code",
   "execution_count": 104,
   "id": "17d55a15-294b-44d4-9494-d1e9ffd9f5d9",
   "metadata": {},
   "outputs": [
    {
     "name": "stdout",
     "output_type": "stream",
     "text": [
      "12\n"
     ]
    }
   ],
   "source": [
    "import sys\n",
    "sys.stdin=open(\"./Input.txt\")\n",
    "\n",
    "R,C=map(int,sys.stdin.readline().split())\n",
    "\n",
    "mntable=list()\n",
    "\n",
    "chess1=\"WBWBWBWBBWBWBWBW\"*4\n",
    "chess2=\"BWBWBWBWWBWBWBWB\"*4\n",
    "\n",
    "for x in range(R):\n",
    "    mntable.append(sys.stdin.readline().strip())\n",
    "\n",
    "min_list=list()\n",
    "\n",
    "for i in range(R-7): # 3 = 0,1,2\n",
    "    for j in range(C-7): # 6 - 0,1,2,3,4,5\n",
    "                \n",
    "        chess=\"\"\n",
    "        sum1=len(chess1)\n",
    "        sum2=len(chess2)\n",
    "        \n",
    "        for z in range(8):\n",
    "            chess+=mntable[i+z][j:j+8]\n",
    "        \n",
    "        for k in range(0,len(chess)):\n",
    "            if chess[k]==chess1[k]:\n",
    "                sum1-=1\n",
    "            if chess[k]==chess2[k]:\n",
    "                sum2-=1\n",
    "        min_list.append(min(sum1,sum2))\n",
    "            \n",
    "print(min(min_list))"
   ]
  },
  {
   "cell_type": "code",
   "execution_count": 105,
   "id": "8ce1c67e-dc17-4078-be67-1e9ae012d9d2",
   "metadata": {},
   "outputs": [
    {
     "data": {
      "text/plain": [
       "[32, 28, 24, 20, 16, 12, 32, 29, 25, 23, 19, 17, 32, 29, 26, 23, 20, 17]"
      ]
     },
     "execution_count": 105,
     "metadata": {},
     "output_type": "execute_result"
    }
   ],
   "source": [
    "min_list"
   ]
  },
  {
   "cell_type": "markdown",
   "id": "2b43294e-d6cc-4a36-996a-6c8f751a35ea",
   "metadata": {},
   "source": [
    "<h6> 여러 줄을 readline()으로 받을때 readline.strip()으로 공백을 제거해줘야 \\n이 인식되지 않는다\n",
    "   "
   ]
  }
 ],
 "metadata": {
  "kernelspec": {
   "display_name": "Python 3",
   "language": "python",
   "name": "python3"
  },
  "language_info": {
   "codemirror_mode": {
    "name": "ipython",
    "version": 3
   },
   "file_extension": ".py",
   "mimetype": "text/x-python",
   "name": "python",
   "nbconvert_exporter": "python",
   "pygments_lexer": "ipython3",
   "version": "3.8.8"
  }
 },
 "nbformat": 4,
 "nbformat_minor": 5
}
