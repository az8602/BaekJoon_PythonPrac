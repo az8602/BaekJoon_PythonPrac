{
 "cells": [
  {
   "cell_type": "code",
   "execution_count": 1,
   "id": "9da58112-4384-4e1a-afa6-9a266f406625",
   "metadata": {},
   "outputs": [
    {
     "name": "stdout",
     "output_type": "stream",
     "text": [
      "7\n"
     ]
    }
   ],
   "source": [
    "import sys\n",
    "sys.stdin=open(\".\\Input.txt\")\n",
    "\n",
    "Nlist=[]\n",
    "n=int(sys.stdin.readline())\n",
    "\n",
    "for _ in range(n):\n",
    "    m=int(sys.stdin.readline())\n",
    "    \n",
    "    if m==0:\n",
    "        Nlist.pop()\n",
    "    else:\n",
    "        Nlist.append(m)\n",
    "        \n",
    "print(sum(Nlist))"
   ]
  }
 ],
 "metadata": {
  "kernelspec": {
   "display_name": "Python 3",
   "language": "python",
   "name": "python3"
  },
  "language_info": {
   "codemirror_mode": {
    "name": "ipython",
    "version": 3
   },
   "file_extension": ".py",
   "mimetype": "text/x-python",
   "name": "python",
   "nbconvert_exporter": "python",
   "pygments_lexer": "ipython3",
   "version": "3.8.8"
  }
 },
 "nbformat": 4,
 "nbformat_minor": 5
}
