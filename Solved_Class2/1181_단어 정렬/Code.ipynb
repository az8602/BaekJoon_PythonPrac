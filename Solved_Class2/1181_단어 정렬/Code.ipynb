{
 "cells": [
  {
   "cell_type": "markdown",
   "id": "ebe3bfd4-b7e5-4c8c-bd64-2413fba16862",
   "metadata": {},
   "source": [
    "<h3> 성공코드"
   ]
  },
  {
   "cell_type": "code",
   "execution_count": 45,
   "id": "deed698c-e73d-4807-94c3-efe349ec43a1",
   "metadata": {},
   "outputs": [
    {
     "name": "stdout",
     "output_type": "stream",
     "text": [
      "i\n",
      "im\n",
      "it\n",
      "no\n",
      "but\n",
      "more\n",
      "wait\n",
      "wont\n",
      "yours\n",
      "cannot\n",
      "hesitate\n"
     ]
    }
   ],
   "source": [
    "import sys\n",
    "sys.stdin=open(\"./Input.txt\")\n",
    "\n",
    "N=int(sys.stdin.readline())\n",
    "Wordlist=list()\n",
    "lenlist=list()\n",
    "Sortedlist=list()\n",
    "\n",
    "for x in range(N):\n",
    "    Word=sys.stdin.readline().strip()\n",
    "    if Word not in Wordlist:\n",
    "        Wordlist.append(Word)\n",
    "        lenlist.append(len(Word))\n",
    "        \n",
    "for y in range(max(lenlist)+1):\n",
    "    mylist=[x for x in Wordlist if len(x)==y]\n",
    "    mylist.sort()\n",
    "    Sortedlist.extend(mylist)\n",
    "\n",
    "for z in Sortedlist:\n",
    "    print(z)"
   ]
  },
  {
   "cell_type": "markdown",
   "id": "e528279b-f27a-4664-bdea-4ce9f433dcb3",
   "metadata": {},
   "source": [
    "<h4> List Comprehension이란\n",
    "<h6> 이는 [x in x in iterable]형태로 이용된다.\n",
    "<h6> 위와 같이 조건과 일치하는 데이터를 추출할 때나 아래와 같이 리스트에 어떤 값을 연산할때 사용한다."
   ]
  },
  {
   "cell_type": "code",
   "execution_count": 46,
   "id": "f9e5d2a2-f18b-41fa-bb99-93e35b88e977",
   "metadata": {},
   "outputs": [
    {
     "name": "stdout",
     "output_type": "stream",
     "text": [
      "[4, 8, 10, 14]\n"
     ]
    }
   ],
   "source": [
    "list1=[2,4,5,7]\n",
    "list2=[2*x for x in list1]\n",
    "print(list2)"
   ]
  },
  {
   "cell_type": "markdown",
   "id": "f642a0c7-f2a3-4c9e-af3c-5eb62a23d357",
   "metadata": {},
   "source": [
    "<h3> 성공코드2"
   ]
  },
  {
   "cell_type": "code",
   "execution_count": 49,
   "id": "32a1f150-3fbf-4d10-8394-bc3d04111cf0",
   "metadata": {},
   "outputs": [
    {
     "name": "stdout",
     "output_type": "stream",
     "text": [
      "i\n",
      "im\n",
      "it\n",
      "no\n",
      "but\n",
      "more\n",
      "wait\n",
      "wont\n",
      "yours\n",
      "cannot\n",
      "hesitate\n"
     ]
    }
   ],
   "source": [
    "import sys\n",
    "sys.stdin=open(\"./Input.txt\")\n",
    "\n",
    "N=int(sys.stdin.readline())\n",
    "Wordlist=list()\n",
    "\n",
    "for x in range(N):\n",
    "    Word=sys.stdin.readline().strip()\n",
    "    if Word not in Wordlist:\n",
    "        Wordlist.append(Word)\n",
    "\n",
    "Wordlist.sort(key= lambda x : (len(x),x))\n",
    "\n",
    "for y in Wordlist:\n",
    "    print(y)"
   ]
  },
  {
   "cell_type": "markdown",
   "id": "dffb9afa-f511-492c-983a-7d48464f8ce3",
   "metadata": {},
   "source": [
    "<h4> lambda 표현식\n",
    "<h6> lmabda 인자 : 표현식\n",
    "<h6> 함수를 한줄로 표현할 수 있게 해주는 방법이다. 주로 일시적으로 쓰고 버리는 함수를 사용할 때 사용한다. "
   ]
  },
  {
   "cell_type": "markdown",
   "id": "e8522e92-3cbb-4739-ac9e-2c332e317cd0",
   "metadata": {},
   "source": [
    "<h3> 런타임 에러"
   ]
  },
  {
   "cell_type": "code",
   "execution_count": 5,
   "id": "ffa0748f-dac7-4e0b-a527-4b03d7da76d0",
   "metadata": {},
   "outputs": [
    {
     "name": "stdout",
     "output_type": "stream",
     "text": [
      "i\n",
      "im\n",
      "no\n",
      "it\n",
      "but\n",
      "more\n",
      "wait\n",
      "wont\n",
      "yours\n",
      "cannot\n",
      "hesitate\n"
     ]
    }
   ],
   "source": [
    "import sys\n",
    "sys.stdin=open(\"./Input.txt\")\n",
    "\n",
    "N=int(sys.stdin.readline())\n",
    "Wordlist=list()\n",
    "Wordlist.append(sys.stdin.readline().strip())\n",
    "count=0\n",
    "\n",
    "for x in range(1,N):\n",
    "    Word=sys.stdin.readline().strip()\n",
    "    \n",
    "    if Word not in Wordlist:\n",
    "        Wordlist.append(Word)\n",
    "        count+=1\n",
    "        \n",
    "        for y in range(count,0,-1):\n",
    "            if len(Wordlist[y-1])==len(Wordlist[y]):\n",
    "                for z in range(len(Wordlist[y])):\n",
    "                    if ord(Wordlist[y-1][z])>ord(Wordlist[y][z]):\n",
    "                        Wordlist[y-1],Wordlist[y]=Wordlist[y],Wordlist[y-1]\n",
    "                        \n",
    "            elif len(Wordlist[y-1])>len(Wordlist[y]):\n",
    "                Wordlist[y-1],Wordlist[y]=Wordlist[y],Wordlist[y-1]\n",
    "        \n",
    "for x in Wordlist:\n",
    "    print(x)"
   ]
  }
 ],
 "metadata": {
  "kernelspec": {
   "display_name": "Python 3",
   "language": "python",
   "name": "python3"
  },
  "language_info": {
   "codemirror_mode": {
    "name": "ipython",
    "version": 3
   },
   "file_extension": ".py",
   "mimetype": "text/x-python",
   "name": "python",
   "nbconvert_exporter": "python",
   "pygments_lexer": "ipython3",
   "version": "3.8.8"
  }
 },
 "nbformat": 4,
 "nbformat_minor": 5
}
