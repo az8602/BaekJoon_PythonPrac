{
 "cells": [
  {
   "cell_type": "markdown",
   "id": "e84a6f71-6654-4616-9713-0d006fc4940f",
   "metadata": {},
   "source": [
    "<h1> solved.ac Class1"
   ]
  },
  {
   "cell_type": "markdown",
   "id": "83ce631d-a4d3-4b56-8b69-cdb294e36a04",
   "metadata": {},
   "source": [
    "<h5> 앞서 해본 입출력과 사칙연산, if, for문가 겹치는 부분 존재(이부분은 제외하고 작성)"
   ]
  },
  {
   "cell_type": "markdown",
   "id": "e89fed05-ec3a-4b8c-b428-5b9266f7b6ec",
   "metadata": {},
   "source": [
    "<h3> 1152 단어의 개수"
   ]
  },
  {
   "cell_type": "code",
   "execution_count": 1,
   "id": "f8b62bb8-d709-46fd-96be-9ce8bdfea6ac",
   "metadata": {},
   "outputs": [
    {
     "name": "stdin",
     "output_type": "stream",
     "text": [
      " The Curious Case of Benjamin Button\n"
     ]
    },
    {
     "name": "stdout",
     "output_type": "stream",
     "text": [
      "6\n"
     ]
    }
   ],
   "source": [
    "print(len(input().split()))"
   ]
  },
  {
   "cell_type": "markdown",
   "id": "18c8c720-f6d7-4db4-b09c-108922569336",
   "metadata": {},
   "source": [
    "<h3> 1157 단어 공부"
   ]
  },
  {
   "cell_type": "code",
   "execution_count": 2,
   "id": "797d7294-a17e-4bd4-813d-833ff44e1f52",
   "metadata": {},
   "outputs": [
    {
     "name": "stdin",
     "output_type": "stream",
     "text": [
      " baaa\n"
     ]
    },
    {
     "name": "stdout",
     "output_type": "stream",
     "text": [
      "A\n"
     ]
    }
   ],
   "source": [
    "a=input().upper()\n",
    "wordlist=list(set(a))\n",
    "wordcount=list()\n",
    "for i in wordlist:\n",
    "    wordcount.append(a.count(i))\n",
    "\n",
    "max_index= list(filter(lambda x: wordcount[x] == max(wordcount), range(len(wordcount))))\\\n",
    "\n",
    "if len(max_index)==1:\n",
    "    print(wordlist[max_index[0]])\n",
    "else:\n",
    "    print(\"?\")"
   ]
  },
  {
   "cell_type": "code",
   "execution_count": 3,
   "id": "923eb59b-32b3-4d30-8fe1-5a7f77f45cc1",
   "metadata": {},
   "outputs": [
    {
     "name": "stdin",
     "output_type": "stream",
     "text": [
      " AAAbbADFZFDABVW\n"
     ]
    },
    {
     "name": "stdout",
     "output_type": "stream",
     "text": [
      "A\n"
     ]
    }
   ],
   "source": [
    "word = input().upper()\n",
    "cnt = [word.count(chr(i)) for i in range(65,91)] # chr(65) ~ chr(91) == A ~ Z\n",
    "print('?' if cnt.count(max(cnt))>1 else chr(cnt.index(max(cnt))+65))"
   ]
  },
  {
   "cell_type": "markdown",
   "id": "ca4489d0-dc52-4e96-a0fd-a010a2e5dc1c",
   "metadata": {},
   "source": [
    "<h6> chr()는 아스키코드를 문자열로 변환하는 함수  chr(65) ==> A\n",
    "<h6> ord()는 문자열을 아스키코드로 변환하는 함수  ord(A) ==> 65\n",
    "<h6> 아스키코드는 7비트 인코딩으로 0~127까지의 수자를 문자로 대응시킨 것이다"
   ]
  },
  {
   "cell_type": "markdown",
   "id": "85290ec4-62b2-46d4-836b-c456bb3db6c4",
   "metadata": {},
   "source": [
    "<h3> 1546 평균"
   ]
  },
  {
   "cell_type": "code",
   "execution_count": 4,
   "id": "5012996d-3657-4645-bd84-94071162d519",
   "metadata": {},
   "outputs": [
    {
     "name": "stdin",
     "output_type": "stream",
     "text": [
      " 3\n",
      " 40 80 60\n"
     ]
    },
    {
     "name": "stdout",
     "output_type": "stream",
     "text": [
      "75.0\n"
     ]
    }
   ],
   "source": [
    "N=int(input())\n",
    "A=list(map(int,input().split()))\n",
    "print((sum(A)*100)/(N*max(A)))"
   ]
  },
  {
   "cell_type": "markdown",
   "id": "04ed9f86-6ef0-4d16-9c4c-693ea615d7ec",
   "metadata": {},
   "source": [
    "<h3> 2475 검증수"
   ]
  },
  {
   "cell_type": "code",
   "execution_count": 5,
   "id": "71bb066a-2fa0-4dab-9802-9a13f32b3a82",
   "metadata": {},
   "outputs": [
    {
     "name": "stdin",
     "output_type": "stream",
     "text": [
      " 0 4 2 5 6\n"
     ]
    },
    {
     "name": "stdout",
     "output_type": "stream",
     "text": [
      "1\n"
     ]
    }
   ],
   "source": [
    "A=list(map(int,input().split()))\n",
    "sum=0\n",
    "for i in A:\n",
    "    sum+=i**2\n",
    "print(sum%10)"
   ]
  },
  {
   "cell_type": "markdown",
   "id": "3c69ecc0-9b31-4df0-8510-d1ab514029a5",
   "metadata": {},
   "source": [
    "<h3> 2577 숫자의 개수"
   ]
  },
  {
   "cell_type": "code",
   "execution_count": 6,
   "id": "3923e649-cac1-44f7-8426-e069a77d36ce",
   "metadata": {},
   "outputs": [
    {
     "name": "stdin",
     "output_type": "stream",
     "text": [
      " 150\n",
      " 266\n",
      " 427\n"
     ]
    },
    {
     "name": "stdout",
     "output_type": "stream",
     "text": [
      "3\n",
      "1\n",
      "0\n",
      "2\n",
      "0\n",
      "0\n",
      "0\n",
      "2\n",
      "0\n",
      "0\n"
     ]
    }
   ],
   "source": [
    "N=1\n",
    "for x in range(0,3):\n",
    "   N*=int(input())\n",
    "\n",
    "Nlist=[0,0,0,0,0,0,0,0,0,0]\n",
    "\n",
    "for x in str(N):\n",
    "    Nlist[int(x)]+=1\n",
    "\n",
    "for y in Nlist:\n",
    "    print(y)"
   ]
  },
  {
   "cell_type": "markdown",
   "id": "4355fa89-4762-485a-99e3-f54563231063",
   "metadata": {},
   "source": [
    "<h3> 11654 아스키 코드"
   ]
  },
  {
   "cell_type": "code",
   "execution_count": 7,
   "id": "30986a03-2b52-4260-8a03-68a32721389d",
   "metadata": {},
   "outputs": [
    {
     "name": "stdin",
     "output_type": "stream",
     "text": [
      " 9\n"
     ]
    },
    {
     "name": "stdout",
     "output_type": "stream",
     "text": [
      "57\n"
     ]
    }
   ],
   "source": [
    "print(ord(input()))"
   ]
  },
  {
   "cell_type": "markdown",
   "id": "9ed8b927-f632-4913-812a-0db6687ec0e2",
   "metadata": {},
   "source": [
    "<h3> 11720 숫자의 합"
   ]
  },
  {
   "cell_type": "code",
   "execution_count": 8,
   "id": "46ed4cf5-fe4c-4d3e-a8f6-c4ef93a22fa3",
   "metadata": {},
   "outputs": [
    {
     "name": "stdin",
     "output_type": "stream",
     "text": [
      " 4\n",
      " 4321\n"
     ]
    },
    {
     "name": "stdout",
     "output_type": "stream",
     "text": [
      "10\n"
     ]
    }
   ],
   "source": [
    "N=input()\n",
    "sum=0\n",
    "for x in input():\n",
    "    sum+=int(x)\n",
    "print(sum)"
   ]
  },
  {
   "cell_type": "markdown",
   "id": "587cbdc9-635d-4733-8e2f-55967489ea0b",
   "metadata": {},
   "source": [
    "<h3> 2675 문자열 반복"
   ]
  },
  {
   "cell_type": "code",
   "execution_count": 9,
   "id": "5ba358b6-53b9-4bce-a9e4-1804cd78ca15",
   "metadata": {},
   "outputs": [
    {
     "name": "stdin",
     "output_type": "stream",
     "text": [
      " 2\n",
      " 3 ABC\n"
     ]
    },
    {
     "name": "stdout",
     "output_type": "stream",
     "text": [
      "AAABBBCCC\n"
     ]
    },
    {
     "name": "stdin",
     "output_type": "stream",
     "text": [
      " 5 /HTP\n"
     ]
    },
    {
     "name": "stdout",
     "output_type": "stream",
     "text": [
      "/////HHHHHTTTTTPPPPP\n"
     ]
    }
   ],
   "source": [
    "T=int(input())\n",
    "\n",
    "for x in range(0,T):\n",
    "    R,S=input().split()\n",
    "    for y in S:\n",
    "        print(y*int(R),end=\"\")\n",
    "    print(\"\")\n",
    "    \n",
    "# 마지막에 print(\"\")를 안해서 틀렸다. --> 출력 상에선 입력을 2번받으므로 사용 가능, but 개행이 없다는 것을 숙지하자"
   ]
  },
  {
   "cell_type": "markdown",
   "id": "f15f31fa-e15b-4b06-ab79-59b23e9b816e",
   "metadata": {},
   "source": [
    "<h3> 2908 상수"
   ]
  },
  {
   "cell_type": "code",
   "execution_count": 10,
   "id": "81ee9203-e7b3-4fd2-828b-4afb27fef528",
   "metadata": {},
   "outputs": [
    {
     "name": "stdin",
     "output_type": "stream",
     "text": [
      " 839 237\n"
     ]
    },
    {
     "name": "stdout",
     "output_type": "stream",
     "text": [
      "938\n"
     ]
    }
   ],
   "source": [
    "A=input().split()\n",
    "print(A[int(A[0][::-1])<int(A[1][::-1])][::-1])"
   ]
  },
  {
   "cell_type": "markdown",
   "id": "782e5e88-c834-478d-9380-c72c8ab06b5a",
   "metadata": {},
   "source": [
    "<h3> 2920 음계"
   ]
  },
  {
   "cell_type": "code",
   "execution_count": 11,
   "id": "693ae04f-1c07-43ef-8cae-5c95ed41014f",
   "metadata": {},
   "outputs": [
    {
     "name": "stdin",
     "output_type": "stream",
     "text": [
      " 8 1 7 2 6 3 5 4\n"
     ]
    },
    {
     "name": "stdout",
     "output_type": "stream",
     "text": [
      "mixed\n"
     ]
    }
   ],
   "source": [
    "A = input().split()\n",
    "B = sorted(A)\n",
    "C = sorted(A,reverse=True)\n",
    "\n",
    "if A==B:\n",
    "    print(\"ascending\")\n",
    "elif A==C:\n",
    "    print(\"descending\")\n",
    "else:\n",
    "    print(\"mixed\")"
   ]
  },
  {
   "cell_type": "markdown",
   "id": "397f80a0-7880-46d3-a406-e8092a936717",
   "metadata": {},
   "source": [
    "<h3> 3052 나머지"
   ]
  },
  {
   "cell_type": "code",
   "execution_count": 12,
   "id": "95be5794-c883-4e9e-848d-148c6289d164",
   "metadata": {},
   "outputs": [
    {
     "name": "stdin",
     "output_type": "stream",
     "text": [
      " 1\n",
      " 2\n",
      " 3\n",
      " 4\n",
      " 5\n",
      " 6\n",
      " 7\n",
      " 8\n",
      " 9\n",
      " 10\n"
     ]
    },
    {
     "name": "stdout",
     "output_type": "stream",
     "text": [
      "10\n"
     ]
    }
   ],
   "source": [
    "L=list()\n",
    "for x in range(10):\n",
    "    A=int(input())\n",
    "    L.append(A%42)\n",
    "    \n",
    "print(len(set(L)))"
   ]
  },
  {
   "cell_type": "markdown",
   "id": "760a7bd9-61ad-4ec2-8d51-e6a901e4c0de",
   "metadata": {},
   "source": [
    "<h3> 8958 OX퀴즈"
   ]
  },
  {
   "cell_type": "code",
   "execution_count": 13,
   "id": "7e9ec0a3-bfee-4506-9317-32ac49ca3d41",
   "metadata": {},
   "outputs": [
    {
     "name": "stdin",
     "output_type": "stream",
     "text": [
      " 5\n",
      " OOXXOXXOOO\n"
     ]
    },
    {
     "name": "stdout",
     "output_type": "stream",
     "text": [
      "10\n"
     ]
    },
    {
     "name": "stdin",
     "output_type": "stream",
     "text": [
      " OOXXOOXXOO\n"
     ]
    },
    {
     "name": "stdout",
     "output_type": "stream",
     "text": [
      "9\n"
     ]
    },
    {
     "name": "stdin",
     "output_type": "stream",
     "text": [
      " OXOXOXOXOXOXOX\n"
     ]
    },
    {
     "name": "stdout",
     "output_type": "stream",
     "text": [
      "7\n"
     ]
    },
    {
     "name": "stdin",
     "output_type": "stream",
     "text": [
      " OOOOOOOOOO\n"
     ]
    },
    {
     "name": "stdout",
     "output_type": "stream",
     "text": [
      "55\n"
     ]
    },
    {
     "name": "stdin",
     "output_type": "stream",
     "text": [
      " OOOOXOOOOXOOOOX\n"
     ]
    },
    {
     "name": "stdout",
     "output_type": "stream",
     "text": [
      "30\n"
     ]
    }
   ],
   "source": [
    "N=int(input())\n",
    "\n",
    "for x in range(N):\n",
    "    OX=input()\n",
    "    sum=0\n",
    "    mid_score=0\n",
    "    for j in OX:\n",
    "        if j==\"O\":\n",
    "            mid_score+=1\n",
    "            sum+=mid_score\n",
    "        else:\n",
    "            mid_score=0\n",
    "    print(sum)"
   ]
  },
  {
   "cell_type": "markdown",
   "id": "fc468436-1de1-4629-bc79-0f7f5de94dfb",
   "metadata": {},
   "source": [
    "<h3> 10809 알파벳찾기"
   ]
  },
  {
   "cell_type": "code",
   "execution_count": 14,
   "id": "534ec42c-aba5-4fd8-b038-c5fca15dc142",
   "metadata": {},
   "outputs": [
    {
     "name": "stdin",
     "output_type": "stream",
     "text": [
      " baekjoon\n"
     ]
    },
    {
     "name": "stdout",
     "output_type": "stream",
     "text": [
      "1 0 -1 -1 2 -1 -1 -1 -1 4 3 -1 -1 7 5 -1 -1 -1 -1 -1 -1 -1 -1 -1 -1 -1\n"
     ]
    }
   ],
   "source": [
    "Eng=input()\n",
    "Slist=list(range(97,123))\n",
    "Elist=\"-1 -1 -1 -1 -1 -1 -1 -1 -1 -1 -1 -1 -1 -1 -1 -1 -1 -1 -1 -1 -1 -1 -1 -1 -1 -1\".split()\n",
    "\n",
    "for x in range(len(Eng)):\n",
    "    if Elist[Slist.index(int(ord(Eng[x])))]==\"-1\":\n",
    "        Elist[Slist.index(int(ord(Eng[x])))]=str(x)\n",
    "print(\" \".join(Elist))"
   ]
  },
  {
   "cell_type": "code",
   "execution_count": 15,
   "id": "3394e6ef-ae91-4d58-b47d-a90fe3a3cd1b",
   "metadata": {},
   "outputs": [
    {
     "name": "stdin",
     "output_type": "stream",
     "text": [
      " baekjoon\n"
     ]
    },
    {
     "name": "stdout",
     "output_type": "stream",
     "text": [
      "1 0 -1 -1 2 -1 -1 -1 -1 4 3 -1 -1 7 5 -1 -1 -1 -1 -1 -1 -1 -1 -1 -1 -1 "
     ]
    }
   ],
   "source": [
    "a = input()\n",
    " \n",
    "for i in range(97, 123, 1):\n",
    "    print(a.find(chr(i)),end=\" \") # find는 단어가 겹치면 맨 앞의 단어위치를 알려줌, 없으면 -1 출력"
   ]
  },
  {
   "cell_type": "markdown",
   "id": "6a5ed7f5-62fa-4f36-92ba-b228c067978e",
   "metadata": {},
   "source": [
    "<h3> 10818 최소, 최대"
   ]
  },
  {
   "cell_type": "code",
   "execution_count": 16,
   "id": "a0d9c14c-17fd-4123-b089-c64f02b708c9",
   "metadata": {},
   "outputs": [
    {
     "name": "stdin",
     "output_type": "stream",
     "text": [
      " 5\n",
      " 20 10 35 30 7\n"
     ]
    },
    {
     "name": "stdout",
     "output_type": "stream",
     "text": [
      "7 35\n"
     ]
    }
   ],
   "source": [
    "N=int(input())\n",
    "Numbers=list(map(int,input().split()))\n",
    "\n",
    "print(min(Numbers),max(Numbers))"
   ]
  },
  {
   "cell_type": "markdown",
   "id": "5a94c975-a439-4a40-a647-77a39c637946",
   "metadata": {},
   "source": [
    "https://www.itworld.co.kr/news/142374 를 참고하자"
   ]
  },
  {
   "cell_type": "markdown",
   "id": "552f54b3-b60f-4b1c-ab1a-6b23352c57cd",
   "metadata": {},
   "source": [
    "<h3> 10951 A+B-4"
   ]
  },
  {
   "cell_type": "code",
   "execution_count": 17,
   "id": "6cb4a769-cd8d-43a3-9732-9126d31dd138",
   "metadata": {},
   "outputs": [
    {
     "name": "stdin",
     "output_type": "stream",
     "text": [
      " 2 3\n"
     ]
    },
    {
     "name": "stdout",
     "output_type": "stream",
     "text": [
      "5\n"
     ]
    },
    {
     "name": "stdin",
     "output_type": "stream",
     "text": [
      " 1 5\n"
     ]
    },
    {
     "name": "stdout",
     "output_type": "stream",
     "text": [
      "6\n"
     ]
    },
    {
     "name": "stdin",
     "output_type": "stream",
     "text": [
      " \n"
     ]
    }
   ],
   "source": [
    "while True:\n",
    "    try:\n",
    "        A, B= map(int,input().split())\n",
    "        print(A+B)\n",
    "    except:\n",
    "        break"
   ]
  },
  {
   "cell_type": "markdown",
   "id": "bdbb6076-937e-4737-85b9-6b90c85dacf9",
   "metadata": {},
   "source": [
    "EOF : End of File로 이 문제에선 input개수가 주어져 있지 않으므로 위와 같은 식으로 구현하게 된다.\n",
    "\n",
    "이는 input이 A,B로 들어와야 하는데 엔터(파일이 끝남)을 하면 에러가 발생헤 except구문으로 빠지게 된다.\n",
    "\n",
    "https://www.acmicpc.net/board/view/28332 를 참고하자"
   ]
  },
  {
   "cell_type": "markdown",
   "id": "a9de65c2-25ef-461c-a73c-7cba73e83c20",
   "metadata": {},
   "source": [
    "<h3> 10952 A+B-5"
   ]
  },
  {
   "cell_type": "code",
   "execution_count": 18,
   "id": "a850575d-6282-42f5-8f36-79068c18f7a2",
   "metadata": {},
   "outputs": [
    {
     "name": "stdin",
     "output_type": "stream",
     "text": [
      " 1 1\n"
     ]
    },
    {
     "name": "stdout",
     "output_type": "stream",
     "text": [
      "2\n"
     ]
    },
    {
     "name": "stdin",
     "output_type": "stream",
     "text": [
      " 2 3\n"
     ]
    },
    {
     "name": "stdout",
     "output_type": "stream",
     "text": [
      "5\n"
     ]
    },
    {
     "name": "stdin",
     "output_type": "stream",
     "text": [
      " 0 0\n"
     ]
    }
   ],
   "source": [
    "while True:\n",
    "    A, B= map(int,input().split())\n",
    "    if A==0 and B==0:\n",
    "        break\n",
    "    else:\n",
    "        print(A+B)"
   ]
  }
 ],
 "metadata": {
  "kernelspec": {
   "display_name": "Python 3",
   "language": "python",
   "name": "python3"
  },
  "language_info": {
   "codemirror_mode": {
    "name": "ipython",
    "version": 3
   },
   "file_extension": ".py",
   "mimetype": "text/x-python",
   "name": "python",
   "nbconvert_exporter": "python",
   "pygments_lexer": "ipython3",
   "version": "3.8.8"
  }
 },
 "nbformat": 4,
 "nbformat_minor": 5
}
